{
 "cells": [
  {
   "cell_type": "markdown",
   "metadata": {},
   "source": [
    "# Исследование объявлений о продаже квартир\n",
    "\n",
    "В нашем распоряжении данные сервиса Яндекс.Недвижимость — архив объявлений о продаже квартир в Санкт-Петербурге и соседних населённых пунктов за несколько лет. Нужно определить рыночную стоимость объектов недвижимости. Моя задача — установить параметры. Это позволит построить автоматизированную систему: она отследит аномалии и мошенническую деятельность. \n",
    "\n",
    "По каждой квартире на продажу доступны два вида данных. Первые вписаны пользователем, вторые — получены автоматически на основе картографических данных. Например, расстояние до центра, аэропорта, ближайшего парка и водоёма. "
   ]
  },
  {
   "cell_type": "markdown",
   "metadata": {},
   "source": [
    "### Откроем файл с данными и изучим общую информацию. "
   ]
  },
  {
   "cell_type": "code",
   "execution_count": 1,
   "metadata": {},
   "outputs": [],
   "source": [
    "import pandas as pd\n",
    "import matplotlib.pyplot as plt\n",
    "import numpy as np\n",
    "import seaborn as sns"
   ]
  },
  {
   "cell_type": "code",
   "execution_count": 2,
   "metadata": {},
   "outputs": [
    {
     "name": "stdout",
     "output_type": "stream",
     "text": [
      "<class 'pandas.core.frame.DataFrame'>\n",
      "RangeIndex: 23699 entries, 0 to 23698\n",
      "Data columns (total 22 columns):\n",
      " #   Column                Non-Null Count  Dtype  \n",
      "---  ------                --------------  -----  \n",
      " 0   total_images          23699 non-null  int64  \n",
      " 1   last_price            23699 non-null  float64\n",
      " 2   total_area            23699 non-null  float64\n",
      " 3   first_day_exposition  23699 non-null  object \n",
      " 4   rooms                 23699 non-null  int64  \n",
      " 5   ceiling_height        14504 non-null  float64\n",
      " 6   floors_total          23613 non-null  float64\n",
      " 7   living_area           21796 non-null  float64\n",
      " 8   floor                 23699 non-null  int64  \n",
      " 9   is_apartment          2775 non-null   object \n",
      " 10  studio                23699 non-null  bool   \n",
      " 11  open_plan             23699 non-null  bool   \n",
      " 12  kitchen_area          21421 non-null  float64\n",
      " 13  balcony               12180 non-null  float64\n",
      " 14  locality_name         23650 non-null  object \n",
      " 15  airports_nearest      18157 non-null  float64\n",
      " 16  cityCenters_nearest   18180 non-null  float64\n",
      " 17  parks_around3000      18181 non-null  float64\n",
      " 18  parks_nearest         8079 non-null   float64\n",
      " 19  ponds_around3000      18181 non-null  float64\n",
      " 20  ponds_nearest         9110 non-null   float64\n",
      " 21  days_exposition       20518 non-null  float64\n",
      "dtypes: bool(2), float64(14), int64(3), object(3)\n",
      "memory usage: 3.7+ MB\n"
     ]
    },
    {
     "data": {
      "text/html": [
       "<div>\n",
       "<style scoped>\n",
       "    .dataframe tbody tr th:only-of-type {\n",
       "        vertical-align: middle;\n",
       "    }\n",
       "\n",
       "    .dataframe tbody tr th {\n",
       "        vertical-align: top;\n",
       "    }\n",
       "\n",
       "    .dataframe thead th {\n",
       "        text-align: right;\n",
       "    }\n",
       "</style>\n",
       "<table border=\"1\" class=\"dataframe\">\n",
       "  <thead>\n",
       "    <tr style=\"text-align: right;\">\n",
       "      <th></th>\n",
       "      <th>total_images</th>\n",
       "      <th>last_price</th>\n",
       "      <th>total_area</th>\n",
       "      <th>first_day_exposition</th>\n",
       "      <th>rooms</th>\n",
       "      <th>ceiling_height</th>\n",
       "      <th>floors_total</th>\n",
       "      <th>living_area</th>\n",
       "      <th>floor</th>\n",
       "      <th>is_apartment</th>\n",
       "      <th>studio</th>\n",
       "      <th>open_plan</th>\n",
       "      <th>kitchen_area</th>\n",
       "      <th>balcony</th>\n",
       "      <th>locality_name</th>\n",
       "      <th>airports_nearest</th>\n",
       "      <th>cityCenters_nearest</th>\n",
       "      <th>parks_around3000</th>\n",
       "      <th>parks_nearest</th>\n",
       "      <th>ponds_around3000</th>\n",
       "      <th>ponds_nearest</th>\n",
       "      <th>days_exposition</th>\n",
       "    </tr>\n",
       "  </thead>\n",
       "  <tbody>\n",
       "    <tr>\n",
       "      <th>0</th>\n",
       "      <td>20</td>\n",
       "      <td>13000000.0</td>\n",
       "      <td>108.00</td>\n",
       "      <td>2019-03-07T00:00:00</td>\n",
       "      <td>3</td>\n",
       "      <td>2.70</td>\n",
       "      <td>16.0</td>\n",
       "      <td>51.00</td>\n",
       "      <td>8</td>\n",
       "      <td>NaN</td>\n",
       "      <td>False</td>\n",
       "      <td>False</td>\n",
       "      <td>25.00</td>\n",
       "      <td>NaN</td>\n",
       "      <td>Санкт-Петербург</td>\n",
       "      <td>18863.0</td>\n",
       "      <td>16028.0</td>\n",
       "      <td>1.0</td>\n",
       "      <td>482.0</td>\n",
       "      <td>2.0</td>\n",
       "      <td>755.0</td>\n",
       "      <td>NaN</td>\n",
       "    </tr>\n",
       "    <tr>\n",
       "      <th>1</th>\n",
       "      <td>7</td>\n",
       "      <td>3350000.0</td>\n",
       "      <td>40.40</td>\n",
       "      <td>2018-12-04T00:00:00</td>\n",
       "      <td>1</td>\n",
       "      <td>NaN</td>\n",
       "      <td>11.0</td>\n",
       "      <td>18.60</td>\n",
       "      <td>1</td>\n",
       "      <td>NaN</td>\n",
       "      <td>False</td>\n",
       "      <td>False</td>\n",
       "      <td>11.00</td>\n",
       "      <td>2.0</td>\n",
       "      <td>посёлок Шушары</td>\n",
       "      <td>12817.0</td>\n",
       "      <td>18603.0</td>\n",
       "      <td>0.0</td>\n",
       "      <td>NaN</td>\n",
       "      <td>0.0</td>\n",
       "      <td>NaN</td>\n",
       "      <td>81.0</td>\n",
       "    </tr>\n",
       "    <tr>\n",
       "      <th>2</th>\n",
       "      <td>10</td>\n",
       "      <td>5196000.0</td>\n",
       "      <td>56.00</td>\n",
       "      <td>2015-08-20T00:00:00</td>\n",
       "      <td>2</td>\n",
       "      <td>NaN</td>\n",
       "      <td>5.0</td>\n",
       "      <td>34.30</td>\n",
       "      <td>4</td>\n",
       "      <td>NaN</td>\n",
       "      <td>False</td>\n",
       "      <td>False</td>\n",
       "      <td>8.30</td>\n",
       "      <td>0.0</td>\n",
       "      <td>Санкт-Петербург</td>\n",
       "      <td>21741.0</td>\n",
       "      <td>13933.0</td>\n",
       "      <td>1.0</td>\n",
       "      <td>90.0</td>\n",
       "      <td>2.0</td>\n",
       "      <td>574.0</td>\n",
       "      <td>558.0</td>\n",
       "    </tr>\n",
       "    <tr>\n",
       "      <th>3</th>\n",
       "      <td>0</td>\n",
       "      <td>64900000.0</td>\n",
       "      <td>159.00</td>\n",
       "      <td>2015-07-24T00:00:00</td>\n",
       "      <td>3</td>\n",
       "      <td>NaN</td>\n",
       "      <td>14.0</td>\n",
       "      <td>NaN</td>\n",
       "      <td>9</td>\n",
       "      <td>NaN</td>\n",
       "      <td>False</td>\n",
       "      <td>False</td>\n",
       "      <td>NaN</td>\n",
       "      <td>0.0</td>\n",
       "      <td>Санкт-Петербург</td>\n",
       "      <td>28098.0</td>\n",
       "      <td>6800.0</td>\n",
       "      <td>2.0</td>\n",
       "      <td>84.0</td>\n",
       "      <td>3.0</td>\n",
       "      <td>234.0</td>\n",
       "      <td>424.0</td>\n",
       "    </tr>\n",
       "    <tr>\n",
       "      <th>4</th>\n",
       "      <td>2</td>\n",
       "      <td>10000000.0</td>\n",
       "      <td>100.00</td>\n",
       "      <td>2018-06-19T00:00:00</td>\n",
       "      <td>2</td>\n",
       "      <td>3.03</td>\n",
       "      <td>14.0</td>\n",
       "      <td>32.00</td>\n",
       "      <td>13</td>\n",
       "      <td>NaN</td>\n",
       "      <td>False</td>\n",
       "      <td>False</td>\n",
       "      <td>41.00</td>\n",
       "      <td>NaN</td>\n",
       "      <td>Санкт-Петербург</td>\n",
       "      <td>31856.0</td>\n",
       "      <td>8098.0</td>\n",
       "      <td>2.0</td>\n",
       "      <td>112.0</td>\n",
       "      <td>1.0</td>\n",
       "      <td>48.0</td>\n",
       "      <td>121.0</td>\n",
       "    </tr>\n",
       "    <tr>\n",
       "      <th>5</th>\n",
       "      <td>10</td>\n",
       "      <td>2890000.0</td>\n",
       "      <td>30.40</td>\n",
       "      <td>2018-09-10T00:00:00</td>\n",
       "      <td>1</td>\n",
       "      <td>NaN</td>\n",
       "      <td>12.0</td>\n",
       "      <td>14.40</td>\n",
       "      <td>5</td>\n",
       "      <td>NaN</td>\n",
       "      <td>False</td>\n",
       "      <td>False</td>\n",
       "      <td>9.10</td>\n",
       "      <td>NaN</td>\n",
       "      <td>городской посёлок Янино-1</td>\n",
       "      <td>NaN</td>\n",
       "      <td>NaN</td>\n",
       "      <td>NaN</td>\n",
       "      <td>NaN</td>\n",
       "      <td>NaN</td>\n",
       "      <td>NaN</td>\n",
       "      <td>55.0</td>\n",
       "    </tr>\n",
       "    <tr>\n",
       "      <th>6</th>\n",
       "      <td>6</td>\n",
       "      <td>3700000.0</td>\n",
       "      <td>37.30</td>\n",
       "      <td>2017-11-02T00:00:00</td>\n",
       "      <td>1</td>\n",
       "      <td>NaN</td>\n",
       "      <td>26.0</td>\n",
       "      <td>10.60</td>\n",
       "      <td>6</td>\n",
       "      <td>NaN</td>\n",
       "      <td>False</td>\n",
       "      <td>False</td>\n",
       "      <td>14.40</td>\n",
       "      <td>1.0</td>\n",
       "      <td>посёлок Парголово</td>\n",
       "      <td>52996.0</td>\n",
       "      <td>19143.0</td>\n",
       "      <td>0.0</td>\n",
       "      <td>NaN</td>\n",
       "      <td>0.0</td>\n",
       "      <td>NaN</td>\n",
       "      <td>155.0</td>\n",
       "    </tr>\n",
       "    <tr>\n",
       "      <th>7</th>\n",
       "      <td>5</td>\n",
       "      <td>7915000.0</td>\n",
       "      <td>71.60</td>\n",
       "      <td>2019-04-18T00:00:00</td>\n",
       "      <td>2</td>\n",
       "      <td>NaN</td>\n",
       "      <td>24.0</td>\n",
       "      <td>NaN</td>\n",
       "      <td>22</td>\n",
       "      <td>NaN</td>\n",
       "      <td>False</td>\n",
       "      <td>False</td>\n",
       "      <td>18.90</td>\n",
       "      <td>2.0</td>\n",
       "      <td>Санкт-Петербург</td>\n",
       "      <td>23982.0</td>\n",
       "      <td>11634.0</td>\n",
       "      <td>0.0</td>\n",
       "      <td>NaN</td>\n",
       "      <td>0.0</td>\n",
       "      <td>NaN</td>\n",
       "      <td>NaN</td>\n",
       "    </tr>\n",
       "    <tr>\n",
       "      <th>8</th>\n",
       "      <td>20</td>\n",
       "      <td>2900000.0</td>\n",
       "      <td>33.16</td>\n",
       "      <td>2018-05-23T00:00:00</td>\n",
       "      <td>1</td>\n",
       "      <td>NaN</td>\n",
       "      <td>27.0</td>\n",
       "      <td>15.43</td>\n",
       "      <td>26</td>\n",
       "      <td>NaN</td>\n",
       "      <td>False</td>\n",
       "      <td>False</td>\n",
       "      <td>8.81</td>\n",
       "      <td>NaN</td>\n",
       "      <td>посёлок Мурино</td>\n",
       "      <td>NaN</td>\n",
       "      <td>NaN</td>\n",
       "      <td>NaN</td>\n",
       "      <td>NaN</td>\n",
       "      <td>NaN</td>\n",
       "      <td>NaN</td>\n",
       "      <td>189.0</td>\n",
       "    </tr>\n",
       "    <tr>\n",
       "      <th>9</th>\n",
       "      <td>18</td>\n",
       "      <td>5400000.0</td>\n",
       "      <td>61.00</td>\n",
       "      <td>2017-02-26T00:00:00</td>\n",
       "      <td>3</td>\n",
       "      <td>2.50</td>\n",
       "      <td>9.0</td>\n",
       "      <td>43.60</td>\n",
       "      <td>7</td>\n",
       "      <td>NaN</td>\n",
       "      <td>False</td>\n",
       "      <td>False</td>\n",
       "      <td>6.50</td>\n",
       "      <td>2.0</td>\n",
       "      <td>Санкт-Петербург</td>\n",
       "      <td>50898.0</td>\n",
       "      <td>15008.0</td>\n",
       "      <td>0.0</td>\n",
       "      <td>NaN</td>\n",
       "      <td>0.0</td>\n",
       "      <td>NaN</td>\n",
       "      <td>289.0</td>\n",
       "    </tr>\n",
       "    <tr>\n",
       "      <th>10</th>\n",
       "      <td>5</td>\n",
       "      <td>5050000.0</td>\n",
       "      <td>39.60</td>\n",
       "      <td>2017-11-16T00:00:00</td>\n",
       "      <td>1</td>\n",
       "      <td>2.67</td>\n",
       "      <td>12.0</td>\n",
       "      <td>20.30</td>\n",
       "      <td>3</td>\n",
       "      <td>NaN</td>\n",
       "      <td>False</td>\n",
       "      <td>False</td>\n",
       "      <td>8.50</td>\n",
       "      <td>NaN</td>\n",
       "      <td>Санкт-Петербург</td>\n",
       "      <td>38357.0</td>\n",
       "      <td>13878.0</td>\n",
       "      <td>1.0</td>\n",
       "      <td>310.0</td>\n",
       "      <td>2.0</td>\n",
       "      <td>553.0</td>\n",
       "      <td>137.0</td>\n",
       "    </tr>\n",
       "    <tr>\n",
       "      <th>11</th>\n",
       "      <td>9</td>\n",
       "      <td>3300000.0</td>\n",
       "      <td>44.00</td>\n",
       "      <td>2018-08-27T00:00:00</td>\n",
       "      <td>2</td>\n",
       "      <td>NaN</td>\n",
       "      <td>5.0</td>\n",
       "      <td>31.00</td>\n",
       "      <td>4</td>\n",
       "      <td>False</td>\n",
       "      <td>False</td>\n",
       "      <td>False</td>\n",
       "      <td>6.00</td>\n",
       "      <td>1.0</td>\n",
       "      <td>Ломоносов</td>\n",
       "      <td>48252.0</td>\n",
       "      <td>51677.0</td>\n",
       "      <td>0.0</td>\n",
       "      <td>NaN</td>\n",
       "      <td>0.0</td>\n",
       "      <td>NaN</td>\n",
       "      <td>7.0</td>\n",
       "    </tr>\n",
       "    <tr>\n",
       "      <th>12</th>\n",
       "      <td>10</td>\n",
       "      <td>3890000.0</td>\n",
       "      <td>54.00</td>\n",
       "      <td>2016-06-30T00:00:00</td>\n",
       "      <td>2</td>\n",
       "      <td>NaN</td>\n",
       "      <td>5.0</td>\n",
       "      <td>30.00</td>\n",
       "      <td>5</td>\n",
       "      <td>NaN</td>\n",
       "      <td>False</td>\n",
       "      <td>False</td>\n",
       "      <td>9.00</td>\n",
       "      <td>0.0</td>\n",
       "      <td>Сертолово</td>\n",
       "      <td>NaN</td>\n",
       "      <td>NaN</td>\n",
       "      <td>NaN</td>\n",
       "      <td>NaN</td>\n",
       "      <td>NaN</td>\n",
       "      <td>NaN</td>\n",
       "      <td>90.0</td>\n",
       "    </tr>\n",
       "    <tr>\n",
       "      <th>13</th>\n",
       "      <td>20</td>\n",
       "      <td>3550000.0</td>\n",
       "      <td>42.80</td>\n",
       "      <td>2017-07-01T00:00:00</td>\n",
       "      <td>2</td>\n",
       "      <td>2.56</td>\n",
       "      <td>5.0</td>\n",
       "      <td>27.00</td>\n",
       "      <td>5</td>\n",
       "      <td>NaN</td>\n",
       "      <td>False</td>\n",
       "      <td>False</td>\n",
       "      <td>5.20</td>\n",
       "      <td>1.0</td>\n",
       "      <td>Петергоф</td>\n",
       "      <td>37868.0</td>\n",
       "      <td>33058.0</td>\n",
       "      <td>1.0</td>\n",
       "      <td>294.0</td>\n",
       "      <td>3.0</td>\n",
       "      <td>298.0</td>\n",
       "      <td>366.0</td>\n",
       "    </tr>\n",
       "    <tr>\n",
       "      <th>14</th>\n",
       "      <td>1</td>\n",
       "      <td>4400000.0</td>\n",
       "      <td>36.00</td>\n",
       "      <td>2016-06-23T00:00:00</td>\n",
       "      <td>1</td>\n",
       "      <td>NaN</td>\n",
       "      <td>6.0</td>\n",
       "      <td>17.00</td>\n",
       "      <td>1</td>\n",
       "      <td>NaN</td>\n",
       "      <td>False</td>\n",
       "      <td>False</td>\n",
       "      <td>8.00</td>\n",
       "      <td>0.0</td>\n",
       "      <td>Пушкин</td>\n",
       "      <td>20782.0</td>\n",
       "      <td>30759.0</td>\n",
       "      <td>0.0</td>\n",
       "      <td>NaN</td>\n",
       "      <td>1.0</td>\n",
       "      <td>96.0</td>\n",
       "      <td>203.0</td>\n",
       "    </tr>\n",
       "    <tr>\n",
       "      <th>15</th>\n",
       "      <td>16</td>\n",
       "      <td>4650000.0</td>\n",
       "      <td>39.00</td>\n",
       "      <td>2017-11-18T00:00:00</td>\n",
       "      <td>1</td>\n",
       "      <td>NaN</td>\n",
       "      <td>14.0</td>\n",
       "      <td>20.50</td>\n",
       "      <td>5</td>\n",
       "      <td>NaN</td>\n",
       "      <td>False</td>\n",
       "      <td>False</td>\n",
       "      <td>7.60</td>\n",
       "      <td>1.0</td>\n",
       "      <td>Санкт-Петербург</td>\n",
       "      <td>12900.0</td>\n",
       "      <td>14259.0</td>\n",
       "      <td>1.0</td>\n",
       "      <td>590.0</td>\n",
       "      <td>1.0</td>\n",
       "      <td>296.0</td>\n",
       "      <td>19.0</td>\n",
       "    </tr>\n",
       "    <tr>\n",
       "      <th>16</th>\n",
       "      <td>11</td>\n",
       "      <td>6700000.0</td>\n",
       "      <td>82.00</td>\n",
       "      <td>2017-11-23T00:00:00</td>\n",
       "      <td>3</td>\n",
       "      <td>3.05</td>\n",
       "      <td>5.0</td>\n",
       "      <td>55.60</td>\n",
       "      <td>1</td>\n",
       "      <td>NaN</td>\n",
       "      <td>False</td>\n",
       "      <td>False</td>\n",
       "      <td>9.00</td>\n",
       "      <td>NaN</td>\n",
       "      <td>Санкт-Петербург</td>\n",
       "      <td>22108.0</td>\n",
       "      <td>10698.0</td>\n",
       "      <td>3.0</td>\n",
       "      <td>420.0</td>\n",
       "      <td>0.0</td>\n",
       "      <td>NaN</td>\n",
       "      <td>397.0</td>\n",
       "    </tr>\n",
       "    <tr>\n",
       "      <th>17</th>\n",
       "      <td>6</td>\n",
       "      <td>4180000.0</td>\n",
       "      <td>36.00</td>\n",
       "      <td>2016-09-09T00:00:00</td>\n",
       "      <td>1</td>\n",
       "      <td>NaN</td>\n",
       "      <td>17.0</td>\n",
       "      <td>16.50</td>\n",
       "      <td>7</td>\n",
       "      <td>NaN</td>\n",
       "      <td>False</td>\n",
       "      <td>False</td>\n",
       "      <td>11.00</td>\n",
       "      <td>1.0</td>\n",
       "      <td>Санкт-Петербург</td>\n",
       "      <td>33564.0</td>\n",
       "      <td>14616.0</td>\n",
       "      <td>0.0</td>\n",
       "      <td>NaN</td>\n",
       "      <td>1.0</td>\n",
       "      <td>859.0</td>\n",
       "      <td>571.0</td>\n",
       "    </tr>\n",
       "    <tr>\n",
       "      <th>18</th>\n",
       "      <td>8</td>\n",
       "      <td>3250000.0</td>\n",
       "      <td>31.00</td>\n",
       "      <td>2017-01-27T00:00:00</td>\n",
       "      <td>1</td>\n",
       "      <td>2.50</td>\n",
       "      <td>5.0</td>\n",
       "      <td>19.40</td>\n",
       "      <td>2</td>\n",
       "      <td>NaN</td>\n",
       "      <td>False</td>\n",
       "      <td>False</td>\n",
       "      <td>5.60</td>\n",
       "      <td>1.0</td>\n",
       "      <td>Санкт-Петербург</td>\n",
       "      <td>44060.0</td>\n",
       "      <td>10842.0</td>\n",
       "      <td>1.0</td>\n",
       "      <td>759.0</td>\n",
       "      <td>0.0</td>\n",
       "      <td>NaN</td>\n",
       "      <td>168.0</td>\n",
       "    </tr>\n",
       "    <tr>\n",
       "      <th>19</th>\n",
       "      <td>16</td>\n",
       "      <td>14200000.0</td>\n",
       "      <td>121.00</td>\n",
       "      <td>2019-01-09T00:00:00</td>\n",
       "      <td>3</td>\n",
       "      <td>2.75</td>\n",
       "      <td>16.0</td>\n",
       "      <td>76.00</td>\n",
       "      <td>8</td>\n",
       "      <td>NaN</td>\n",
       "      <td>False</td>\n",
       "      <td>False</td>\n",
       "      <td>12.00</td>\n",
       "      <td>NaN</td>\n",
       "      <td>Санкт-Петербург</td>\n",
       "      <td>38900.0</td>\n",
       "      <td>12843.0</td>\n",
       "      <td>0.0</td>\n",
       "      <td>NaN</td>\n",
       "      <td>0.0</td>\n",
       "      <td>NaN</td>\n",
       "      <td>97.0</td>\n",
       "    </tr>\n",
       "  </tbody>\n",
       "</table>\n",
       "</div>"
      ],
      "text/plain": [
       "    total_images  last_price  total_area first_day_exposition  rooms  \\\n",
       "0             20  13000000.0      108.00  2019-03-07T00:00:00      3   \n",
       "1              7   3350000.0       40.40  2018-12-04T00:00:00      1   \n",
       "2             10   5196000.0       56.00  2015-08-20T00:00:00      2   \n",
       "3              0  64900000.0      159.00  2015-07-24T00:00:00      3   \n",
       "4              2  10000000.0      100.00  2018-06-19T00:00:00      2   \n",
       "5             10   2890000.0       30.40  2018-09-10T00:00:00      1   \n",
       "6              6   3700000.0       37.30  2017-11-02T00:00:00      1   \n",
       "7              5   7915000.0       71.60  2019-04-18T00:00:00      2   \n",
       "8             20   2900000.0       33.16  2018-05-23T00:00:00      1   \n",
       "9             18   5400000.0       61.00  2017-02-26T00:00:00      3   \n",
       "10             5   5050000.0       39.60  2017-11-16T00:00:00      1   \n",
       "11             9   3300000.0       44.00  2018-08-27T00:00:00      2   \n",
       "12            10   3890000.0       54.00  2016-06-30T00:00:00      2   \n",
       "13            20   3550000.0       42.80  2017-07-01T00:00:00      2   \n",
       "14             1   4400000.0       36.00  2016-06-23T00:00:00      1   \n",
       "15            16   4650000.0       39.00  2017-11-18T00:00:00      1   \n",
       "16            11   6700000.0       82.00  2017-11-23T00:00:00      3   \n",
       "17             6   4180000.0       36.00  2016-09-09T00:00:00      1   \n",
       "18             8   3250000.0       31.00  2017-01-27T00:00:00      1   \n",
       "19            16  14200000.0      121.00  2019-01-09T00:00:00      3   \n",
       "\n",
       "    ceiling_height  floors_total  living_area  floor is_apartment  studio  \\\n",
       "0             2.70          16.0        51.00      8          NaN   False   \n",
       "1              NaN          11.0        18.60      1          NaN   False   \n",
       "2              NaN           5.0        34.30      4          NaN   False   \n",
       "3              NaN          14.0          NaN      9          NaN   False   \n",
       "4             3.03          14.0        32.00     13          NaN   False   \n",
       "5              NaN          12.0        14.40      5          NaN   False   \n",
       "6              NaN          26.0        10.60      6          NaN   False   \n",
       "7              NaN          24.0          NaN     22          NaN   False   \n",
       "8              NaN          27.0        15.43     26          NaN   False   \n",
       "9             2.50           9.0        43.60      7          NaN   False   \n",
       "10            2.67          12.0        20.30      3          NaN   False   \n",
       "11             NaN           5.0        31.00      4        False   False   \n",
       "12             NaN           5.0        30.00      5          NaN   False   \n",
       "13            2.56           5.0        27.00      5          NaN   False   \n",
       "14             NaN           6.0        17.00      1          NaN   False   \n",
       "15             NaN          14.0        20.50      5          NaN   False   \n",
       "16            3.05           5.0        55.60      1          NaN   False   \n",
       "17             NaN          17.0        16.50      7          NaN   False   \n",
       "18            2.50           5.0        19.40      2          NaN   False   \n",
       "19            2.75          16.0        76.00      8          NaN   False   \n",
       "\n",
       "    open_plan  kitchen_area  balcony              locality_name  \\\n",
       "0       False         25.00      NaN            Санкт-Петербург   \n",
       "1       False         11.00      2.0             посёлок Шушары   \n",
       "2       False          8.30      0.0            Санкт-Петербург   \n",
       "3       False           NaN      0.0            Санкт-Петербург   \n",
       "4       False         41.00      NaN            Санкт-Петербург   \n",
       "5       False          9.10      NaN  городской посёлок Янино-1   \n",
       "6       False         14.40      1.0          посёлок Парголово   \n",
       "7       False         18.90      2.0            Санкт-Петербург   \n",
       "8       False          8.81      NaN             посёлок Мурино   \n",
       "9       False          6.50      2.0            Санкт-Петербург   \n",
       "10      False          8.50      NaN            Санкт-Петербург   \n",
       "11      False          6.00      1.0                  Ломоносов   \n",
       "12      False          9.00      0.0                  Сертолово   \n",
       "13      False          5.20      1.0                   Петергоф   \n",
       "14      False          8.00      0.0                     Пушкин   \n",
       "15      False          7.60      1.0            Санкт-Петербург   \n",
       "16      False          9.00      NaN            Санкт-Петербург   \n",
       "17      False         11.00      1.0            Санкт-Петербург   \n",
       "18      False          5.60      1.0            Санкт-Петербург   \n",
       "19      False         12.00      NaN            Санкт-Петербург   \n",
       "\n",
       "    airports_nearest  cityCenters_nearest  parks_around3000  parks_nearest  \\\n",
       "0            18863.0              16028.0               1.0          482.0   \n",
       "1            12817.0              18603.0               0.0            NaN   \n",
       "2            21741.0              13933.0               1.0           90.0   \n",
       "3            28098.0               6800.0               2.0           84.0   \n",
       "4            31856.0               8098.0               2.0          112.0   \n",
       "5                NaN                  NaN               NaN            NaN   \n",
       "6            52996.0              19143.0               0.0            NaN   \n",
       "7            23982.0              11634.0               0.0            NaN   \n",
       "8                NaN                  NaN               NaN            NaN   \n",
       "9            50898.0              15008.0               0.0            NaN   \n",
       "10           38357.0              13878.0               1.0          310.0   \n",
       "11           48252.0              51677.0               0.0            NaN   \n",
       "12               NaN                  NaN               NaN            NaN   \n",
       "13           37868.0              33058.0               1.0          294.0   \n",
       "14           20782.0              30759.0               0.0            NaN   \n",
       "15           12900.0              14259.0               1.0          590.0   \n",
       "16           22108.0              10698.0               3.0          420.0   \n",
       "17           33564.0              14616.0               0.0            NaN   \n",
       "18           44060.0              10842.0               1.0          759.0   \n",
       "19           38900.0              12843.0               0.0            NaN   \n",
       "\n",
       "    ponds_around3000  ponds_nearest  days_exposition  \n",
       "0                2.0          755.0              NaN  \n",
       "1                0.0            NaN             81.0  \n",
       "2                2.0          574.0            558.0  \n",
       "3                3.0          234.0            424.0  \n",
       "4                1.0           48.0            121.0  \n",
       "5                NaN            NaN             55.0  \n",
       "6                0.0            NaN            155.0  \n",
       "7                0.0            NaN              NaN  \n",
       "8                NaN            NaN            189.0  \n",
       "9                0.0            NaN            289.0  \n",
       "10               2.0          553.0            137.0  \n",
       "11               0.0            NaN              7.0  \n",
       "12               NaN            NaN             90.0  \n",
       "13               3.0          298.0            366.0  \n",
       "14               1.0           96.0            203.0  \n",
       "15               1.0          296.0             19.0  \n",
       "16               0.0            NaN            397.0  \n",
       "17               1.0          859.0            571.0  \n",
       "18               0.0            NaN            168.0  \n",
       "19               0.0            NaN             97.0  "
      ]
     },
     "metadata": {},
     "output_type": "display_data"
    }
   ],
   "source": [
    "df.info()\n",
    "display(df.head(20))"
   ]
  },
  {
   "cell_type": "code",
   "execution_count": 4,
   "metadata": {},
   "outputs": [
    {
     "data": {
      "image/png": "[encoded data removed]",
      "text/plain": [
       "<Figure size 1080x1440 with 20 Axes>"
      ]
     },
     "metadata": {
      "needs_background": "light"
     },
     "output_type": "display_data"
    }
   ],
   "source": [
    "df.hist(figsize=(15, 20));"
   ]
  },
  {
   "cell_type": "markdown",
   "metadata": {},
   "source": [
    "<div style=\"border:solid green 2px; padding: 20px\">\n",
    "Здесь видно что таблица имеет разные типы данных, имеются не явные дубликаты, следует привести все к единому \"стандарту\" для работы с ней. В столбцах наблюдаются пропущенные значения, надо что-то с этим всем делать, мне страшно :)\n",
    "    \n",
    "    Гистограммы пока особо не несут полезной информации (для меня по крайней мере), графики наверняка отличаются от \n",
    "    истины потому что датафрейм необходимо привести в порядок, только тогда график будет информативным. "
   ]
  },
  {
   "cell_type": "markdown",
   "metadata": {},
   "source": [
    "### Предобработка данных"
   ]
  },
  {
   "cell_type": "code",
   "execution_count": 5,
   "metadata": {},
   "outputs": [
    {
     "data": {
      "text/plain": [
       "total_images                0\n",
       "last_price                  0\n",
       "total_area                  0\n",
       "first_day_exposition        0\n",
       "rooms                       0\n",
       "ceiling_height           9195\n",
       "floors_total               86\n",
       "living_area              1903\n",
       "floor                       0\n",
       "is_apartment            20924\n",
       "studio                      0\n",
       "open_plan                   0\n",
       "kitchen_area             2278\n",
       "balcony                 11519\n",
       "locality_name              49\n",
       "airports_nearest         5542\n",
       "cityCenters_nearest      5519\n",
       "parks_around3000         5518\n",
       "parks_nearest           15620\n",
       "ponds_around3000         5518\n",
       "ponds_nearest           14589\n",
       "days_exposition          3181\n",
       "dtype: int64"
      ]
     },
     "execution_count": 5,
     "metadata": {},
     "output_type": "execute_result"
    }
   ],
   "source": [
    "df.isna().sum() # В 14 столбцах есть пропущенные значения"
   ]
  },
  {
   "cell_type": "markdown",
   "metadata": {},
   "source": [
    "<div style=\"border:solid green 2px; padding: 20px\">\n",
    "    В столбцах floors_total, locality_name я вижу относительно малое количество пропусков, поэтому их целесообразно просто оставить так как есть...\n",
    "    \n",
    "    Для этого я рассчитаю процентное соотношение пропусков и выведу их на экран."
   ]
  },
  {
   "cell_type": "code",
   "execution_count": 6,
   "metadata": {
    "scrolled": false
   },
   "outputs": [
    {
     "name": "stdout",
     "output_type": "stream",
     "text": [
      "total_images:0.00%\n",
      "last_price:0.00%\n",
      "total_area:0.00%\n",
      "first_day_exposition:0.00%\n",
      "rooms:0.00%\n",
      "ceiling_height:38.80%\n",
      "floors_total:0.36%\n",
      "living_area:8.03%\n",
      "floor:0.00%\n",
      "is_apartment:88.29%\n",
      "studio:0.00%\n",
      "open_plan:0.00%\n",
      "kitchen_area:9.61%\n",
      "balcony:48.61%\n",
      "locality_name:0.21%\n",
      "airports_nearest:23.38%\n",
      "cityCenters_nearest:23.29%\n",
      "parks_around3000:23.28%\n",
      "parks_nearest:65.91%\n",
      "ponds_around3000:23.28%\n",
      "ponds_nearest:61.56%\n",
      "days_exposition:13.42%\n"
     ]
    }
   ],
   "source": [
    "for col in df.columns:\n",
    "    print(f'{col}:{df[col].isna().sum() / df.shape[0]*100:.2f}%')"
   ]
  },
  {
   "cell_type": "markdown",
   "metadata": {},
   "source": [
    "<div style=\"border:solid green 2px; padding: 20px\">\n",
    "Получив процентное соотношение пропусков, оцениваю пропуски в столбцах floors_total и locality_name не значительными, потому вообще ничего с ними можно не делать, т.к. роли это не сыграет."
   ]
  },
  {
   "cell_type": "code",
   "execution_count": 7,
   "metadata": {
    "scrolled": true
   },
   "outputs": [
    {
     "data": {
      "text/html": [
       "<div>\n",
       "<style scoped>\n",
       "    .dataframe tbody tr th:only-of-type {\n",
       "        vertical-align: middle;\n",
       "    }\n",
       "\n",
       "    .dataframe tbody tr th {\n",
       "        vertical-align: top;\n",
       "    }\n",
       "\n",
       "    .dataframe thead th {\n",
       "        text-align: right;\n",
       "    }\n",
       "</style>\n",
       "<table border=\"1\" class=\"dataframe\">\n",
       "  <thead>\n",
       "    <tr style=\"text-align: right;\">\n",
       "      <th></th>\n",
       "      <th>total_images</th>\n",
       "      <th>last_price</th>\n",
       "      <th>total_area</th>\n",
       "      <th>first_day_exposition</th>\n",
       "      <th>rooms</th>\n",
       "      <th>ceiling_height</th>\n",
       "      <th>floors_total</th>\n",
       "      <th>living_area</th>\n",
       "      <th>floor</th>\n",
       "      <th>is_apartment</th>\n",
       "      <th>studio</th>\n",
       "      <th>open_plan</th>\n",
       "      <th>kitchen_area</th>\n",
       "      <th>balcony</th>\n",
       "      <th>locality_name</th>\n",
       "      <th>airports_nearest</th>\n",
       "      <th>city_centers_nearest</th>\n",
       "      <th>parks_around3000</th>\n",
       "      <th>parks_nearest</th>\n",
       "      <th>ponds_around3000</th>\n",
       "      <th>ponds_nearest</th>\n",
       "      <th>days_exposition</th>\n",
       "    </tr>\n",
       "  </thead>\n",
       "  <tbody>\n",
       "    <tr>\n",
       "      <th>0</th>\n",
       "      <td>20</td>\n",
       "      <td>13000000</td>\n",
       "      <td>108.0</td>\n",
       "      <td>2019-03-07</td>\n",
       "      <td>3</td>\n",
       "      <td>2.70</td>\n",
       "      <td>16</td>\n",
       "      <td>51.000000</td>\n",
       "      <td>8</td>\n",
       "      <td>False</td>\n",
       "      <td>False</td>\n",
       "      <td>False</td>\n",
       "      <td>25.000000</td>\n",
       "      <td>0</td>\n",
       "      <td>санкт-петербург</td>\n",
       "      <td>18863.0</td>\n",
       "      <td>16028.0</td>\n",
       "      <td>1</td>\n",
       "      <td>482.0</td>\n",
       "      <td>2</td>\n",
       "      <td>755.0</td>\n",
       "      <td>9999</td>\n",
       "    </tr>\n",
       "    <tr>\n",
       "      <th>1</th>\n",
       "      <td>7</td>\n",
       "      <td>3350000</td>\n",
       "      <td>40.4</td>\n",
       "      <td>2018-12-04</td>\n",
       "      <td>1</td>\n",
       "      <td>2.65</td>\n",
       "      <td>11</td>\n",
       "      <td>18.600000</td>\n",
       "      <td>1</td>\n",
       "      <td>False</td>\n",
       "      <td>False</td>\n",
       "      <td>False</td>\n",
       "      <td>11.000000</td>\n",
       "      <td>2</td>\n",
       "      <td>поселок шушары</td>\n",
       "      <td>12817.0</td>\n",
       "      <td>18603.0</td>\n",
       "      <td>0</td>\n",
       "      <td>NaN</td>\n",
       "      <td>0</td>\n",
       "      <td>NaN</td>\n",
       "      <td>81</td>\n",
       "    </tr>\n",
       "    <tr>\n",
       "      <th>2</th>\n",
       "      <td>10</td>\n",
       "      <td>5196000</td>\n",
       "      <td>56.0</td>\n",
       "      <td>2015-08-20</td>\n",
       "      <td>2</td>\n",
       "      <td>2.65</td>\n",
       "      <td>5</td>\n",
       "      <td>34.300000</td>\n",
       "      <td>4</td>\n",
       "      <td>False</td>\n",
       "      <td>False</td>\n",
       "      <td>False</td>\n",
       "      <td>8.300000</td>\n",
       "      <td>0</td>\n",
       "      <td>санкт-петербург</td>\n",
       "      <td>21741.0</td>\n",
       "      <td>13933.0</td>\n",
       "      <td>1</td>\n",
       "      <td>90.0</td>\n",
       "      <td>2</td>\n",
       "      <td>574.0</td>\n",
       "      <td>558</td>\n",
       "    </tr>\n",
       "    <tr>\n",
       "      <th>3</th>\n",
       "      <td>0</td>\n",
       "      <td>64900000</td>\n",
       "      <td>159.0</td>\n",
       "      <td>2015-07-24</td>\n",
       "      <td>3</td>\n",
       "      <td>2.65</td>\n",
       "      <td>14</td>\n",
       "      <td>90.816648</td>\n",
       "      <td>9</td>\n",
       "      <td>False</td>\n",
       "      <td>False</td>\n",
       "      <td>False</td>\n",
       "      <td>27.836861</td>\n",
       "      <td>0</td>\n",
       "      <td>санкт-петербург</td>\n",
       "      <td>28098.0</td>\n",
       "      <td>6800.0</td>\n",
       "      <td>2</td>\n",
       "      <td>84.0</td>\n",
       "      <td>3</td>\n",
       "      <td>234.0</td>\n",
       "      <td>424</td>\n",
       "    </tr>\n",
       "    <tr>\n",
       "      <th>4</th>\n",
       "      <td>2</td>\n",
       "      <td>10000000</td>\n",
       "      <td>100.0</td>\n",
       "      <td>2018-06-19</td>\n",
       "      <td>2</td>\n",
       "      <td>3.03</td>\n",
       "      <td>14</td>\n",
       "      <td>32.000000</td>\n",
       "      <td>13</td>\n",
       "      <td>False</td>\n",
       "      <td>False</td>\n",
       "      <td>False</td>\n",
       "      <td>41.000000</td>\n",
       "      <td>0</td>\n",
       "      <td>санкт-петербург</td>\n",
       "      <td>31856.0</td>\n",
       "      <td>8098.0</td>\n",
       "      <td>2</td>\n",
       "      <td>112.0</td>\n",
       "      <td>1</td>\n",
       "      <td>48.0</td>\n",
       "      <td>121</td>\n",
       "    </tr>\n",
       "  </tbody>\n",
       "</table>\n",
       "</div>"
      ],
      "text/plain": [
       "   total_images  last_price  total_area first_day_exposition  rooms  \\\n",
       "0            20    13000000       108.0           2019-03-07      3   \n",
       "1             7     3350000        40.4           2018-12-04      1   \n",
       "2            10     5196000        56.0           2015-08-20      2   \n",
       "3             0    64900000       159.0           2015-07-24      3   \n",
       "4             2    10000000       100.0           2018-06-19      2   \n",
       "\n",
       "   ceiling_height  floors_total  living_area  floor  is_apartment  studio  \\\n",
       "0            2.70            16    51.000000      8         False   False   \n",
       "1            2.65            11    18.600000      1         False   False   \n",
       "2            2.65             5    34.300000      4         False   False   \n",
       "3            2.65            14    90.816648      9         False   False   \n",
       "4            3.03            14    32.000000     13         False   False   \n",
       "\n",
       "   open_plan  kitchen_area  balcony    locality_name  airports_nearest  \\\n",
       "0      False     25.000000        0  санкт-петербург           18863.0   \n",
       "1      False     11.000000        2   поселок шушары           12817.0   \n",
       "2      False      8.300000        0  санкт-петербург           21741.0   \n",
       "3      False     27.836861        0  санкт-петербург           28098.0   \n",
       "4      False     41.000000        0  санкт-петербург           31856.0   \n",
       "\n",
       "   city_centers_nearest  parks_around3000  parks_nearest  ponds_around3000  \\\n",
       "0               16028.0                 1          482.0                 2   \n",
       "1               18603.0                 0            NaN                 0   \n",
       "2               13933.0                 1           90.0                 2   \n",
       "3                6800.0                 2           84.0                 3   \n",
       "4                8098.0                 2          112.0                 1   \n",
       "\n",
       "   ponds_nearest  days_exposition  \n",
       "0          755.0             9999  \n",
       "1            NaN               81  \n",
       "2          574.0              558  \n",
       "3          234.0              424  \n",
       "4           48.0              121  "
      ]
     },
     "execution_count": 7,
     "metadata": {},
     "output_type": "execute_result"
    }
   ],
   "source": [
    "# Для удобства приводим названия в нижний регистр, удаляем явные дубликаты, и не явные дубликаты.\n",
    "#df['locality_name'].value_counts()\n",
    "df.dropna(subset=['locality_name'], inplace=True)\n",
    "df['locality_name'] =  df['locality_name'].str.lower()\n",
    "df['locality_name'] = df['locality_name'].str.replace('ё', 'е')\n",
    "df['locality_name'] = df['locality_name'].str.replace('городского типа','')\n",
    "\n",
    "#Необходимы целые числа в столбце с этажами. (все-таки придется удалить пропуски)\n",
    "df.dropna(subset=['floors_total'], inplace=True)\n",
    "df['floors_total'] = df['floors_total'].astype('int')\n",
    "\n",
    "# Ставлю маркер 0 в пропусках, и привожу к целому числу\n",
    "df['balcony'] = df['balcony'].fillna(value=0).astype('int')\n",
    "df['parks_around3000'] = df['parks_around3000'].fillna(value=0).astype('int')\n",
    "df['ponds_around3000'] = df['ponds_around3000'].fillna(value=0).astype('int')\n",
    "df['days_exposition'] = df['days_exposition'].fillna(value=9999).astype('int')\n",
    "\n",
    "#Заполняю пропуски средним значением в жил площади и на кухне\n",
    "living = df['living_area'].mean() / df['total_area'].mean()\n",
    "df['living_area'].fillna(living * df['total_area'], inplace=True)\n",
    "\n",
    "kitchen = df['kitchen_area'].mean() / df['total_area'].mean()\n",
    "df['kitchen_area'].fillna(kitchen * df['total_area'], inplace=True)\n",
    "\n",
    "#df.isna().sum()\n",
    "\n",
    "#Стоимость в целых значениях\n",
    "df['last_price'] = df['last_price'].astype('int')\n",
    "#Аномально низкие значения надо заменить\n",
    "\n",
    "\n",
    "#Некорректный формат даты приводим в человеческий вид\n",
    "df['first_day_exposition'] = pd.to_datetime(df['first_day_exposition'], format = '%Y-%m-%d')\n",
    "#df['first_day_exposition'].head()\n",
    "\n",
    "# Высоту потолков тоже стоит заполнить медианой, для информативности будущих графиков\n",
    "df['ceiling_height'].fillna(df['ceiling_height'].median(), inplace=True)\n",
    "\n",
    "#\n",
    "df['is_apartment'] = df['is_apartment'].fillna(False)\n",
    "\n",
    "#df.isna().sum()\n",
    "#df.head()\n",
    "\n",
    "#Переименую 'cityCenters_nearest', потому что выбивается из общего вида\n",
    "df = df.rename(columns={'cityCenters_nearest': 'city_centers_nearest'})\n",
    "\n",
    "df.head()\n",
    "#df.isna().sum()"
   ]
  },
  {
   "cell_type": "code",
   "execution_count": 8,
   "metadata": {
    "scrolled": true
   },
   "outputs": [
    {
     "name": "stdout",
     "output_type": "stream",
     "text": [
      "AxesSubplot(0.125,0.125;0.775x0.755)\n",
      "График указывает, что значения больше 5 и меньше 0 являются аномальными, и их нужно отбросить.\n"
     ]
    },
    {
     "data": {
      "text/plain": [
       "<AxesSubplot:>"
      ]
     },
     "execution_count": 8,
     "metadata": {},
     "output_type": "execute_result"
    },
    {
     "data": {
      "image/png": "[encoded data removed]",
      "text/plain": [
       "<Figure size 432x288 with 1 Axes>"
      ]
     },
     "metadata": {
      "needs_background": "light"
     },
     "output_type": "display_data"
    }
   ],
   "source": [
    "#Убираем аномальные значения в last_price\n",
    "df = df[df['last_price'] > 13000]\n",
    "\n",
    "#Заполняем средним значения в total_area\n",
    "for area in df['total_area'].unique():\n",
    "    df.loc[(df['total_area'] == area)&(df['living_area'].isna()), 'living_area'] = \\\n",
    "    df['total_area'] * (df['living_area'].mean())/(df['total_area'].mean())\n",
    "\n",
    "#В rooms есть аномально высокое количество комнат\n",
    "df['rooms'].unique()\n",
    "print(df['rooms'].hist(bins=30));\n",
    "print('График указывает, что значения больше 5 и меньше 0 являются аномальными, и их нужно отбросить.')\n",
    "\n",
    "df = df.loc[(df['rooms'] > 0)&(df['rooms'] < 6)]\n",
    "df['rooms'].unique()\n",
    "df['rooms'].hist(bins=30)\n",
    "#df['rooms'].describe()"
   ]
  },
  {
   "cell_type": "markdown",
   "metadata": {},
   "source": [
    "<div style=\"border:solid green 2px; padding: 20px\">\n",
    "По запросу в гугл, обычная квартира не может технически быть более 5 комнат, все что больше - либо объединенные с соседними, либо квартиры в несколько этажей (таунхаусы). Потому считаю логичным отфильтровать значения до 5 комнат."
   ]
  },
  {
   "cell_type": "code",
   "execution_count": 9,
   "metadata": {},
   "outputs": [
    {
     "data": {
      "text/plain": [
       "count    23094.000000\n",
       "mean         2.690507\n",
       "std          0.199622\n",
       "min          2.200000\n",
       "25%          2.600000\n",
       "50%          2.650000\n",
       "75%          2.700000\n",
       "max          4.000000\n",
       "Name: ceiling_height, dtype: float64"
      ]
     },
     "execution_count": 9,
     "metadata": {},
     "output_type": "execute_result"
    },
    {
     "data": {
      "image/png": "[encoded data removed]",
      "text/plain": [
       "<Figure size 432x288 with 1 Axes>"
      ]
     },
     "metadata": {
      "needs_background": "light"
     },
     "output_type": "display_data"
    }
   ],
   "source": [
    "plt.hist(df['ceiling_height'], bins=50, range =(1,5));\n",
    "df = df.loc[(df['ceiling_height'] > 2)&(df['ceiling_height'] <= 4)]\n",
    "df['ceiling_height'].describe()"
   ]
  },
  {
   "cell_type": "code",
   "execution_count": 10,
   "metadata": {},
   "outputs": [
    {
     "data": {
      "image/png": "[encoded data removed]",
      "text/plain": [
       "<Figure size 432x288 with 1 Axes>"
      ]
     },
     "metadata": {
      "needs_background": "light"
     },
     "output_type": "display_data"
    }
   ],
   "source": [
    "#код ревьюера\n",
    "data2 = pd.read_csv('/datasets/real_estate_data.csv', sep='\\t')\n",
    "(data2['total_area']).hist(bins=30);"
   ]
  },
  {
   "cell_type": "markdown",
   "metadata": {},
   "source": [
    "### Посчитаем и добавим в таблицу новые столбцы"
   ]
  },
  {
   "cell_type": "code",
   "execution_count": 11,
   "metadata": {
    "scrolled": true
   },
   "outputs": [
    {
     "data": {
      "text/html": [
       "<div>\n",
       "<style scoped>\n",
       "    .dataframe tbody tr th:only-of-type {\n",
       "        vertical-align: middle;\n",
       "    }\n",
       "\n",
       "    .dataframe tbody tr th {\n",
       "        vertical-align: top;\n",
       "    }\n",
       "\n",
       "    .dataframe thead th {\n",
       "        text-align: right;\n",
       "    }\n",
       "</style>\n",
       "<table border=\"1\" class=\"dataframe\">\n",
       "  <thead>\n",
       "    <tr style=\"text-align: right;\">\n",
       "      <th></th>\n",
       "      <th>total_images</th>\n",
       "      <th>last_price</th>\n",
       "      <th>total_area</th>\n",
       "      <th>first_day_exposition</th>\n",
       "      <th>rooms</th>\n",
       "      <th>ceiling_height</th>\n",
       "      <th>floors_total</th>\n",
       "      <th>living_area</th>\n",
       "      <th>floor</th>\n",
       "      <th>is_apartment</th>\n",
       "      <th>studio</th>\n",
       "      <th>open_plan</th>\n",
       "      <th>kitchen_area</th>\n",
       "      <th>balcony</th>\n",
       "      <th>locality_name</th>\n",
       "      <th>airports_nearest</th>\n",
       "      <th>city_centers_nearest</th>\n",
       "      <th>parks_around3000</th>\n",
       "      <th>parks_nearest</th>\n",
       "      <th>ponds_around3000</th>\n",
       "      <th>ponds_nearest</th>\n",
       "      <th>days_exposition</th>\n",
       "      <th>one_price</th>\n",
       "      <th>weekday</th>\n",
       "      <th>month</th>\n",
       "      <th>year</th>\n",
       "      <th>floor_type</th>\n",
       "      <th>city_centers</th>\n",
       "    </tr>\n",
       "  </thead>\n",
       "  <tbody>\n",
       "    <tr>\n",
       "      <th>0</th>\n",
       "      <td>20</td>\n",
       "      <td>13000000</td>\n",
       "      <td>108.0</td>\n",
       "      <td>2019-03-07</td>\n",
       "      <td>3</td>\n",
       "      <td>2.70</td>\n",
       "      <td>16</td>\n",
       "      <td>51.000000</td>\n",
       "      <td>8</td>\n",
       "      <td>False</td>\n",
       "      <td>False</td>\n",
       "      <td>False</td>\n",
       "      <td>25.000000</td>\n",
       "      <td>0</td>\n",
       "      <td>санкт-петербург</td>\n",
       "      <td>18863.0</td>\n",
       "      <td>16028.0</td>\n",
       "      <td>1</td>\n",
       "      <td>482.0</td>\n",
       "      <td>2</td>\n",
       "      <td>755.0</td>\n",
       "      <td>9999</td>\n",
       "      <td>120370</td>\n",
       "      <td>3</td>\n",
       "      <td>3</td>\n",
       "      <td>2019</td>\n",
       "      <td>другой</td>\n",
       "      <td>16.0</td>\n",
       "    </tr>\n",
       "    <tr>\n",
       "      <th>1</th>\n",
       "      <td>7</td>\n",
       "      <td>3350000</td>\n",
       "      <td>40.4</td>\n",
       "      <td>2018-12-04</td>\n",
       "      <td>1</td>\n",
       "      <td>2.65</td>\n",
       "      <td>11</td>\n",
       "      <td>18.600000</td>\n",
       "      <td>1</td>\n",
       "      <td>False</td>\n",
       "      <td>False</td>\n",
       "      <td>False</td>\n",
       "      <td>11.000000</td>\n",
       "      <td>2</td>\n",
       "      <td>поселок шушары</td>\n",
       "      <td>12817.0</td>\n",
       "      <td>18603.0</td>\n",
       "      <td>0</td>\n",
       "      <td>NaN</td>\n",
       "      <td>0</td>\n",
       "      <td>NaN</td>\n",
       "      <td>81</td>\n",
       "      <td>82920</td>\n",
       "      <td>1</td>\n",
       "      <td>12</td>\n",
       "      <td>2018</td>\n",
       "      <td>первый</td>\n",
       "      <td>19.0</td>\n",
       "    </tr>\n",
       "    <tr>\n",
       "      <th>2</th>\n",
       "      <td>10</td>\n",
       "      <td>5196000</td>\n",
       "      <td>56.0</td>\n",
       "      <td>2015-08-20</td>\n",
       "      <td>2</td>\n",
       "      <td>2.65</td>\n",
       "      <td>5</td>\n",
       "      <td>34.300000</td>\n",
       "      <td>4</td>\n",
       "      <td>False</td>\n",
       "      <td>False</td>\n",
       "      <td>False</td>\n",
       "      <td>8.300000</td>\n",
       "      <td>0</td>\n",
       "      <td>санкт-петербург</td>\n",
       "      <td>21741.0</td>\n",
       "      <td>13933.0</td>\n",
       "      <td>1</td>\n",
       "      <td>90.0</td>\n",
       "      <td>2</td>\n",
       "      <td>574.0</td>\n",
       "      <td>558</td>\n",
       "      <td>92785</td>\n",
       "      <td>3</td>\n",
       "      <td>8</td>\n",
       "      <td>2015</td>\n",
       "      <td>другой</td>\n",
       "      <td>14.0</td>\n",
       "    </tr>\n",
       "    <tr>\n",
       "      <th>3</th>\n",
       "      <td>0</td>\n",
       "      <td>64900000</td>\n",
       "      <td>159.0</td>\n",
       "      <td>2015-07-24</td>\n",
       "      <td>3</td>\n",
       "      <td>2.65</td>\n",
       "      <td>14</td>\n",
       "      <td>90.816648</td>\n",
       "      <td>9</td>\n",
       "      <td>False</td>\n",
       "      <td>False</td>\n",
       "      <td>False</td>\n",
       "      <td>27.836861</td>\n",
       "      <td>0</td>\n",
       "      <td>санкт-петербург</td>\n",
       "      <td>28098.0</td>\n",
       "      <td>6800.0</td>\n",
       "      <td>2</td>\n",
       "      <td>84.0</td>\n",
       "      <td>3</td>\n",
       "      <td>234.0</td>\n",
       "      <td>424</td>\n",
       "      <td>408176</td>\n",
       "      <td>4</td>\n",
       "      <td>7</td>\n",
       "      <td>2015</td>\n",
       "      <td>другой</td>\n",
       "      <td>7.0</td>\n",
       "    </tr>\n",
       "    <tr>\n",
       "      <th>4</th>\n",
       "      <td>2</td>\n",
       "      <td>10000000</td>\n",
       "      <td>100.0</td>\n",
       "      <td>2018-06-19</td>\n",
       "      <td>2</td>\n",
       "      <td>3.03</td>\n",
       "      <td>14</td>\n",
       "      <td>32.000000</td>\n",
       "      <td>13</td>\n",
       "      <td>False</td>\n",
       "      <td>False</td>\n",
       "      <td>False</td>\n",
       "      <td>41.000000</td>\n",
       "      <td>0</td>\n",
       "      <td>санкт-петербург</td>\n",
       "      <td>31856.0</td>\n",
       "      <td>8098.0</td>\n",
       "      <td>2</td>\n",
       "      <td>112.0</td>\n",
       "      <td>1</td>\n",
       "      <td>48.0</td>\n",
       "      <td>121</td>\n",
       "      <td>100000</td>\n",
       "      <td>1</td>\n",
       "      <td>6</td>\n",
       "      <td>2018</td>\n",
       "      <td>другой</td>\n",
       "      <td>8.0</td>\n",
       "    </tr>\n",
       "  </tbody>\n",
       "</table>\n",
       "</div>"
      ],
      "text/plain": [
       "   total_images  last_price  total_area first_day_exposition  rooms  \\\n",
       "0            20    13000000       108.0           2019-03-07      3   \n",
       "1             7     3350000        40.4           2018-12-04      1   \n",
       "2            10     5196000        56.0           2015-08-20      2   \n",
       "3             0    64900000       159.0           2015-07-24      3   \n",
       "4             2    10000000       100.0           2018-06-19      2   \n",
       "\n",
       "   ceiling_height  floors_total  living_area  floor  is_apartment  studio  \\\n",
       "0            2.70            16    51.000000      8         False   False   \n",
       "1            2.65            11    18.600000      1         False   False   \n",
       "2            2.65             5    34.300000      4         False   False   \n",
       "3            2.65            14    90.816648      9         False   False   \n",
       "4            3.03            14    32.000000     13         False   False   \n",
       "\n",
       "   open_plan  kitchen_area  balcony    locality_name  airports_nearest  \\\n",
       "0      False     25.000000        0  санкт-петербург           18863.0   \n",
       "1      False     11.000000        2   поселок шушары           12817.0   \n",
       "2      False      8.300000        0  санкт-петербург           21741.0   \n",
       "3      False     27.836861        0  санкт-петербург           28098.0   \n",
       "4      False     41.000000        0  санкт-петербург           31856.0   \n",
       "\n",
       "   city_centers_nearest  parks_around3000  parks_nearest  ponds_around3000  \\\n",
       "0               16028.0                 1          482.0                 2   \n",
       "1               18603.0                 0            NaN                 0   \n",
       "2               13933.0                 1           90.0                 2   \n",
       "3                6800.0                 2           84.0                 3   \n",
       "4                8098.0                 2          112.0                 1   \n",
       "\n",
       "   ponds_nearest  days_exposition  one_price  weekday  month  year floor_type  \\\n",
       "0          755.0             9999     120370        3      3  2019     другой   \n",
       "1            NaN               81      82920        1     12  2018     первый   \n",
       "2          574.0              558      92785        3      8  2015     другой   \n",
       "3          234.0              424     408176        4      7  2015     другой   \n",
       "4           48.0              121     100000        1      6  2018     другой   \n",
       "\n",
       "   city_centers  \n",
       "0          16.0  \n",
       "1          19.0  \n",
       "2          14.0  \n",
       "3           7.0  \n",
       "4           8.0  "
      ]
     },
     "execution_count": 11,
     "metadata": {},
     "output_type": "execute_result"
    }
   ],
   "source": [
    "#Столбец со стоимостью кв метра\n",
    "df['one_price'] = df['last_price'] / df['total_area']\n",
    "df['one_price'] = df['one_price'].astype(int)\n",
    "\n",
    "#Столбцы дня недели, месяца и года\n",
    "df['weekday'] = df['first_day_exposition'].dt.weekday\n",
    "df['month'] = df['first_day_exposition'].dt.month\n",
    "df['year'] = df['first_day_exposition'].dt.year\n",
    "\n",
    "#Этаж\n",
    "def floor_group(row):\n",
    "    if row['floor'] == 1:\n",
    "        return 'первый'\n",
    "    elif row['floor'] == row['floors_total']:\n",
    "        return 'последний'\n",
    "    else:\n",
    "        return 'другой'\n",
    "df['floor_type'] = df.apply(floor_group, axis=1)\n",
    "\n",
    "#Расстояние до центра\n",
    "df['city_centers'] = df['city_centers_nearest']/1000\n",
    "df['city_centers'] = df['city_centers'].round(0)\n",
    "\n",
    "df.head()"
   ]
  },
  {
   "cell_type": "markdown",
   "metadata": {},
   "source": [
    "### Проведите исследовательский анализ данных"
   ]
  },
  {
   "cell_type": "markdown",
   "metadata": {},
   "source": [
    "<div style=\"border:solid green 2px; padding: 20px\">\n",
    "    Теперь можно построить графики исходя из данных которые у нас получились на выходе"
   ]
  },
  {
   "cell_type": "code",
   "execution_count": 12,
   "metadata": {
    "scrolled": false
   },
   "outputs": [
    {
     "data": {
      "image/png": "[encoded data removed]",
      "text/plain": [
       "<Figure size 432x288 with 1 Axes>"
      ]
     },
     "metadata": {
      "needs_background": "light"
     },
     "output_type": "display_data"
    },
    {
     "name": "stdout",
     "output_type": "stream",
     "text": [
      "По графику видно, что основа всех объявлений - квартиры площадью от 30 до 60 кв метров. \n",
      "После наблюдается спад количества продаваемых квартир. Так же заметен пик на 50 кв метрах,\n",
      "можно предположить что это самое интересное предложение для покупателя, ибо спрос рождает предложение.\n"
     ]
    },
    {
     "data": {
      "image/png": "[encoded data removed]",
      "text/plain": [
       "<Figure size 432x288 with 1 Axes>"
      ]
     },
     "metadata": {
      "needs_background": "light"
     },
     "output_type": "display_data"
    },
    {
     "name": "stdout",
     "output_type": "stream",
     "text": [
      "Значения жилплощади контрастируют относительно других в двух значениях, 18 и 32 кв м. \n",
      "Можно предположить, что это связано с привлекательной стоимостью студий 18 кв м, и однокомнатных 32 кв м.\n"
     ]
    },
    {
     "data": {
      "image/png": "[encoded data removed]",
      "text/plain": [
       "<Figure size 432x288 with 1 Axes>"
      ]
     },
     "metadata": {
      "needs_background": "light"
     },
     "output_type": "display_data"
    },
    {
     "name": "stdout",
     "output_type": "stream",
     "text": [
      "Наблюдается пик площади кухни в значении от 6 до 12 кв м.\n"
     ]
    },
    {
     "data": {
      "image/png": "[encoded data removed]",
      "text/plain": [
       "<Figure size 432x288 with 1 Axes>"
      ]
     },
     "metadata": {
      "needs_background": "light"
     },
     "output_type": "display_data"
    },
    {
     "name": "stdout",
     "output_type": "stream",
     "text": [
      "Стоимость квартир интересна от 2.5 до 6 миллионов рублей.\n"
     ]
    },
    {
     "data": {
      "image/png": "[encoded data removed]",
      "text/plain": [
       "<Figure size 432x288 with 1 Axes>"
      ]
     },
     "metadata": {
      "needs_background": "light"
     },
     "output_type": "display_data"
    },
    {
     "name": "stdout",
     "output_type": "stream",
     "text": [
      "Преобладающее количество продаж выпадает на долю одной, двух, и трех комнатных квартир.\n"
     ]
    },
    {
     "data": {
      "image/png": "[encoded data removed]",
      "text/plain": [
       "<Figure size 432x288 with 1 Axes>"
      ]
     },
     "metadata": {
      "needs_background": "light"
     },
     "output_type": "display_data"
    },
    {
     "name": "stdout",
     "output_type": "stream",
     "text": [
      "В подавляющем большинстве высота потолка не превышает 2,5 метров.\n"
     ]
    },
    {
     "data": {
      "image/png": "[encoded data removed]",
      "text/plain": [
       "<Figure size 432x288 with 1 Axes>"
      ]
     },
     "metadata": {
      "needs_background": "light"
     },
     "output_type": "display_data"
    },
    {
     "name": "stdout",
     "output_type": "stream",
     "text": [
      "Основная доля продаж квартир выходит на этажность с первого по пятый. \n",
      "Затем наблюдается снижение спроса.\n"
     ]
    },
    {
     "data": {
      "image/png": "[encoded data removed]",
      "text/plain": [
       "<Figure size 432x288 with 1 Axes>"
      ]
     },
     "metadata": {
      "needs_background": "light"
     },
     "output_type": "display_data"
    },
    {
     "name": "stdout",
     "output_type": "stream",
     "text": [
      "Большее количество покупателей предпочитают квартиры не на первом и не на последнем этажах.\n"
     ]
    },
    {
     "data": {
      "image/png": "[encoded data removed]",
      "text/plain": [
       "<Figure size 432x288 with 1 Axes>"
      ]
     },
     "metadata": {
      "needs_background": "light"
     },
     "output_type": "display_data"
    },
    {
     "name": "stdout",
     "output_type": "stream",
     "text": [
      "Подавляющее большинство квартир продаются в 5 этажных домах. Предполагаем что это вторичное жилье в старом жилом фонде.\n"
     ]
    },
    {
     "data": {
      "image/png": "[encoded data removed]",
      "text/plain": [
       "<Figure size 432x288 with 1 Axes>"
      ]
     },
     "metadata": {
      "needs_background": "light"
     },
     "output_type": "display_data"
    },
    {
     "name": "stdout",
     "output_type": "stream",
     "text": [
      "Акцентированное внимание стоит уделить пику от 10 до 20 километров. \n",
      "Такое расстояние до центра возможно связано с оптимальным соотношением цена/расстояние. \n",
      "Так же стоит обратить внимание на пик от 5 до 8 км от центра.\n"
     ]
    },
    {
     "data": {
      "image/png": "[encoded data removed]",
      "text/plain": [
       "<Figure size 432x288 with 1 Axes>"
      ]
     },
     "metadata": {
      "needs_background": "light"
     },
     "output_type": "display_data"
    },
    {
     "name": "stdout",
     "output_type": "stream",
     "text": [
      "В целом, могу предположить что расстояние до аэропорта не имеет значения для большинства клиентов. \n",
      "Оно показано относительно ровным фоном от 10 до 40 км, предполагаю корелляцию этого значения с центром города.\n"
     ]
    },
    {
     "data": {
      "image/png": "[encoded data removed]",
      "text/plain": [
       "<Figure size 432x288 with 1 Axes>"
      ]
     },
     "metadata": {
      "needs_background": "light"
     },
     "output_type": "display_data"
    },
    {
     "name": "stdout",
     "output_type": "stream",
     "text": [
      "Судя по графику, парк в районе 500 метров от дома существенно влияет на продажу квартиры.\n"
     ]
    },
    {
     "data": {
      "image/png": "[encoded data removed]",
      "text/plain": [
       "<Figure size 432x288 with 1 Axes>"
      ]
     },
     "metadata": {
      "needs_background": "light"
     },
     "output_type": "display_data"
    },
    {
     "name": "stdout",
     "output_type": "stream",
     "text": [
      "Большинство объявлений публикуются с понедельника по пятницу.\n"
     ]
    },
    {
     "data": {
      "image/png": "[encoded data removed]",
      "text/plain": [
       "<Figure size 432x288 with 1 Axes>"
      ]
     },
     "metadata": {
      "needs_background": "light"
     },
     "output_type": "display_data"
    },
    {
     "name": "stdout",
     "output_type": "stream",
     "text": [
      "Декабрь и январь - сезон продаж. В апреле наблюдается просадка спроса. \n",
      "С мая по декабрь рост продаж, с января по апрель плавное падение.\n"
     ]
    }
   ],
   "source": [
    "#Площадь общая\n",
    "plt.hist(df['total_area'], bins=30, range=(10,200))\n",
    "plt.title('Площадь квартир')\n",
    "plt.xlabel('Квадратные метры')\n",
    "plt.ylabel('Количество квартир')\n",
    "plt.show()\n",
    "print(\n",
    "'По графику видно, что основа всех объявлений - квартиры площадью от 30 до 60 кв метров. \\nПосле наблюдается спад количества продаваемых квартир. Так же заметен пик на 50 кв метрах,\\nможно предположить что это самое интересное предложение для покупателя, ибо спрос рождает предложение.'\n",
    ")\n",
    "\n",
    "#Жилая площадь\n",
    "plt.hist(df['living_area'], bins=70, range=(10,80))\n",
    "plt.title('Жилая площадь')\n",
    "plt.xlabel('Квадратные метры')\n",
    "plt.ylabel('Количество квартир')\n",
    "plt.show()\n",
    "print(\n",
    "'Значения жилплощади контрастируют относительно других в двух значениях, 18 и 32 кв м. \\nМожно предположить, что это связано с привлекательной стоимостью студий 18 кв м, и однокомнатных 32 кв м.'\n",
    ")\n",
    "\n",
    "#Площадь кухни\n",
    "plt.hist(df['kitchen_area'], bins=30, range=(0,30))\n",
    "plt.title('Площадь кухни')\n",
    "plt.xlabel('Квадратные метры')\n",
    "plt.ylabel('Количество квартир')\n",
    "plt.show()\n",
    "print(\n",
    "'Наблюдается пик площади кухни в значении от 6 до 12 кв м.'\n",
    ")\n",
    "\n",
    "#Стоимость квартир\n",
    "plt.hist(df['last_price'], bins=30, range=(0,20000000))\n",
    "plt.title('Стоимость квартир')\n",
    "plt.xlabel('Стоимость')\n",
    "plt.ylabel('Количество квартир')\n",
    "plt.show()\n",
    "print(\n",
    "'Стоимость квартир интересна от 2.5 до 6 миллионов рублей.'\n",
    ")\n",
    "\n",
    "#Комнаты\n",
    "plt.hist(df['rooms'], bins=7, range=(1,7))\n",
    "plt.title('Комнаты')\n",
    "plt.xlabel('Количество комнат')\n",
    "plt.ylabel('Количество квартир')\n",
    "plt.show()\n",
    "print(\n",
    "'Преобладающее количество продаж выпадает на долю одной, двух, и трех комнатных квартир.'\n",
    ")\n",
    "\n",
    "#Высота потолка\n",
    "plt.hist(df['ceiling_height'], bins=15, range =(1,6))\n",
    "plt.title('Высота потолков')\n",
    "plt.xlabel('Метры')\n",
    "plt.ylabel('Количество квартир')\n",
    "plt.show()\n",
    "print(\n",
    "'В подавляющем большинстве высота потолка не превышает 2,5 метров.'\n",
    ")\n",
    "\n",
    "#Этаж\n",
    "plt.hist(df['floor'], bins=60)\n",
    "plt.title('Этажнось квартиры')\n",
    "plt.xlabel('Этажность')\n",
    "plt.ylabel('Количество квартир')\n",
    "plt.show()\n",
    "print(\n",
    "'Основная доля продаж квартир выходит на этажность с первого по пятый. \\nЗатем наблюдается снижение спроса.'\n",
    ")\n",
    "\n",
    "#Тип этажа квартиры\n",
    "plt.hist(df['floor_type'], bins=5)\n",
    "plt.title('Тип этажа квартиры')\n",
    "plt.xlabel('Тип')\n",
    "plt.ylabel('Количество квартир')\n",
    "plt.show()\n",
    "print(\n",
    "'Большее количество покупателей предпочитают квартиры не на первом и не на последнем этажах.'\n",
    ")\n",
    "\n",
    "#Количество этажей\n",
    "plt.hist(df['floors_total'], bins=50, range=(0,40))\n",
    "plt.title('Общее количество этажей')\n",
    "plt.xlabel('Всего этажей')\n",
    "plt.ylabel('Количество квартир')\n",
    "plt.show()\n",
    "print(\n",
    "'Подавляющее большинство квартир продаются в 5 этажных домах. Предполагаем что это вторичное жилье в старом жилом фонде.'\n",
    ")\n",
    "\n",
    "#Расстояние до центра\n",
    "plt.hist(df['city_centers_nearest'], bins=100)\n",
    "plt.title('Расстояние до центра города')\n",
    "plt.xlabel('Метры')\n",
    "plt.ylabel('Количество квартир')\n",
    "plt.show()\n",
    "print(\n",
    "'Акцентированное внимание стоит уделить пику от 10 до 20 километров. \\nТакое расстояние до центра возможно связано с оптимальным соотношением цена/расстояние. \\nТак же стоит обратить внимание на пик от 5 до 8 км от центра.'\n",
    ")\n",
    "\n",
    "#Расстояние до аэропорта\n",
    "plt.hist(df['airports_nearest'], bins=80)\n",
    "plt.title('Расстояние до ближайшего аэропорта')\n",
    "plt.xlabel('Метры')\n",
    "plt.ylabel('Количество квартир')\n",
    "plt.show()\n",
    "print(\n",
    "'В целом, могу предположить что расстояние до аэропорта не имеет значения для большинства клиентов. \\nОно показано относительно ровным фоном от 10 до 40 км, предполагаю корелляцию этого значения с центром города.'\n",
    ")\n",
    "\n",
    "#Расстояние до парка\n",
    "plt.hist(df['parks_nearest'], bins=80)\n",
    "plt.title('Расстояние до ближайшего парка')\n",
    "plt.xlabel('Метры')\n",
    "plt.ylabel('Количество квартир')\n",
    "plt.show()\n",
    "print(\n",
    "'Судя по графику, парк в районе 500 метров от дома существенно влияет на продажу квартиры.'\n",
    ")\n",
    "\n",
    "#День публикации объявления\n",
    "plt.hist(df['weekday'], bins=7,range=(0,7))\n",
    "plt.title('День публикации объявления')\n",
    "plt.xlabel('День недели')\n",
    "plt.ylabel('Количество квартир')\n",
    "plt.show()\n",
    "print(\n",
    "'Большинство объявлений публикуются с понедельника по пятницу.'\n",
    ")\n",
    "\n",
    "#Месяц публикации объявления\n",
    "plt.hist(df['month'], range=(1,12))\n",
    "plt.title('Месяц публикации объявления')\n",
    "plt.xlabel('Месяц')\n",
    "plt.ylabel('Количество квартир')\n",
    "plt.show()\n",
    "print(\n",
    "'Декабрь и январь - сезон продаж. В апреле наблюдается просадка спроса. \\nС мая по декабрь рост продаж, с января по апрель плавное падение.'\n",
    ")"
   ]
  },
  {
   "cell_type": "code",
   "execution_count": 13,
   "metadata": {},
   "outputs": [
    {
     "name": "stdout",
     "output_type": "stream",
     "text": [
      "Время продажи (медиана): 95\n",
      "Время продажи (среднее): 181\n"
     ]
    },
    {
     "data": {
      "image/png": "[encoded data removed]",
      "text/plain": [
       "<Figure size 432x288 with 1 Axes>"
      ]
     },
     "metadata": {
      "needs_background": "light"
     },
     "output_type": "display_data"
    },
    {
     "data": {
      "text/plain": [
       "<Figure size 720x504 with 0 Axes>"
      ]
     },
     "metadata": {},
     "output_type": "display_data"
    },
    {
     "data": {
      "text/plain": [
       "count    20010.000000\n",
       "mean       180.535382\n",
       "std        219.316183\n",
       "min          1.000000\n",
       "25%         45.000000\n",
       "50%         95.000000\n",
       "75%        231.000000\n",
       "max       1580.000000\n",
       "Name: days_exposition, dtype: float64"
      ]
     },
     "execution_count": 13,
     "metadata": {},
     "output_type": "execute_result"
    }
   ],
   "source": [
    "#\n",
    "print('Время продажи (медиана):', round(df.query('days_exposition != 9999')['days_exposition'].median()))\n",
    "print('Время продажи (среднее):', round(df.query('days_exposition != 9999')['days_exposition'].mean()))\n",
    "plt.hist(df['days_exposition'], bins=100, range=(1,1000))\n",
    "plt.title('Время продажи')\n",
    "plt.xlabel('Дни')\n",
    "plt.ylabel('Количество квартир')\n",
    "plt.figure(figsize=(10,7))\n",
    "plt.show()\n",
    "df.query('days_exposition != 9999')['days_exposition'].describe()"
   ]
  },
  {
   "cell_type": "markdown",
   "metadata": {},
   "source": [
    "<div style=\"border:solid green 2px; padding: 20px\">\n",
    "    Вывод: Время продажи в медианном (95) значении сильно отличается от среднего(180). Большиное количество квартир продаются в первые дни после публикации. До 200 дней можно считать продажу быстрой, после - наблюдается спад статистики продаж, единичные случаи достигают срока продаж в несколько лет."
   ]
  },
  {
   "cell_type": "code",
   "execution_count": 14,
   "metadata": {},
   "outputs": [
    {
     "data": {
      "text/html": [
       "<div>\n",
       "<style scoped>\n",
       "    .dataframe tbody tr th:only-of-type {\n",
       "        vertical-align: middle;\n",
       "    }\n",
       "\n",
       "    .dataframe tbody tr th {\n",
       "        vertical-align: top;\n",
       "    }\n",
       "\n",
       "    .dataframe thead th {\n",
       "        text-align: right;\n",
       "    }\n",
       "</style>\n",
       "<table border=\"1\" class=\"dataframe\">\n",
       "  <thead>\n",
       "    <tr style=\"text-align: right;\">\n",
       "      <th></th>\n",
       "      <th>last_price</th>\n",
       "      <th>one_price</th>\n",
       "      <th>total_area</th>\n",
       "      <th>rooms</th>\n",
       "      <th>city_centers</th>\n",
       "    </tr>\n",
       "  </thead>\n",
       "  <tbody>\n",
       "    <tr>\n",
       "      <th>last_price</th>\n",
       "      <td>1.000000</td>\n",
       "      <td>0.772193</td>\n",
       "      <td>0.671853</td>\n",
       "      <td>0.351518</td>\n",
       "      <td>-0.243006</td>\n",
       "    </tr>\n",
       "    <tr>\n",
       "      <th>one_price</th>\n",
       "      <td>0.772193</td>\n",
       "      <td>1.000000</td>\n",
       "      <td>0.295647</td>\n",
       "      <td>0.022559</td>\n",
       "      <td>-0.332824</td>\n",
       "    </tr>\n",
       "    <tr>\n",
       "      <th>total_area</th>\n",
       "      <td>0.671853</td>\n",
       "      <td>0.295647</td>\n",
       "      <td>1.000000</td>\n",
       "      <td>0.740918</td>\n",
       "      <td>-0.228688</td>\n",
       "    </tr>\n",
       "    <tr>\n",
       "      <th>rooms</th>\n",
       "      <td>0.351518</td>\n",
       "      <td>0.022559</td>\n",
       "      <td>0.740918</td>\n",
       "      <td>1.000000</td>\n",
       "      <td>-0.163503</td>\n",
       "    </tr>\n",
       "    <tr>\n",
       "      <th>city_centers</th>\n",
       "      <td>-0.243006</td>\n",
       "      <td>-0.332824</td>\n",
       "      <td>-0.228688</td>\n",
       "      <td>-0.163503</td>\n",
       "      <td>1.000000</td>\n",
       "    </tr>\n",
       "  </tbody>\n",
       "</table>\n",
       "</div>"
      ],
      "text/plain": [
       "              last_price  one_price  total_area     rooms  city_centers\n",
       "last_price      1.000000   0.772193    0.671853  0.351518     -0.243006\n",
       "one_price       0.772193   1.000000    0.295647  0.022559     -0.332824\n",
       "total_area      0.671853   0.295647    1.000000  0.740918     -0.228688\n",
       "rooms           0.351518   0.022559    0.740918  1.000000     -0.163503\n",
       "city_centers   -0.243006  -0.332824   -0.228688 -0.163503      1.000000"
      ]
     },
     "execution_count": 14,
     "metadata": {},
     "output_type": "execute_result"
    },
    {
     "data": {
      "image/png": "[encoded data removed]",
      "text/plain": [
       "<Figure size 720x720 with 20 Axes>"
      ]
     },
     "metadata": {
      "needs_background": "light"
     },
     "output_type": "display_data"
    }
   ],
   "source": [
    "#Вместо того что я написал в тот раз, лучше построить матрицу корелляций.\n",
    "sns.pairplot(df[['last_price', 'one_price', 'total_area', 'rooms']]);\n",
    "\n",
    "#А так же вывести для наглядности сводную таблицу в цифрах\n",
    "df[['last_price', 'one_price', 'total_area', 'rooms', 'city_centers']].corr()"
   ]
  },
  {
   "cell_type": "code",
   "execution_count": 15,
   "metadata": {},
   "outputs": [
    {
     "data": {
      "image/png": "[encoded data removed]",
      "text/plain": [
       "<Figure size 720x360 with 1 Axes>"
      ]
     },
     "metadata": {
      "needs_background": "light"
     },
     "output_type": "display_data"
    },
    {
     "data": {
      "image/png": "[encoded data removed]",
      "text/plain": [
       "<Figure size 720x360 with 1 Axes>"
      ]
     },
     "metadata": {
      "needs_background": "light"
     },
     "output_type": "display_data"
    },
    {
     "data": {
      "image/png": "[encoded data removed]",
      "text/plain": [
       "<Figure size 720x360 with 1 Axes>"
      ]
     },
     "metadata": {
      "needs_background": "light"
     },
     "output_type": "display_data"
    },
    {
     "data": {
      "image/png": "[encoded data removed]",
      "text/plain": [
       "<Figure size 720x360 with 1 Axes>"
      ]
     },
     "metadata": {
      "needs_background": "light"
     },
     "output_type": "display_data"
    }
   ],
   "source": [
    "#Строим информативные таблицы методом pivot_table\n",
    "#Зависимость цены от типа этажа\n",
    "floors = df.pivot_table(index='floor_type', values='last_price', aggfunc=['median'])\n",
    "floors.plot.bar(title ='Зависимость цены от типа этажа', xlabel='Тип этажа', ylabel='Стоимость', grid=True, figsize=(10, 5));\n",
    "\n",
    "#Зависимость от дня размещения\n",
    "weekday = df.pivot_table(index='weekday', values='last_price', aggfunc=['median'])\n",
    "weekday.plot.bar(title ='Зависимость от дня размещения', xlabel='День размещения', ylabel='Стоимость', grid=True, figsize=(10, 5));\n",
    "\n",
    "#Зависимость от месяца размещения\n",
    "month = df.pivot_table(index='month', values='last_price', aggfunc=['median'])\n",
    "month.plot.bar(title ='Зависимость от месяца размещения', xlabel='Месяц размещения', ylabel='Стоимость', grid=True, figsize=(10, 5));\n",
    "\n",
    "#Зависимость от года размещения\n",
    "year = df.pivot_table(index='year', values='last_price', aggfunc=['median'])\n",
    "year.plot.bar(title ='Зависимость от года размещения', xlabel='Год размещения', ylabel='Стоимость', grid=True, figsize=(10, 5));"
   ]
  },
  {
   "cell_type": "markdown",
   "metadata": {},
   "source": [
    "<div style=\"border:solid green 2px; padding: 20px\">\n",
    "    Я вижу незначительные изменения в таблице с днем и месяцем размещения, есть различия, но столь не значительные что брать их во внимание не целесообразно. А вот зависимость этажа влияет на стоимость. Заметно что первый этаж стоит дешевле нежели последний, и любой другой. Это подтверждает связь со снижением спроса на первый этаж у покупателей, при построении общего графика продаж.\n",
    "    \n",
    "    В 2014 году зафиксирована самая высокая стоимость квартир, плавно идущая на спад до 2016 года. С 2017 года наблюдается незначительный прирост стоимости. Год влияет на стоимость квартиры."
   ]
  },
  {
   "cell_type": "code",
   "execution_count": 17,
   "metadata": {},
   "outputs": [
    {
     "data": {
      "text/html": [
       "<div>\n",
       "<style scoped>\n",
       "    .dataframe tbody tr th:only-of-type {\n",
       "        vertical-align: middle;\n",
       "    }\n",
       "\n",
       "    .dataframe tbody tr th {\n",
       "        vertical-align: top;\n",
       "    }\n",
       "\n",
       "    .dataframe thead th {\n",
       "        text-align: right;\n",
       "    }\n",
       "</style>\n",
       "<table border=\"1\" class=\"dataframe\">\n",
       "  <thead>\n",
       "    <tr style=\"text-align: right;\">\n",
       "      <th></th>\n",
       "      <th>one_price</th>\n",
       "    </tr>\n",
       "    <tr>\n",
       "      <th>locality_name</th>\n",
       "      <th></th>\n",
       "    </tr>\n",
       "  </thead>\n",
       "  <tbody>\n",
       "    <tr>\n",
       "      <th>санкт-петербург</th>\n",
       "      <td>114153.099346</td>\n",
       "    </tr>\n",
       "    <tr>\n",
       "      <th>пушкин</th>\n",
       "      <td>103152.863014</td>\n",
       "    </tr>\n",
       "    <tr>\n",
       "      <th>деревня кудрово</th>\n",
       "      <td>92296.749117</td>\n",
       "    </tr>\n",
       "    <tr>\n",
       "      <th>поселок парголово</th>\n",
       "      <td>90448.000000</td>\n",
       "    </tr>\n",
       "    <tr>\n",
       "      <th>поселок мурино</th>\n",
       "      <td>85066.228571</td>\n",
       "    </tr>\n",
       "    <tr>\n",
       "      <th>поселок шушары</th>\n",
       "      <td>78277.473563</td>\n",
       "    </tr>\n",
       "    <tr>\n",
       "      <th>колпино</th>\n",
       "      <td>75332.866469</td>\n",
       "    </tr>\n",
       "    <tr>\n",
       "      <th>гатчина</th>\n",
       "      <td>68757.225490</td>\n",
       "    </tr>\n",
       "    <tr>\n",
       "      <th>всеволожск</th>\n",
       "      <td>68633.592308</td>\n",
       "    </tr>\n",
       "    <tr>\n",
       "      <th>выборг</th>\n",
       "      <td>58189.709402</td>\n",
       "    </tr>\n",
       "  </tbody>\n",
       "</table>\n",
       "</div>"
      ],
      "text/plain": [
       "                       one_price\n",
       "locality_name                   \n",
       "санкт-петербург    114153.099346\n",
       "пушкин             103152.863014\n",
       "деревня кудрово     92296.749117\n",
       "поселок парголово   90448.000000\n",
       "поселок мурино      85066.228571\n",
       "поселок шушары      78277.473563\n",
       "колпино             75332.866469\n",
       "гатчина             68757.225490\n",
       "всеволожск          68633.592308\n",
       "выборг              58189.709402"
      ]
     },
     "metadata": {},
     "output_type": "display_data"
    },
    {
     "data": {
      "image/png": "[encoded data removed]",
      "text/plain": [
       "<Figure size 1440x720 with 1 Axes>"
      ]
     },
     "metadata": {
      "needs_background": "light"
     },
     "output_type": "display_data"
    }
   ],
   "source": [
    "#Здесь можем вывести стоимость кв метра у населенных пунктов\n",
    "local = df['locality_name'].value_counts().head(10)\n",
    "local_one_price = df.query('locality_name in @local.index').pivot_table(values='one_price', index ='locality_name', aggfunc='mean')\n",
    "display(local_one_price.sort_values('one_price', ascending=False))\n",
    "local_one_price.plot(title ='Стоимость квадратного метра', xlabel = 'Населённый пункт',\n",
    "          ylabel = 'Стоимость',grid=True, style='o-', figsize=(20, 10));"
   ]
  },
  {
   "cell_type": "markdown",
   "metadata": {},
   "source": [
    "<div style=\"border:solid green 2px; padding: 20px\">\n",
    "Вывод: Стоимость кв метра напрямую зависит от расстояния до города. Чем дальше расположен населенный пункт от города - тем стоимость его ниже, в сводной таблице видно распределение стоимостей по убыванию от самой большой в СПб, до самой низкой в Выборге.\n",
    "    "
   ]
  },
  {
   "cell_type": "code",
   "execution_count": 18,
   "metadata": {},
   "outputs": [
    {
     "data": {
      "image/png": "[encoded data removed]",
      "text/plain": [
       "<Figure size 720x720 with 1 Axes>"
      ]
     },
     "metadata": {
      "needs_background": "light"
     },
     "output_type": "display_data"
    }
   ],
   "source": [
    "#Средняя стоимость каждого километра\n",
    "(\n",
    "    df.query('locality_name == \"санкт-петербург\"')\n",
    "    .pivot_table(index='city_centers', values='last_price',aggfunc='mean')\n",
    "    .plot(title ='Средняя стоимость каждого километра', grid=True, figsize=(10,10),xlim=(0,25))\n",
    ");"
   ]
  },
  {
   "cell_type": "markdown",
   "metadata": {},
   "source": [
    "<div style=\"border:solid green 2px; padding: 20px\">\n",
    "    Вывод: Центральной зоной является расстояние до 6км, затем на графике наблюдается значительное снижение стоимости"
   ]
  },
  {
   "cell_type": "markdown",
   "metadata": {},
   "source": [
    "### Общий вывод"
   ]
  },
  {
   "cell_type": "markdown",
   "metadata": {},
   "source": [
    "<div style=\"border:solid green 2px; padding: 20px\">\n",
    "<h3>Мы провели комплексное исследование:</h3>\n",
    "    \n",
    "    \n",
    "\n",
    "    \n",
    " - **Обработали данные**  \n",
    "просмотрели исходную таблицу оценив объем работы  \n",
    "исключили пропуски  \n",
    "устранили аномальные значения для точности результата  \n",
    "избавились от явных и неявных дубликатов\n",
    "\n",
    "    \n",
    " - **Привели к единому стандарту**  \n",
    "    сделали единый регистр в названиях колонок и строк  \n",
    "    привели значения к нужному типу  \n",
    "    подписали таблицы для легкого визуального восприятия\n",
    "    \n",
    "\n",
    "    \n",
    " - **Отсортировали, создали новые колонки для удобства и понимания**  \n",
    "    появились новые колонки с днем, месяцем, и годом продаж для понимания корелляции значений\n",
    "    \n",
    "\n",
    "    \n",
    " - **Сделали выводы на основе полученных результатов**  \n",
    "    \n",
    "    \n",
    "    Вывели графики исходя из которых смогли сделать предположения, выдвинуть гипотезы для дальнейшей работы. Таким образом облегчили понимание информации, и сконцентрировали внимание на действительно важных событиях.\n",
    "    \n",
    "    Наглядно увидели корелляцию колонок между собой блягодаря сводной таблице и графику. Это позволило сопоставить значения и понять как данные взаимосвязаны.\n",
    "    \n",
    "    Мы подтвердили гипотезу о влиянии стоимости квартиры в зависимости от этажа. Таким образом подтвердилась информация графика с общим количеством продаж на снижение спроса для квартир находящихся на первом этаже. Так же узнали, что год влияет на стоимость квартир, и на данный момент наблюдается рост цены.\n",
    "    \n",
    "    Мы выяснили, что быстрой продажей является значение до 45 дней, в среднем квартиру продают в срок до 95 дней, а максимальное время продажи может достигать нескольких лет (1580 дней = ориентировочно 4.5 года).\n",
    "    \n",
    "    Средняя цена в 10 населенных пунктах была выстроена в порядке убывания. Таким образом мы знаем, что самой высокой стоимостью за кв метр площади равняется значение в Санкт-Петербурге (114431р), а самой низкой стоимостью выявлен Выборг (58142р)\n",
    "    \n",
    "    Выяснено, что самая высокая стоимость в Санкт-Петербурге держится на расстоянии около 8 км от центра города. Все что дальше - имеет тенденцию значительного снижения стоимости."
   ]
  }
 ],
 "metadata": {
  "ExecuteTimeLog": [
   {
    "duration": 496,
    "start_time": "2023-02-06T10:15:13.650Z"
   },
   {
    "duration": 8,
    "start_time": "2023-02-06T10:15:23.427Z"
   },
   {
    "duration": 7,
    "start_time": "2023-02-06T10:15:32.172Z"
   },
   {
    "duration": 319,
    "start_time": "2023-02-06T12:41:11.178Z"
   },
   {
    "duration": 102,
    "start_time": "2023-02-06T12:41:22.190Z"
   },
   {
    "duration": 136,
    "start_time": "2023-02-06T14:04:29.193Z"
   },
   {
    "duration": 692,
    "start_time": "2023-02-07T19:51:34.277Z"
   },
   {
    "duration": 126,
    "start_time": "2023-02-07T19:52:22.761Z"
   },
   {
    "duration": 127,
    "start_time": "2023-02-07T19:52:35.105Z"
   },
   {
    "duration": 10,
    "start_time": "2023-02-07T20:17:30.878Z"
   },
   {
    "duration": 2615,
    "start_time": "2023-02-07T20:34:04.800Z"
   },
   {
    "duration": 133,
    "start_time": "2023-02-07T20:34:27.638Z"
   },
   {
    "duration": 2042,
    "start_time": "2023-02-07T20:34:42.521Z"
   },
   {
    "duration": 134,
    "start_time": "2023-02-07T20:43:02.935Z"
   },
   {
    "duration": 11,
    "start_time": "2023-02-07T20:56:51.170Z"
   },
   {
    "duration": 10,
    "start_time": "2023-02-07T20:57:03.767Z"
   },
   {
    "duration": 827,
    "start_time": "2023-02-08T19:30:02.042Z"
   },
   {
    "duration": 2346,
    "start_time": "2023-02-08T19:30:02.871Z"
   },
   {
    "duration": 9,
    "start_time": "2023-02-08T19:30:05.219Z"
   },
   {
    "duration": 651,
    "start_time": "2023-02-22T19:56:01.291Z"
   },
   {
    "duration": 2577,
    "start_time": "2023-02-22T19:56:01.945Z"
   },
   {
    "duration": 11,
    "start_time": "2023-02-22T19:56:04.524Z"
   },
   {
    "duration": 1212,
    "start_time": "2023-02-22T20:50:09.022Z"
   },
   {
    "duration": 1087,
    "start_time": "2023-02-22T20:50:34.242Z"
   },
   {
    "duration": 15,
    "start_time": "2023-02-22T20:50:50.332Z"
   },
   {
    "duration": 14,
    "start_time": "2023-02-22T20:51:49.369Z"
   },
   {
    "duration": 4,
    "start_time": "2023-02-22T20:52:16.558Z"
   },
   {
    "duration": 8,
    "start_time": "2023-02-22T20:52:22.443Z"
   },
   {
    "duration": 14,
    "start_time": "2023-02-22T20:52:26.644Z"
   },
   {
    "duration": 7,
    "start_time": "2023-02-22T20:52:41.449Z"
   },
   {
    "duration": 10,
    "start_time": "2023-02-22T20:52:47.904Z"
   },
   {
    "duration": 11,
    "start_time": "2023-02-22T20:52:56.209Z"
   },
   {
    "duration": 566,
    "start_time": "2023-02-22T20:53:59.544Z"
   },
   {
    "duration": 9,
    "start_time": "2023-02-22T20:54:04.634Z"
   },
   {
    "duration": 558,
    "start_time": "2023-02-22T20:54:11.366Z"
   },
   {
    "duration": 563,
    "start_time": "2023-02-22T20:54:16.514Z"
   },
   {
    "duration": 1197,
    "start_time": "2023-02-22T20:54:28.611Z"
   },
   {
    "duration": 1119,
    "start_time": "2023-02-22T20:54:43.404Z"
   },
   {
    "duration": 135,
    "start_time": "2023-02-22T20:55:09.663Z"
   },
   {
    "duration": 124,
    "start_time": "2023-02-22T20:55:37.364Z"
   },
   {
    "duration": 1155,
    "start_time": "2023-02-22T20:55:56.902Z"
   },
   {
    "duration": 1103,
    "start_time": "2023-02-22T20:56:19.874Z"
   },
   {
    "duration": 6,
    "start_time": "2023-02-22T20:56:36.204Z"
   },
   {
    "duration": 8,
    "start_time": "2023-02-22T20:56:44.156Z"
   },
   {
    "duration": 1147,
    "start_time": "2023-02-22T20:57:55.524Z"
   },
   {
    "duration": 1109,
    "start_time": "2023-02-22T20:58:17.446Z"
   },
   {
    "duration": 1088,
    "start_time": "2023-02-22T20:58:21.719Z"
   },
   {
    "duration": 1067,
    "start_time": "2023-02-22T20:58:28.569Z"
   },
   {
    "duration": 8,
    "start_time": "2023-02-22T20:58:35.172Z"
   },
   {
    "duration": 1110,
    "start_time": "2023-02-22T20:58:43.208Z"
   },
   {
    "duration": 1052,
    "start_time": "2023-02-22T20:58:52.095Z"
   },
   {
    "duration": 11,
    "start_time": "2023-02-22T21:00:49.169Z"
   },
   {
    "duration": 11,
    "start_time": "2023-02-22T21:00:59.704Z"
   },
   {
    "duration": 15,
    "start_time": "2023-02-22T21:01:25.651Z"
   },
   {
    "duration": 10,
    "start_time": "2023-02-22T21:01:43.757Z"
   },
   {
    "duration": 7,
    "start_time": "2023-02-22T21:02:03.507Z"
   },
   {
    "duration": 7,
    "start_time": "2023-02-22T21:02:30.776Z"
   },
   {
    "duration": 588,
    "start_time": "2023-02-22T21:02:35.722Z"
   },
   {
    "duration": 14,
    "start_time": "2023-02-22T21:03:00.182Z"
   },
   {
    "duration": 11,
    "start_time": "2023-02-22T21:03:26.959Z"
   },
   {
    "duration": 16,
    "start_time": "2023-02-22T21:03:35.523Z"
   },
   {
    "duration": 11,
    "start_time": "2023-02-22T21:04:26.156Z"
   },
   {
    "duration": 12,
    "start_time": "2023-02-22T21:04:36.524Z"
   },
   {
    "duration": 11,
    "start_time": "2023-02-22T21:10:54.649Z"
   },
   {
    "duration": 568,
    "start_time": "2023-02-22T21:11:38.430Z"
   },
   {
    "duration": 634,
    "start_time": "2023-02-22T21:12:07.552Z"
   },
   {
    "duration": 9,
    "start_time": "2023-02-22T21:14:32.921Z"
   },
   {
    "duration": 10,
    "start_time": "2023-02-22T21:14:38.259Z"
   },
   {
    "duration": 5,
    "start_time": "2023-02-22T21:14:44.485Z"
   },
   {
    "duration": 4,
    "start_time": "2023-02-22T21:15:01.859Z"
   },
   {
    "duration": 17,
    "start_time": "2023-02-22T21:16:11.053Z"
   },
   {
    "duration": 612,
    "start_time": "2023-02-22T21:17:20.636Z"
   },
   {
    "duration": 4,
    "start_time": "2023-02-22T21:17:42.804Z"
   },
   {
    "duration": 11,
    "start_time": "2023-02-22T21:17:49.521Z"
   },
   {
    "duration": 739,
    "start_time": "2023-02-23T20:44:06.491Z"
   },
   {
    "duration": 2615,
    "start_time": "2023-02-23T20:44:07.233Z"
   },
   {
    "duration": 14,
    "start_time": "2023-02-23T20:44:09.850Z"
   },
   {
    "duration": 21,
    "start_time": "2023-02-23T21:06:44.810Z"
   },
   {
    "duration": 22,
    "start_time": "2023-02-23T21:07:15.764Z"
   },
   {
    "duration": 19,
    "start_time": "2023-02-23T21:07:49.447Z"
   },
   {
    "duration": 20,
    "start_time": "2023-02-23T21:07:52.306Z"
   },
   {
    "duration": 14,
    "start_time": "2023-02-23T21:08:36.101Z"
   },
   {
    "duration": 21,
    "start_time": "2023-02-23T21:08:48.581Z"
   },
   {
    "duration": 20,
    "start_time": "2023-02-23T21:09:16.733Z"
   },
   {
    "duration": 68,
    "start_time": "2023-02-23T21:09:52.629Z"
   },
   {
    "duration": 131,
    "start_time": "2023-02-23T21:10:10.830Z"
   },
   {
    "duration": 19,
    "start_time": "2023-02-23T21:10:17.829Z"
   },
   {
    "duration": 21,
    "start_time": "2023-02-23T21:10:39.293Z"
   },
   {
    "duration": 21,
    "start_time": "2023-02-23T21:10:44.621Z"
   },
   {
    "duration": 22,
    "start_time": "2023-02-23T21:13:29.214Z"
   },
   {
    "duration": 29,
    "start_time": "2023-02-23T21:16:55.587Z"
   },
   {
    "duration": 8,
    "start_time": "2023-02-23T21:18:11.568Z"
   },
   {
    "duration": 89,
    "start_time": "2023-02-23T21:18:48.140Z"
   },
   {
    "duration": 8,
    "start_time": "2023-02-23T21:18:59.781Z"
   },
   {
    "duration": 62,
    "start_time": "2023-02-23T21:19:08.452Z"
   },
   {
    "duration": 43,
    "start_time": "2023-02-23T21:21:10.512Z"
   },
   {
    "duration": 6,
    "start_time": "2023-02-23T21:21:15.058Z"
   },
   {
    "duration": 8,
    "start_time": "2023-02-23T21:21:33.615Z"
   },
   {
    "duration": 3,
    "start_time": "2023-02-23T21:21:41.987Z"
   },
   {
    "duration": 5,
    "start_time": "2023-02-23T21:21:54.513Z"
   },
   {
    "duration": 12,
    "start_time": "2023-02-23T21:22:00.928Z"
   },
   {
    "duration": 14,
    "start_time": "2023-02-23T21:26:02.102Z"
   },
   {
    "duration": 924,
    "start_time": "2023-02-23T21:26:19.780Z"
   },
   {
    "duration": 8,
    "start_time": "2023-02-23T21:26:30.259Z"
   },
   {
    "duration": 953,
    "start_time": "2023-02-25T13:00:35.923Z"
   },
   {
    "duration": 2502,
    "start_time": "2023-02-25T13:00:36.878Z"
   },
   {
    "duration": 14,
    "start_time": "2023-02-25T13:00:39.382Z"
   },
   {
    "duration": 31,
    "start_time": "2023-02-25T13:00:39.398Z"
   },
   {
    "duration": 7,
    "start_time": "2023-02-25T13:00:39.431Z"
   },
   {
    "duration": 3,
    "start_time": "2023-02-25T13:00:39.440Z"
   },
   {
    "duration": 8,
    "start_time": "2023-02-25T13:14:43.202Z"
   },
   {
    "duration": 7,
    "start_time": "2023-02-25T13:14:54.866Z"
   },
   {
    "duration": 7,
    "start_time": "2023-02-25T13:15:04.357Z"
   },
   {
    "duration": 9,
    "start_time": "2023-02-25T13:16:44.498Z"
   },
   {
    "duration": 881,
    "start_time": "2023-02-25T13:17:20.261Z"
   },
   {
    "duration": 605,
    "start_time": "2023-02-25T13:17:50.821Z"
   },
   {
    "duration": 675,
    "start_time": "2023-02-25T13:17:56.267Z"
   },
   {
    "duration": 16,
    "start_time": "2023-02-25T13:23:38.289Z"
   },
   {
    "duration": 10,
    "start_time": "2023-02-25T13:25:51.671Z"
   },
   {
    "duration": 9,
    "start_time": "2023-02-25T13:25:56.332Z"
   },
   {
    "duration": 17,
    "start_time": "2023-02-25T13:25:59.989Z"
   },
   {
    "duration": 543,
    "start_time": "2023-02-25T13:26:24.416Z"
   },
   {
    "duration": 2348,
    "start_time": "2023-02-25T13:26:24.961Z"
   },
   {
    "duration": 12,
    "start_time": "2023-02-25T13:26:27.311Z"
   },
   {
    "duration": 16,
    "start_time": "2023-02-25T13:26:27.325Z"
   },
   {
    "duration": 94,
    "start_time": "2023-02-25T13:26:27.342Z"
   },
   {
    "duration": 0,
    "start_time": "2023-02-25T13:26:27.438Z"
   },
   {
    "duration": 12,
    "start_time": "2023-02-25T13:27:45.948Z"
   },
   {
    "duration": 10,
    "start_time": "2023-02-25T13:28:55.724Z"
   },
   {
    "duration": 13,
    "start_time": "2023-02-25T13:29:10.421Z"
   },
   {
    "duration": 18,
    "start_time": "2023-02-25T13:29:18.805Z"
   },
   {
    "duration": 14,
    "start_time": "2023-02-25T13:29:41.709Z"
   },
   {
    "duration": 14,
    "start_time": "2023-02-25T13:30:20.860Z"
   },
   {
    "duration": 19,
    "start_time": "2023-02-25T13:30:28.550Z"
   },
   {
    "duration": 9,
    "start_time": "2023-02-25T13:30:39.507Z"
   },
   {
    "duration": 12,
    "start_time": "2023-02-25T13:30:47.049Z"
   },
   {
    "duration": 12,
    "start_time": "2023-02-25T13:31:02.761Z"
   },
   {
    "duration": 18,
    "start_time": "2023-02-25T13:33:31.761Z"
   },
   {
    "duration": 12,
    "start_time": "2023-02-25T13:33:41.152Z"
   },
   {
    "duration": 20,
    "start_time": "2023-02-25T13:35:59.891Z"
   },
   {
    "duration": 12,
    "start_time": "2023-02-25T13:36:04.355Z"
   },
   {
    "duration": 19,
    "start_time": "2023-02-25T13:36:11.947Z"
   },
   {
    "duration": 13,
    "start_time": "2023-02-25T13:38:18.931Z"
   },
   {
    "duration": 14,
    "start_time": "2023-02-25T13:38:23.115Z"
   },
   {
    "duration": 23,
    "start_time": "2023-02-25T13:46:41.566Z"
   },
   {
    "duration": 17,
    "start_time": "2023-02-25T13:47:08.464Z"
   },
   {
    "duration": 15,
    "start_time": "2023-02-25T13:47:13.753Z"
   },
   {
    "duration": 17,
    "start_time": "2023-02-25T13:47:18.278Z"
   },
   {
    "duration": 16,
    "start_time": "2023-02-25T13:47:37.720Z"
   },
   {
    "duration": 15,
    "start_time": "2023-02-25T13:47:45.466Z"
   },
   {
    "duration": 16,
    "start_time": "2023-02-25T13:47:57.609Z"
   },
   {
    "duration": 24,
    "start_time": "2023-02-25T13:48:06.671Z"
   },
   {
    "duration": 15,
    "start_time": "2023-02-25T13:48:17.263Z"
   },
   {
    "duration": 22,
    "start_time": "2023-02-25T13:48:23.951Z"
   },
   {
    "duration": 25,
    "start_time": "2023-02-25T13:48:26.823Z"
   },
   {
    "duration": 13,
    "start_time": "2023-02-25T13:48:42.423Z"
   },
   {
    "duration": 28,
    "start_time": "2023-02-25T13:49:34.348Z"
   },
   {
    "duration": 23,
    "start_time": "2023-02-25T13:50:47.817Z"
   },
   {
    "duration": 33,
    "start_time": "2023-02-25T13:51:37.578Z"
   },
   {
    "duration": 30,
    "start_time": "2023-02-25T13:52:03.912Z"
   },
   {
    "duration": 19,
    "start_time": "2023-02-25T13:52:13.049Z"
   },
   {
    "duration": 15,
    "start_time": "2023-02-25T13:52:25.352Z"
   },
   {
    "duration": 38,
    "start_time": "2023-02-25T13:52:40.108Z"
   },
   {
    "duration": 31,
    "start_time": "2023-02-25T13:52:53.179Z"
   },
   {
    "duration": 47,
    "start_time": "2023-02-25T13:54:06.933Z"
   },
   {
    "duration": 35,
    "start_time": "2023-02-25T13:54:21.579Z"
   },
   {
    "duration": 24,
    "start_time": "2023-02-25T14:09:49.224Z"
   },
   {
    "duration": 24,
    "start_time": "2023-02-25T14:10:04.168Z"
   },
   {
    "duration": 626,
    "start_time": "2023-02-26T15:50:24.050Z"
   },
   {
    "duration": 2242,
    "start_time": "2023-02-26T15:50:24.678Z"
   },
   {
    "duration": 9,
    "start_time": "2023-02-26T15:50:26.922Z"
   },
   {
    "duration": 16,
    "start_time": "2023-02-26T15:50:26.932Z"
   },
   {
    "duration": 22,
    "start_time": "2023-02-26T15:50:26.950Z"
   },
   {
    "duration": 3,
    "start_time": "2023-02-26T15:50:26.973Z"
   },
   {
    "duration": 74,
    "start_time": "2023-02-26T16:04:25.819Z"
   },
   {
    "duration": 40,
    "start_time": "2023-02-26T16:05:06.104Z"
   },
   {
    "duration": 6,
    "start_time": "2023-02-26T16:07:54.738Z"
   },
   {
    "duration": 9,
    "start_time": "2023-02-26T16:08:25.433Z"
   },
   {
    "duration": 45,
    "start_time": "2023-02-26T16:09:07.187Z"
   },
   {
    "duration": 44,
    "start_time": "2023-02-26T16:09:29.229Z"
   },
   {
    "duration": 44,
    "start_time": "2023-02-26T16:13:31.729Z"
   },
   {
    "duration": 43,
    "start_time": "2023-02-26T16:15:17.427Z"
   },
   {
    "duration": 39,
    "start_time": "2023-02-26T16:16:35.159Z"
   },
   {
    "duration": 47,
    "start_time": "2023-02-26T16:16:50.644Z"
   },
   {
    "duration": 47,
    "start_time": "2023-02-26T16:17:34.987Z"
   },
   {
    "duration": 43,
    "start_time": "2023-02-26T16:17:52.439Z"
   },
   {
    "duration": 37,
    "start_time": "2023-02-26T16:19:11.411Z"
   },
   {
    "duration": 53,
    "start_time": "2023-02-26T16:19:21.825Z"
   },
   {
    "duration": 36,
    "start_time": "2023-02-26T16:19:35.521Z"
   },
   {
    "duration": 41,
    "start_time": "2023-02-26T16:19:55.461Z"
   },
   {
    "duration": 40,
    "start_time": "2023-02-26T16:23:18.883Z"
   },
   {
    "duration": 39,
    "start_time": "2023-02-26T16:23:28.913Z"
   },
   {
    "duration": 46,
    "start_time": "2023-02-26T16:24:33.562Z"
   },
   {
    "duration": 76,
    "start_time": "2023-02-26T16:27:12.635Z"
   },
   {
    "duration": 48,
    "start_time": "2023-02-26T16:27:26.146Z"
   },
   {
    "duration": 56,
    "start_time": "2023-02-26T16:29:03.782Z"
   },
   {
    "duration": 54,
    "start_time": "2023-02-26T16:32:47.493Z"
   },
   {
    "duration": 50,
    "start_time": "2023-02-26T16:33:02.349Z"
   },
   {
    "duration": 63,
    "start_time": "2023-02-26T17:26:25.741Z"
   },
   {
    "duration": 50,
    "start_time": "2023-02-26T17:26:35.849Z"
   },
   {
    "duration": 68,
    "start_time": "2023-02-26T17:30:23.023Z"
   },
   {
    "duration": 70,
    "start_time": "2023-02-26T17:35:45.290Z"
   },
   {
    "duration": 62,
    "start_time": "2023-02-26T17:36:18.449Z"
   },
   {
    "duration": 62,
    "start_time": "2023-02-26T17:36:45.177Z"
   },
   {
    "duration": 109,
    "start_time": "2023-02-26T17:46:23.517Z"
   },
   {
    "duration": 63,
    "start_time": "2023-02-26T17:49:57.697Z"
   },
   {
    "duration": 73,
    "start_time": "2023-02-26T17:50:08.979Z"
   },
   {
    "duration": 60,
    "start_time": "2023-02-26T17:56:23.174Z"
   },
   {
    "duration": 77,
    "start_time": "2023-02-26T17:57:00.259Z"
   },
   {
    "duration": 59,
    "start_time": "2023-02-26T18:00:20.513Z"
   },
   {
    "duration": 61,
    "start_time": "2023-02-26T18:00:51.539Z"
   },
   {
    "duration": 74,
    "start_time": "2023-02-26T18:01:54.451Z"
   },
   {
    "duration": 9,
    "start_time": "2023-02-26T18:07:29.431Z"
   },
   {
    "duration": 1504,
    "start_time": "2023-02-26T18:08:28.398Z"
   },
   {
    "duration": 342,
    "start_time": "2023-02-26T18:08:42.068Z"
   },
   {
    "duration": 444,
    "start_time": "2023-02-26T18:10:29.076Z"
   },
   {
    "duration": 383,
    "start_time": "2023-02-26T18:11:02.868Z"
   },
   {
    "duration": 119,
    "start_time": "2023-02-26T18:27:54.779Z"
   },
   {
    "duration": 3,
    "start_time": "2023-02-26T18:31:59.219Z"
   },
   {
    "duration": 12,
    "start_time": "2023-02-26T18:37:18.414Z"
   },
   {
    "duration": 16,
    "start_time": "2023-02-26T18:38:55.484Z"
   },
   {
    "duration": 129,
    "start_time": "2023-02-26T18:39:26.941Z"
   },
   {
    "duration": 12,
    "start_time": "2023-02-26T18:41:30.499Z"
   },
   {
    "duration": 86,
    "start_time": "2023-02-26T18:41:47.720Z"
   },
   {
    "duration": 8,
    "start_time": "2023-02-26T18:41:53.741Z"
   },
   {
    "duration": 122,
    "start_time": "2023-02-26T18:44:48.259Z"
   },
   {
    "duration": 15,
    "start_time": "2023-02-26T18:53:07.689Z"
   },
   {
    "duration": 2184,
    "start_time": "2023-02-26T18:53:54.558Z"
   },
   {
    "duration": 2273,
    "start_time": "2023-02-26T18:56:48.644Z"
   },
   {
    "duration": 2259,
    "start_time": "2023-02-26T19:04:40.961Z"
   },
   {
    "duration": 13,
    "start_time": "2023-02-26T20:27:09.874Z"
   },
   {
    "duration": 755,
    "start_time": "2023-02-26T20:27:28.391Z"
   },
   {
    "duration": 1720,
    "start_time": "2023-02-26T20:27:29.148Z"
   },
   {
    "duration": 8,
    "start_time": "2023-02-26T20:27:30.870Z"
   },
   {
    "duration": 19,
    "start_time": "2023-02-26T20:27:30.880Z"
   },
   {
    "duration": 88,
    "start_time": "2023-02-26T20:27:30.901Z"
   },
   {
    "duration": 365,
    "start_time": "2023-02-26T20:27:30.991Z"
   },
   {
    "duration": 2603,
    "start_time": "2023-02-26T20:27:31.357Z"
   },
   {
    "duration": 2302,
    "start_time": "2023-02-26T20:27:52.556Z"
   },
   {
    "duration": 241,
    "start_time": "2023-02-26T20:31:47.251Z"
   },
   {
    "duration": 236,
    "start_time": "2023-02-26T20:32:53.906Z"
   },
   {
    "duration": 183,
    "start_time": "2023-02-26T20:33:07.040Z"
   },
   {
    "duration": 229,
    "start_time": "2023-02-26T20:33:13.563Z"
   },
   {
    "duration": 2979,
    "start_time": "2023-02-26T20:42:11.364Z"
   },
   {
    "duration": 33,
    "start_time": "2023-02-26T20:54:45.832Z"
   },
   {
    "duration": 8,
    "start_time": "2023-02-26T20:55:02.981Z"
   },
   {
    "duration": 126,
    "start_time": "2023-02-26T20:55:18.919Z"
   },
   {
    "duration": 746,
    "start_time": "2023-02-26T20:55:28.716Z"
   },
   {
    "duration": 1716,
    "start_time": "2023-02-26T20:55:29.464Z"
   },
   {
    "duration": 10,
    "start_time": "2023-02-26T20:55:31.182Z"
   },
   {
    "duration": 12,
    "start_time": "2023-02-26T20:55:31.195Z"
   },
   {
    "duration": 83,
    "start_time": "2023-02-26T20:55:31.209Z"
   },
   {
    "duration": 350,
    "start_time": "2023-02-26T20:55:31.293Z"
   },
   {
    "duration": 2281,
    "start_time": "2023-02-26T20:55:31.644Z"
   },
   {
    "duration": 243,
    "start_time": "2023-02-26T20:55:33.927Z"
   },
   {
    "duration": 3044,
    "start_time": "2023-02-26T20:55:34.171Z"
   },
   {
    "duration": 697,
    "start_time": "2023-02-26T21:03:55.539Z"
   },
   {
    "duration": 1714,
    "start_time": "2023-02-26T21:03:56.237Z"
   },
   {
    "duration": 8,
    "start_time": "2023-02-26T21:03:57.953Z"
   },
   {
    "duration": 15,
    "start_time": "2023-02-26T21:03:57.963Z"
   },
   {
    "duration": 78,
    "start_time": "2023-02-26T21:03:57.979Z"
   },
   {
    "duration": 359,
    "start_time": "2023-02-26T21:03:58.059Z"
   },
   {
    "duration": 2267,
    "start_time": "2023-02-26T21:03:58.420Z"
   },
   {
    "duration": 244,
    "start_time": "2023-02-26T21:04:00.688Z"
   },
   {
    "duration": 3100,
    "start_time": "2023-02-26T21:04:00.933Z"
   },
   {
    "duration": 79,
    "start_time": "2023-02-26T21:04:31.643Z"
   },
   {
    "duration": 710,
    "start_time": "2023-02-26T21:05:12.934Z"
   },
   {
    "duration": 1731,
    "start_time": "2023-02-26T21:05:13.645Z"
   },
   {
    "duration": 8,
    "start_time": "2023-02-26T21:05:15.378Z"
   },
   {
    "duration": 14,
    "start_time": "2023-02-26T21:05:15.388Z"
   },
   {
    "duration": 85,
    "start_time": "2023-02-26T21:05:15.403Z"
   },
   {
    "duration": 361,
    "start_time": "2023-02-26T21:05:15.489Z"
   },
   {
    "duration": 2272,
    "start_time": "2023-02-26T21:05:15.851Z"
   },
   {
    "duration": 238,
    "start_time": "2023-02-26T21:05:18.124Z"
   },
   {
    "duration": 3048,
    "start_time": "2023-02-26T21:05:18.363Z"
   },
   {
    "duration": 2963,
    "start_time": "2023-02-26T21:06:49.937Z"
   },
   {
    "duration": 706,
    "start_time": "2023-02-26T21:26:29.035Z"
   },
   {
    "duration": 1717,
    "start_time": "2023-02-26T21:26:29.743Z"
   },
   {
    "duration": 8,
    "start_time": "2023-02-26T21:26:31.462Z"
   },
   {
    "duration": 16,
    "start_time": "2023-02-26T21:26:31.472Z"
   },
   {
    "duration": 87,
    "start_time": "2023-02-26T21:26:31.489Z"
   },
   {
    "duration": 358,
    "start_time": "2023-02-26T21:26:31.577Z"
   },
   {
    "duration": 2258,
    "start_time": "2023-02-26T21:26:31.936Z"
   },
   {
    "duration": 245,
    "start_time": "2023-02-26T21:26:34.196Z"
   },
   {
    "duration": 3052,
    "start_time": "2023-02-26T21:26:34.443Z"
   },
   {
    "duration": 667,
    "start_time": "2023-02-26T21:31:34.457Z"
   },
   {
    "duration": 3125,
    "start_time": "2023-02-26T21:32:37.250Z"
   },
   {
    "duration": 3031,
    "start_time": "2023-02-26T21:33:35.295Z"
   },
   {
    "duration": 5,
    "start_time": "2023-02-26T21:42:36.771Z"
   },
   {
    "duration": 5,
    "start_time": "2023-02-26T21:43:09.206Z"
   },
   {
    "duration": 4,
    "start_time": "2023-02-26T21:43:22.213Z"
   },
   {
    "duration": 2347,
    "start_time": "2023-02-26T21:44:40.628Z"
   },
   {
    "duration": 227,
    "start_time": "2023-02-26T21:44:48.163Z"
   },
   {
    "duration": 2957,
    "start_time": "2023-02-26T21:44:53.718Z"
   },
   {
    "duration": 2972,
    "start_time": "2023-02-26T21:46:01.744Z"
   },
   {
    "duration": 784,
    "start_time": "2023-02-26T21:53:40.252Z"
   },
   {
    "duration": 2960,
    "start_time": "2023-02-26T21:56:38.096Z"
   },
   {
    "duration": 728,
    "start_time": "2023-02-26T21:58:25.466Z"
   },
   {
    "duration": 1743,
    "start_time": "2023-02-26T21:58:26.197Z"
   },
   {
    "duration": 10,
    "start_time": "2023-02-26T21:58:27.942Z"
   },
   {
    "duration": 13,
    "start_time": "2023-02-26T21:58:27.955Z"
   },
   {
    "duration": 100,
    "start_time": "2023-02-26T21:58:27.970Z"
   },
   {
    "duration": 349,
    "start_time": "2023-02-26T21:58:28.071Z"
   },
   {
    "duration": 2300,
    "start_time": "2023-02-26T21:58:28.421Z"
   },
   {
    "duration": 236,
    "start_time": "2023-02-26T21:58:30.723Z"
   },
   {
    "duration": 3102,
    "start_time": "2023-02-26T21:58:30.961Z"
   },
   {
    "duration": 3042,
    "start_time": "2023-02-26T22:03:06.238Z"
   },
   {
    "duration": 3041,
    "start_time": "2023-02-26T22:03:51.713Z"
   },
   {
    "duration": 1094,
    "start_time": "2023-02-27T04:38:51.151Z"
   },
   {
    "duration": 2021,
    "start_time": "2023-02-27T04:38:52.248Z"
   },
   {
    "duration": 10,
    "start_time": "2023-02-27T04:38:54.270Z"
   },
   {
    "duration": 14,
    "start_time": "2023-02-27T04:38:54.283Z"
   },
   {
    "duration": 94,
    "start_time": "2023-02-27T04:38:54.298Z"
   },
   {
    "duration": 397,
    "start_time": "2023-02-27T04:38:54.393Z"
   },
   {
    "duration": 2724,
    "start_time": "2023-02-27T04:38:54.791Z"
   },
   {
    "duration": 275,
    "start_time": "2023-02-27T04:38:57.517Z"
   },
   {
    "duration": 3154,
    "start_time": "2023-02-27T04:38:57.794Z"
   },
   {
    "duration": 3010,
    "start_time": "2023-02-27T04:43:51.753Z"
   },
   {
    "duration": 68,
    "start_time": "2023-02-27T04:45:00.099Z"
   },
   {
    "duration": 91,
    "start_time": "2023-02-27T04:46:09.174Z"
   },
   {
    "duration": 2634,
    "start_time": "2023-02-27T05:13:14.330Z"
   },
   {
    "duration": 3021,
    "start_time": "2023-02-27T05:13:31.618Z"
   },
   {
    "duration": 1060,
    "start_time": "2023-03-02T09:41:50.706Z"
   },
   {
    "duration": 2070,
    "start_time": "2023-03-02T09:41:51.769Z"
   },
   {
    "duration": 11,
    "start_time": "2023-03-02T09:41:53.840Z"
   },
   {
    "duration": 29,
    "start_time": "2023-03-02T09:41:53.853Z"
   },
   {
    "duration": 105,
    "start_time": "2023-03-02T09:41:53.884Z"
   },
   {
    "duration": 368,
    "start_time": "2023-03-02T09:41:53.991Z"
   },
   {
    "duration": 2827,
    "start_time": "2023-03-02T09:41:54.361Z"
   },
   {
    "duration": 442,
    "start_time": "2023-03-02T09:41:57.191Z"
   },
   {
    "duration": 3784,
    "start_time": "2023-03-02T09:41:57.641Z"
   },
   {
    "duration": 100,
    "start_time": "2023-03-02T09:57:28.863Z"
   },
   {
    "duration": 98,
    "start_time": "2023-03-02T09:57:55.530Z"
   },
   {
    "duration": 776,
    "start_time": "2023-03-02T09:58:09.663Z"
   },
   {
    "duration": 2048,
    "start_time": "2023-03-02T09:58:10.443Z"
   },
   {
    "duration": 10,
    "start_time": "2023-03-02T09:58:12.493Z"
   },
   {
    "duration": 26,
    "start_time": "2023-03-02T09:58:12.505Z"
   },
   {
    "duration": 150,
    "start_time": "2023-03-02T09:58:12.533Z"
   },
   {
    "duration": 420,
    "start_time": "2023-03-02T09:58:12.686Z"
   },
   {
    "duration": 2775,
    "start_time": "2023-03-02T09:58:13.107Z"
   },
   {
    "duration": 303,
    "start_time": "2023-03-02T09:58:15.884Z"
   },
   {
    "duration": 3299,
    "start_time": "2023-03-02T09:58:16.189Z"
   },
   {
    "duration": 364,
    "start_time": "2023-03-02T09:58:41.414Z"
   },
   {
    "duration": 501,
    "start_time": "2023-03-02T09:59:06.576Z"
   },
   {
    "duration": 904,
    "start_time": "2023-03-02T10:51:03.144Z"
   },
   {
    "duration": 2024,
    "start_time": "2023-03-02T10:51:50.717Z"
   },
   {
    "duration": 3246,
    "start_time": "2023-03-02T10:52:10.974Z"
   },
   {
    "duration": 27,
    "start_time": "2023-03-02T10:55:39.182Z"
   },
   {
    "duration": 26,
    "start_time": "2023-03-02T10:55:56.588Z"
   },
   {
    "duration": 35,
    "start_time": "2023-03-02T10:56:09.039Z"
   },
   {
    "duration": 21,
    "start_time": "2023-03-02T10:56:21.491Z"
   },
   {
    "duration": 258,
    "start_time": "2023-03-02T11:00:29.376Z"
   },
   {
    "duration": 266,
    "start_time": "2023-03-02T11:27:40.995Z"
   },
   {
    "duration": 381,
    "start_time": "2023-03-02T11:27:48.778Z"
   },
   {
    "duration": 206,
    "start_time": "2023-03-02T11:27:55.320Z"
   },
   {
    "duration": 257,
    "start_time": "2023-03-02T11:28:00.363Z"
   },
   {
    "duration": 68,
    "start_time": "2023-03-02T11:32:31.755Z"
   },
   {
    "duration": 22,
    "start_time": "2023-03-02T11:35:32.459Z"
   },
   {
    "duration": 168,
    "start_time": "2023-03-02T11:39:56.027Z"
   },
   {
    "duration": 878,
    "start_time": "2023-03-02T12:28:23.072Z"
   },
   {
    "duration": 2152,
    "start_time": "2023-03-02T12:28:23.953Z"
   },
   {
    "duration": 11,
    "start_time": "2023-03-02T12:28:26.107Z"
   },
   {
    "duration": 41,
    "start_time": "2023-03-02T12:28:26.119Z"
   },
   {
    "duration": 120,
    "start_time": "2023-03-02T12:28:26.167Z"
   },
   {
    "duration": 478,
    "start_time": "2023-03-02T12:28:26.288Z"
   },
   {
    "duration": 2724,
    "start_time": "2023-03-02T12:28:26.770Z"
   },
   {
    "duration": 287,
    "start_time": "2023-03-02T12:28:29.495Z"
   },
   {
    "duration": 3163,
    "start_time": "2023-03-02T12:28:29.784Z"
   },
   {
    "duration": 269,
    "start_time": "2023-03-02T12:28:32.950Z"
   },
   {
    "duration": 201,
    "start_time": "2023-03-02T12:28:33.221Z"
   },
   {
    "duration": 1066,
    "start_time": "2023-03-02T14:08:58.838Z"
   },
   {
    "duration": 2048,
    "start_time": "2023-03-02T14:08:59.907Z"
   },
   {
    "duration": 10,
    "start_time": "2023-03-02T14:09:01.957Z"
   },
   {
    "duration": 73,
    "start_time": "2023-03-02T14:09:01.968Z"
   },
   {
    "duration": 149,
    "start_time": "2023-03-02T14:09:02.044Z"
   },
   {
    "duration": 345,
    "start_time": "2023-03-02T14:09:02.195Z"
   },
   {
    "duration": 2755,
    "start_time": "2023-03-02T14:09:02.542Z"
   },
   {
    "duration": 279,
    "start_time": "2023-03-02T14:09:05.298Z"
   },
   {
    "duration": 3456,
    "start_time": "2023-03-02T14:09:05.578Z"
   },
   {
    "duration": 286,
    "start_time": "2023-03-02T14:09:09.036Z"
   },
   {
    "duration": 207,
    "start_time": "2023-03-02T14:09:09.324Z"
   },
   {
    "duration": 109,
    "start_time": "2023-03-02T14:38:59.796Z"
   },
   {
    "duration": 14,
    "start_time": "2023-03-02T14:39:08.501Z"
   },
   {
    "duration": 100,
    "start_time": "2023-03-02T14:39:12.029Z"
   },
   {
    "duration": 8,
    "start_time": "2023-03-02T14:39:27.205Z"
   },
   {
    "duration": 49,
    "start_time": "2023-03-02T20:06:59.007Z"
   },
   {
    "duration": 812,
    "start_time": "2023-03-02T20:07:11.624Z"
   },
   {
    "duration": 377,
    "start_time": "2023-03-02T20:07:12.439Z"
   },
   {
    "duration": 1991,
    "start_time": "2023-03-02T20:07:12.817Z"
   },
   {
    "duration": 9,
    "start_time": "2023-03-02T20:07:14.810Z"
   },
   {
    "duration": 47,
    "start_time": "2023-03-02T20:07:14.820Z"
   },
   {
    "duration": 102,
    "start_time": "2023-03-02T20:07:14.869Z"
   },
   {
    "duration": 403,
    "start_time": "2023-03-02T20:07:14.973Z"
   },
   {
    "duration": 2774,
    "start_time": "2023-03-02T20:07:15.378Z"
   },
   {
    "duration": 280,
    "start_time": "2023-03-02T20:07:18.154Z"
   },
   {
    "duration": 3669,
    "start_time": "2023-03-02T20:07:18.437Z"
   },
   {
    "duration": 267,
    "start_time": "2023-03-02T20:07:22.108Z"
   },
   {
    "duration": 202,
    "start_time": "2023-03-02T20:07:22.377Z"
   },
   {
    "duration": 47,
    "start_time": "2023-03-02T20:10:30.171Z"
   },
   {
    "duration": 48,
    "start_time": "2023-03-02T20:10:38.266Z"
   },
   {
    "duration": 54,
    "start_time": "2023-03-02T20:10:52.041Z"
   },
   {
    "duration": 47,
    "start_time": "2023-03-02T20:14:55.973Z"
   },
   {
    "duration": 76,
    "start_time": "2023-03-02T20:51:10.148Z"
   },
   {
    "duration": 72,
    "start_time": "2023-03-02T20:51:16.143Z"
   },
   {
    "duration": 130,
    "start_time": "2023-03-02T21:03:29.072Z"
   },
   {
    "duration": 142,
    "start_time": "2023-03-02T21:04:05.629Z"
   },
   {
    "duration": 216,
    "start_time": "2023-03-02T21:04:21.157Z"
   },
   {
    "duration": 114,
    "start_time": "2023-03-02T21:04:33.082Z"
   },
   {
    "duration": 141,
    "start_time": "2023-03-02T21:05:07.863Z"
   },
   {
    "duration": 142,
    "start_time": "2023-03-02T21:07:02.581Z"
   },
   {
    "duration": 9,
    "start_time": "2023-03-02T21:11:00.124Z"
   },
   {
    "duration": 90,
    "start_time": "2023-03-02T21:11:51.316Z"
   },
   {
    "duration": 92,
    "start_time": "2023-03-02T21:12:19.500Z"
   },
   {
    "duration": 872,
    "start_time": "2023-03-03T12:26:53.377Z"
   },
   {
    "duration": 190,
    "start_time": "2023-03-03T12:26:54.251Z"
   },
   {
    "duration": 3,
    "start_time": "2023-03-03T12:26:54.442Z"
   },
   {
    "duration": 2083,
    "start_time": "2023-03-03T12:26:54.448Z"
   },
   {
    "duration": 11,
    "start_time": "2023-03-03T12:26:56.534Z"
   },
   {
    "duration": 18,
    "start_time": "2023-03-03T12:26:56.547Z"
   },
   {
    "duration": 94,
    "start_time": "2023-03-03T12:26:56.567Z"
   },
   {
    "duration": 376,
    "start_time": "2023-03-03T12:26:56.663Z"
   },
   {
    "duration": 2973,
    "start_time": "2023-03-03T12:26:57.040Z"
   },
   {
    "duration": 301,
    "start_time": "2023-03-03T12:27:00.016Z"
   },
   {
    "duration": 3161,
    "start_time": "2023-03-03T12:27:00.319Z"
   },
   {
    "duration": 251,
    "start_time": "2023-03-03T12:27:03.482Z"
   },
   {
    "duration": 201,
    "start_time": "2023-03-03T12:27:03.735Z"
   },
   {
    "duration": 468,
    "start_time": "2023-03-03T12:35:08.313Z"
   },
   {
    "duration": 9,
    "start_time": "2023-03-03T13:40:59.909Z"
   },
   {
    "duration": 79,
    "start_time": "2023-03-03T13:41:14.754Z"
   },
   {
    "duration": 92,
    "start_time": "2023-03-03T13:41:29.369Z"
   },
   {
    "duration": 72,
    "start_time": "2023-03-03T13:42:11.694Z"
   },
   {
    "duration": 130,
    "start_time": "2023-03-03T13:42:43.498Z"
   },
   {
    "duration": 401,
    "start_time": "2023-03-03T13:43:44.190Z"
   },
   {
    "duration": 11,
    "start_time": "2023-03-03T13:44:27.611Z"
   },
   {
    "duration": 372,
    "start_time": "2023-03-03T13:46:16.643Z"
   },
   {
    "duration": 376,
    "start_time": "2023-03-03T13:46:42.146Z"
   },
   {
    "duration": 662,
    "start_time": "2023-03-03T13:47:35.982Z"
   },
   {
    "duration": 165,
    "start_time": "2023-03-03T13:47:36.646Z"
   },
   {
    "duration": 3,
    "start_time": "2023-03-03T13:47:36.813Z"
   },
   {
    "duration": 2258,
    "start_time": "2023-03-03T13:47:36.818Z"
   },
   {
    "duration": 12,
    "start_time": "2023-03-03T13:47:39.077Z"
   },
   {
    "duration": 26,
    "start_time": "2023-03-03T13:47:39.091Z"
   },
   {
    "duration": 154,
    "start_time": "2023-03-03T13:47:39.119Z"
   },
   {
    "duration": 0,
    "start_time": "2023-03-03T13:47:39.275Z"
   },
   {
    "duration": 0,
    "start_time": "2023-03-03T13:47:39.276Z"
   },
   {
    "duration": 0,
    "start_time": "2023-03-03T13:47:39.277Z"
   },
   {
    "duration": 0,
    "start_time": "2023-03-03T13:47:39.278Z"
   },
   {
    "duration": 0,
    "start_time": "2023-03-03T13:47:39.279Z"
   },
   {
    "duration": 0,
    "start_time": "2023-03-03T13:47:39.280Z"
   },
   {
    "duration": 346,
    "start_time": "2023-03-03T13:49:40.572Z"
   },
   {
    "duration": 367,
    "start_time": "2023-03-03T13:56:10.907Z"
   },
   {
    "duration": 379,
    "start_time": "2023-03-03T14:13:12.441Z"
   },
   {
    "duration": 681,
    "start_time": "2023-03-03T14:13:30.542Z"
   },
   {
    "duration": 160,
    "start_time": "2023-03-03T14:13:31.225Z"
   },
   {
    "duration": 3,
    "start_time": "2023-03-03T14:13:31.386Z"
   },
   {
    "duration": 2086,
    "start_time": "2023-03-03T14:13:31.391Z"
   },
   {
    "duration": 9,
    "start_time": "2023-03-03T14:13:33.479Z"
   },
   {
    "duration": 36,
    "start_time": "2023-03-03T14:13:33.490Z"
   },
   {
    "duration": 103,
    "start_time": "2023-03-03T14:13:33.539Z"
   },
   {
    "duration": 95,
    "start_time": "2023-03-03T14:13:33.644Z"
   },
   {
    "duration": 0,
    "start_time": "2023-03-03T14:13:33.741Z"
   },
   {
    "duration": 0,
    "start_time": "2023-03-03T14:13:33.742Z"
   },
   {
    "duration": 0,
    "start_time": "2023-03-03T14:13:33.744Z"
   },
   {
    "duration": 0,
    "start_time": "2023-03-03T14:13:33.753Z"
   },
   {
    "duration": 0,
    "start_time": "2023-03-03T14:13:33.754Z"
   },
   {
    "duration": 100,
    "start_time": "2023-03-03T14:14:24.989Z"
   },
   {
    "duration": 127,
    "start_time": "2023-03-03T14:14:56.697Z"
   },
   {
    "duration": 617,
    "start_time": "2023-03-03T14:18:41.681Z"
   },
   {
    "duration": 140,
    "start_time": "2023-03-03T14:18:42.300Z"
   },
   {
    "duration": 9,
    "start_time": "2023-03-03T14:18:42.444Z"
   },
   {
    "duration": 2165,
    "start_time": "2023-03-03T14:18:42.454Z"
   },
   {
    "duration": 11,
    "start_time": "2023-03-03T14:18:44.621Z"
   },
   {
    "duration": 22,
    "start_time": "2023-03-03T14:18:44.634Z"
   },
   {
    "duration": 108,
    "start_time": "2023-03-03T14:18:44.658Z"
   },
   {
    "duration": 95,
    "start_time": "2023-03-03T14:18:44.767Z"
   },
   {
    "duration": 0,
    "start_time": "2023-03-03T14:18:44.867Z"
   },
   {
    "duration": 0,
    "start_time": "2023-03-03T14:18:44.868Z"
   },
   {
    "duration": 0,
    "start_time": "2023-03-03T14:18:44.869Z"
   },
   {
    "duration": 0,
    "start_time": "2023-03-03T14:18:44.870Z"
   },
   {
    "duration": 0,
    "start_time": "2023-03-03T14:18:44.871Z"
   },
   {
    "duration": 19,
    "start_time": "2023-03-03T14:19:50.794Z"
   },
   {
    "duration": 357,
    "start_time": "2023-03-03T14:22:25.899Z"
   },
   {
    "duration": 645,
    "start_time": "2023-03-03T14:22:42.353Z"
   },
   {
    "duration": 147,
    "start_time": "2023-03-03T14:22:43.000Z"
   },
   {
    "duration": 4,
    "start_time": "2023-03-03T14:22:43.149Z"
   },
   {
    "duration": 2200,
    "start_time": "2023-03-03T14:22:43.155Z"
   },
   {
    "duration": 11,
    "start_time": "2023-03-03T14:22:45.357Z"
   },
   {
    "duration": 16,
    "start_time": "2023-03-03T14:22:45.371Z"
   },
   {
    "duration": 125,
    "start_time": "2023-03-03T14:22:45.389Z"
   },
   {
    "duration": 368,
    "start_time": "2023-03-03T14:22:45.515Z"
   },
   {
    "duration": 2861,
    "start_time": "2023-03-03T14:22:45.885Z"
   },
   {
    "duration": 284,
    "start_time": "2023-03-03T14:22:48.752Z"
   },
   {
    "duration": 3585,
    "start_time": "2023-03-03T14:22:49.038Z"
   },
   {
    "duration": 272,
    "start_time": "2023-03-03T14:22:52.625Z"
   },
   {
    "duration": 208,
    "start_time": "2023-03-03T14:22:52.899Z"
   },
   {
    "duration": 709,
    "start_time": "2023-03-03T14:38:24.203Z"
   },
   {
    "duration": 1024,
    "start_time": "2023-03-03T14:38:56.670Z"
   },
   {
    "duration": 3129,
    "start_time": "2023-03-03T14:44:17.211Z"
   },
   {
    "duration": 75,
    "start_time": "2023-03-03T15:02:53.217Z"
   },
   {
    "duration": 9,
    "start_time": "2023-03-03T15:03:12.237Z"
   },
   {
    "duration": 10,
    "start_time": "2023-03-03T15:03:18.133Z"
   },
   {
    "duration": 171,
    "start_time": "2023-03-03T15:03:25.283Z"
   },
   {
    "duration": 3,
    "start_time": "2023-03-03T15:04:31.212Z"
   },
   {
    "duration": 10,
    "start_time": "2023-03-03T15:07:07.316Z"
   },
   {
    "duration": 3487,
    "start_time": "2023-03-03T15:07:28.586Z"
   },
   {
    "duration": 962,
    "start_time": "2023-03-03T15:09:06.572Z"
   },
   {
    "duration": 966,
    "start_time": "2023-03-03T15:20:24.906Z"
   },
   {
    "duration": 941,
    "start_time": "2023-03-03T15:20:44.115Z"
   },
   {
    "duration": 940,
    "start_time": "2023-03-03T15:21:08.514Z"
   },
   {
    "duration": 3052,
    "start_time": "2023-03-03T15:21:25.983Z"
   },
   {
    "duration": 1500,
    "start_time": "2023-03-03T15:49:38.776Z"
   },
   {
    "duration": 1479,
    "start_time": "2023-03-03T15:52:29.404Z"
   },
   {
    "duration": 1492,
    "start_time": "2023-03-03T15:54:48.780Z"
   },
   {
    "duration": 1660,
    "start_time": "2023-03-03T16:29:13.988Z"
   },
   {
    "duration": 1615,
    "start_time": "2023-03-03T16:29:37.523Z"
   },
   {
    "duration": 7245,
    "start_time": "2023-03-03T16:31:00.921Z"
   },
   {
    "duration": 82,
    "start_time": "2023-03-03T16:33:29.184Z"
   },
   {
    "duration": 685,
    "start_time": "2023-03-03T16:34:06.638Z"
   },
   {
    "duration": 145,
    "start_time": "2023-03-03T16:34:07.325Z"
   },
   {
    "duration": 2,
    "start_time": "2023-03-03T16:34:07.472Z"
   },
   {
    "duration": 2019,
    "start_time": "2023-03-03T16:34:07.476Z"
   },
   {
    "duration": 9,
    "start_time": "2023-03-03T16:34:09.497Z"
   },
   {
    "duration": 14,
    "start_time": "2023-03-03T16:34:09.508Z"
   },
   {
    "duration": 100,
    "start_time": "2023-03-03T16:34:09.524Z"
   },
   {
    "duration": 371,
    "start_time": "2023-03-03T16:34:09.626Z"
   },
   {
    "duration": 2910,
    "start_time": "2023-03-03T16:34:09.999Z"
   },
   {
    "duration": 305,
    "start_time": "2023-03-03T16:34:12.911Z"
   },
   {
    "duration": 75,
    "start_time": "2023-03-03T16:34:13.218Z"
   },
   {
    "duration": 0,
    "start_time": "2023-03-03T16:34:13.295Z"
   },
   {
    "duration": 0,
    "start_time": "2023-03-03T16:34:13.296Z"
   },
   {
    "duration": 0,
    "start_time": "2023-03-03T16:34:13.298Z"
   },
   {
    "duration": 118,
    "start_time": "2023-03-03T17:40:36.727Z"
   },
   {
    "duration": 616,
    "start_time": "2023-03-03T17:40:53.202Z"
   },
   {
    "duration": 166,
    "start_time": "2023-03-03T17:40:53.820Z"
   },
   {
    "duration": 4,
    "start_time": "2023-03-03T17:40:53.988Z"
   },
   {
    "duration": 2160,
    "start_time": "2023-03-03T17:40:53.994Z"
   },
   {
    "duration": 10,
    "start_time": "2023-03-03T17:40:56.156Z"
   },
   {
    "duration": 95,
    "start_time": "2023-03-03T17:40:56.168Z"
   },
   {
    "duration": 115,
    "start_time": "2023-03-03T17:40:56.265Z"
   },
   {
    "duration": 375,
    "start_time": "2023-03-03T17:40:56.382Z"
   },
   {
    "duration": 2902,
    "start_time": "2023-03-03T17:40:56.759Z"
   },
   {
    "duration": 283,
    "start_time": "2023-03-03T17:40:59.663Z"
   },
   {
    "duration": 95,
    "start_time": "2023-03-03T17:40:59.954Z"
   },
   {
    "duration": 0,
    "start_time": "2023-03-03T17:41:00.050Z"
   },
   {
    "duration": 0,
    "start_time": "2023-03-03T17:41:00.051Z"
   },
   {
    "duration": 0,
    "start_time": "2023-03-03T17:41:00.052Z"
   },
   {
    "duration": 75,
    "start_time": "2023-03-03T17:42:25.314Z"
   },
   {
    "duration": 73,
    "start_time": "2023-03-03T17:43:06.033Z"
   },
   {
    "duration": 76,
    "start_time": "2023-03-03T17:43:25.939Z"
   },
   {
    "duration": 178,
    "start_time": "2023-03-03T19:47:10.116Z"
   },
   {
    "duration": 79,
    "start_time": "2023-03-03T19:47:16.674Z"
   },
   {
    "duration": 158,
    "start_time": "2023-03-03T19:47:31.923Z"
   },
   {
    "duration": 488,
    "start_time": "2023-03-03T21:00:49.524Z"
   },
   {
    "duration": 2640,
    "start_time": "2023-03-03T22:21:06.696Z"
   },
   {
    "duration": 2781,
    "start_time": "2023-03-03T22:21:26.687Z"
   },
   {
    "duration": 2891,
    "start_time": "2023-03-03T22:21:35.942Z"
   },
   {
    "duration": 2677,
    "start_time": "2023-03-03T22:22:54.460Z"
   },
   {
    "duration": 12,
    "start_time": "2023-03-03T22:23:10.391Z"
   },
   {
    "duration": 11,
    "start_time": "2023-03-03T22:23:35.606Z"
   },
   {
    "duration": 10,
    "start_time": "2023-03-03T22:23:54.390Z"
   },
   {
    "duration": 10,
    "start_time": "2023-03-03T22:24:07.159Z"
   },
   {
    "duration": 1154,
    "start_time": "2023-03-03T22:24:30.215Z"
   },
   {
    "duration": 143,
    "start_time": "2023-03-03T22:24:31.371Z"
   },
   {
    "duration": 3,
    "start_time": "2023-03-03T22:24:31.516Z"
   },
   {
    "duration": 1930,
    "start_time": "2023-03-03T22:24:31.521Z"
   },
   {
    "duration": 11,
    "start_time": "2023-03-03T22:24:33.453Z"
   },
   {
    "duration": 20,
    "start_time": "2023-03-03T22:24:33.465Z"
   },
   {
    "duration": 111,
    "start_time": "2023-03-03T22:24:33.486Z"
   },
   {
    "duration": 2771,
    "start_time": "2023-03-03T22:24:33.598Z"
   },
   {
    "duration": 362,
    "start_time": "2023-03-03T22:24:36.370Z"
   },
   {
    "duration": 2957,
    "start_time": "2023-03-03T22:24:36.734Z"
   },
   {
    "duration": 277,
    "start_time": "2023-03-03T22:24:39.693Z"
   },
   {
    "duration": 108,
    "start_time": "2023-03-03T22:24:39.972Z"
   },
   {
    "duration": 0,
    "start_time": "2023-03-03T22:24:40.082Z"
   },
   {
    "duration": 0,
    "start_time": "2023-03-03T22:24:40.083Z"
   },
   {
    "duration": 0,
    "start_time": "2023-03-03T22:24:40.084Z"
   },
   {
    "duration": 2772,
    "start_time": "2023-03-03T22:25:24.485Z"
   },
   {
    "duration": 2976,
    "start_time": "2023-03-03T22:25:39.085Z"
   },
   {
    "duration": 2845,
    "start_time": "2023-03-03T22:25:52.962Z"
   },
   {
    "duration": 2756,
    "start_time": "2023-03-03T22:26:00.376Z"
   },
   {
    "duration": 2871,
    "start_time": "2023-03-03T22:26:14.230Z"
   },
   {
    "duration": 2680,
    "start_time": "2023-03-03T22:29:51.114Z"
   },
   {
    "duration": 2565,
    "start_time": "2023-03-03T22:30:43.797Z"
   },
   {
    "duration": 2623,
    "start_time": "2023-03-03T22:33:43.212Z"
   },
   {
    "duration": 2580,
    "start_time": "2023-03-03T22:33:53.929Z"
   },
   {
    "duration": 1239,
    "start_time": "2023-03-03T22:34:49.727Z"
   },
   {
    "duration": 143,
    "start_time": "2023-03-03T22:34:50.968Z"
   },
   {
    "duration": 3,
    "start_time": "2023-03-03T22:34:51.112Z"
   },
   {
    "duration": 2018,
    "start_time": "2023-03-03T22:34:51.118Z"
   },
   {
    "duration": 10,
    "start_time": "2023-03-03T22:34:53.137Z"
   },
   {
    "duration": 15,
    "start_time": "2023-03-03T22:34:53.149Z"
   },
   {
    "duration": 104,
    "start_time": "2023-03-03T22:34:53.166Z"
   },
   {
    "duration": 2682,
    "start_time": "2023-03-03T22:34:53.272Z"
   },
   {
    "duration": 322,
    "start_time": "2023-03-03T22:34:55.956Z"
   },
   {
    "duration": 2766,
    "start_time": "2023-03-03T22:34:56.281Z"
   },
   {
    "duration": 265,
    "start_time": "2023-03-03T22:34:59.049Z"
   },
   {
    "duration": 91,
    "start_time": "2023-03-03T22:34:59.316Z"
   },
   {
    "duration": 0,
    "start_time": "2023-03-03T22:34:59.409Z"
   },
   {
    "duration": 0,
    "start_time": "2023-03-03T22:34:59.411Z"
   },
   {
    "duration": 0,
    "start_time": "2023-03-03T22:34:59.413Z"
   },
   {
    "duration": 2617,
    "start_time": "2023-03-03T22:38:26.489Z"
   },
   {
    "duration": 2525,
    "start_time": "2023-03-03T22:42:02.241Z"
   },
   {
    "duration": 101,
    "start_time": "2023-03-03T22:42:39.310Z"
   },
   {
    "duration": 2550,
    "start_time": "2023-03-03T22:43:55.250Z"
   },
   {
    "duration": 2699,
    "start_time": "2023-03-03T22:45:28.761Z"
   },
   {
    "duration": 88,
    "start_time": "2023-03-03T22:47:06.884Z"
   },
   {
    "duration": 79,
    "start_time": "2023-03-03T22:47:41.112Z"
   },
   {
    "duration": 104,
    "start_time": "2023-03-03T22:47:59.554Z"
   },
   {
    "duration": 80,
    "start_time": "2023-03-03T22:48:36.619Z"
   },
   {
    "duration": 111,
    "start_time": "2023-03-03T22:50:01.482Z"
   },
   {
    "duration": 112,
    "start_time": "2023-03-03T22:50:11.790Z"
   },
   {
    "duration": 78,
    "start_time": "2023-03-03T22:50:21.141Z"
   },
   {
    "duration": 2701,
    "start_time": "2023-03-03T22:50:56.521Z"
   },
   {
    "duration": 2570,
    "start_time": "2023-03-03T22:51:30.188Z"
   },
   {
    "duration": 2523,
    "start_time": "2023-03-03T22:51:39.596Z"
   },
   {
    "duration": 2821,
    "start_time": "2023-03-03T22:55:09.589Z"
   },
   {
    "duration": 2707,
    "start_time": "2023-03-03T22:55:38.068Z"
   },
   {
    "duration": 2789,
    "start_time": "2023-03-03T22:56:10.920Z"
   },
   {
    "duration": 2793,
    "start_time": "2023-03-03T23:03:10.264Z"
   },
   {
    "duration": 2464,
    "start_time": "2023-03-03T23:05:47.601Z"
   },
   {
    "duration": 2561,
    "start_time": "2023-03-03T23:08:52.625Z"
   },
   {
    "duration": 2678,
    "start_time": "2023-03-03T23:14:38.448Z"
   },
   {
    "duration": 2577,
    "start_time": "2023-03-03T23:17:46.221Z"
   },
   {
    "duration": 2624,
    "start_time": "2023-03-03T23:18:39.447Z"
   },
   {
    "duration": 2569,
    "start_time": "2023-03-03T23:20:47.137Z"
   },
   {
    "duration": 2589,
    "start_time": "2023-03-03T23:22:00.202Z"
   },
   {
    "duration": 2877,
    "start_time": "2023-03-03T23:24:11.846Z"
   },
   {
    "duration": 2622,
    "start_time": "2023-03-03T23:25:17.513Z"
   },
   {
    "duration": 2632,
    "start_time": "2023-03-03T23:26:03.991Z"
   },
   {
    "duration": 82,
    "start_time": "2023-03-03T23:27:06.345Z"
   },
   {
    "duration": 2561,
    "start_time": "2023-03-03T23:27:18.422Z"
   },
   {
    "duration": 6489,
    "start_time": "2023-03-03T23:29:23.581Z"
   },
   {
    "duration": 6985,
    "start_time": "2023-03-03T23:29:40.393Z"
   },
   {
    "duration": 7278,
    "start_time": "2023-03-03T23:30:32.021Z"
   },
   {
    "duration": 754,
    "start_time": "2023-03-03T23:33:18.753Z"
   },
   {
    "duration": 162,
    "start_time": "2023-03-03T23:40:18.193Z"
   },
   {
    "duration": 514,
    "start_time": "2023-03-03T23:46:24.253Z"
   },
   {
    "duration": 477,
    "start_time": "2023-03-03T23:47:24.579Z"
   },
   {
    "duration": 495,
    "start_time": "2023-03-03T23:47:40.239Z"
   },
   {
    "duration": 239,
    "start_time": "2023-03-03T23:47:54.318Z"
   },
   {
    "duration": 225,
    "start_time": "2023-03-03T23:48:20.646Z"
   },
   {
    "duration": 184,
    "start_time": "2023-03-03T23:55:18.097Z"
   },
   {
    "duration": 171,
    "start_time": "2023-03-03T23:55:24.391Z"
   },
   {
    "duration": 197,
    "start_time": "2023-03-03T23:56:16.352Z"
   },
   {
    "duration": 76,
    "start_time": "2023-03-03T23:57:24.065Z"
   },
   {
    "duration": 272,
    "start_time": "2023-03-03T23:58:34.282Z"
   },
   {
    "duration": 735,
    "start_time": "2023-03-04T00:51:13.768Z"
   },
   {
    "duration": 716,
    "start_time": "2023-03-04T00:54:16.043Z"
   },
   {
    "duration": 1182,
    "start_time": "2023-03-04T01:02:39.189Z"
   },
   {
    "duration": 136,
    "start_time": "2023-03-04T01:02:40.373Z"
   },
   {
    "duration": 3,
    "start_time": "2023-03-04T01:02:40.510Z"
   },
   {
    "duration": 1881,
    "start_time": "2023-03-04T01:02:40.515Z"
   },
   {
    "duration": 10,
    "start_time": "2023-03-04T01:02:42.397Z"
   },
   {
    "duration": 15,
    "start_time": "2023-03-04T01:02:42.409Z"
   },
   {
    "duration": 83,
    "start_time": "2023-03-04T01:02:42.426Z"
   },
   {
    "duration": 2618,
    "start_time": "2023-03-04T01:02:42.511Z"
   },
   {
    "duration": 351,
    "start_time": "2023-03-04T01:02:45.130Z"
   },
   {
    "duration": 2748,
    "start_time": "2023-03-04T01:02:45.484Z"
   },
   {
    "duration": 274,
    "start_time": "2023-03-04T01:02:48.233Z"
   },
   {
    "duration": 6441,
    "start_time": "2023-03-04T01:02:48.509Z"
   },
   {
    "duration": 673,
    "start_time": "2023-03-04T01:02:54.954Z"
   },
   {
    "duration": 2,
    "start_time": "2023-03-04T01:02:55.629Z"
   },
   {
    "duration": 238,
    "start_time": "2023-03-04T01:02:55.633Z"
   },
   {
    "duration": 538,
    "start_time": "2023-03-04T01:02:55.873Z"
   },
   {
    "duration": 1613,
    "start_time": "2023-03-04T18:38:14.842Z"
   },
   {
    "duration": 208,
    "start_time": "2023-03-04T18:38:16.462Z"
   },
   {
    "duration": 5,
    "start_time": "2023-03-04T18:38:16.679Z"
   },
   {
    "duration": 2699,
    "start_time": "2023-03-04T18:38:16.686Z"
   },
   {
    "duration": 18,
    "start_time": "2023-03-04T18:38:19.389Z"
   },
   {
    "duration": 64,
    "start_time": "2023-03-04T18:38:19.409Z"
   },
   {
    "duration": 158,
    "start_time": "2023-03-04T18:38:19.477Z"
   },
   {
    "duration": 3634,
    "start_time": "2023-03-04T18:38:19.637Z"
   },
   {
    "duration": 509,
    "start_time": "2023-03-04T18:38:23.275Z"
   },
   {
    "duration": 3908,
    "start_time": "2023-03-04T18:38:23.786Z"
   },
   {
    "duration": 410,
    "start_time": "2023-03-04T18:38:27.696Z"
   },
   {
    "duration": 9250,
    "start_time": "2023-03-04T18:38:28.108Z"
   },
   {
    "duration": 941,
    "start_time": "2023-03-04T18:38:37.371Z"
   },
   {
    "duration": 9,
    "start_time": "2023-03-04T18:38:38.314Z"
   },
   {
    "duration": 392,
    "start_time": "2023-03-04T18:38:38.326Z"
   },
   {
    "duration": 648,
    "start_time": "2023-03-04T18:38:38.721Z"
   },
   {
    "duration": 19,
    "start_time": "2023-03-04T18:39:11.298Z"
   },
   {
    "duration": 117,
    "start_time": "2023-03-04T18:39:16.414Z"
   },
   {
    "duration": 444,
    "start_time": "2023-03-04T18:40:02.018Z"
   },
   {
    "duration": 1373,
    "start_time": "2023-03-04T19:34:19.078Z"
   },
   {
    "duration": 218,
    "start_time": "2023-03-04T19:34:20.453Z"
   },
   {
    "duration": 2,
    "start_time": "2023-03-04T19:34:20.673Z"
   },
   {
    "duration": 2085,
    "start_time": "2023-03-04T19:34:20.677Z"
   },
   {
    "duration": 9,
    "start_time": "2023-03-04T19:34:22.764Z"
   },
   {
    "duration": 13,
    "start_time": "2023-03-04T19:34:22.775Z"
   },
   {
    "duration": 92,
    "start_time": "2023-03-04T19:34:22.790Z"
   },
   {
    "duration": 2890,
    "start_time": "2023-03-04T19:34:22.884Z"
   },
   {
    "duration": 235,
    "start_time": "2023-03-04T19:34:25.776Z"
   },
   {
    "duration": 381,
    "start_time": "2023-03-04T19:34:26.013Z"
   },
   {
    "duration": 2772,
    "start_time": "2023-03-04T19:34:26.395Z"
   },
   {
    "duration": 285,
    "start_time": "2023-03-04T19:34:29.169Z"
   },
   {
    "duration": 10298,
    "start_time": "2023-03-04T19:34:29.456Z"
   },
   {
    "duration": 705,
    "start_time": "2023-03-04T19:34:39.758Z"
   },
   {
    "duration": 2,
    "start_time": "2023-03-04T19:34:40.465Z"
   },
   {
    "duration": 248,
    "start_time": "2023-03-04T19:34:40.469Z"
   },
   {
    "duration": 185,
    "start_time": "2023-03-04T19:34:40.719Z"
   },
   {
    "duration": 3048,
    "start_time": "2023-03-04T19:35:30.112Z"
   },
   {
    "duration": 3019,
    "start_time": "2023-03-04T19:44:25.103Z"
   },
   {
    "duration": 3056,
    "start_time": "2023-03-04T19:44:44.956Z"
   },
   {
    "duration": 3057,
    "start_time": "2023-03-04T19:45:06.735Z"
   },
   {
    "duration": 4689,
    "start_time": "2023-03-04T19:52:24.788Z"
   },
   {
    "duration": 4031,
    "start_time": "2023-03-04T19:52:57.204Z"
   },
   {
    "duration": 3253,
    "start_time": "2023-03-04T19:54:53.324Z"
   },
   {
    "duration": 3190,
    "start_time": "2023-03-04T19:58:45.369Z"
   },
   {
    "duration": 3376,
    "start_time": "2023-03-04T19:59:59.666Z"
   },
   {
    "duration": 3208,
    "start_time": "2023-03-04T20:00:14.726Z"
   },
   {
    "duration": 3189,
    "start_time": "2023-03-04T20:02:23.324Z"
   },
   {
    "duration": 3205,
    "start_time": "2023-03-04T20:02:40.826Z"
   },
   {
    "duration": 185,
    "start_time": "2023-03-04T20:03:20.509Z"
   },
   {
    "duration": 3168,
    "start_time": "2023-03-04T20:05:38.300Z"
   },
   {
    "duration": 3227,
    "start_time": "2023-03-04T20:05:52.603Z"
   },
   {
    "duration": 3152,
    "start_time": "2023-03-04T20:09:08.498Z"
   },
   {
    "duration": 6,
    "start_time": "2023-03-04T20:09:27.110Z"
   },
   {
    "duration": 5,
    "start_time": "2023-03-04T20:09:48.538Z"
   },
   {
    "duration": 3203,
    "start_time": "2023-03-04T20:10:51.036Z"
   },
   {
    "duration": 3113,
    "start_time": "2023-03-04T20:11:05.753Z"
   },
   {
    "duration": 3205,
    "start_time": "2023-03-04T20:16:10.881Z"
   },
   {
    "duration": 2953,
    "start_time": "2023-03-04T20:16:21.473Z"
   },
   {
    "duration": 2671,
    "start_time": "2023-03-04T20:16:40.722Z"
   },
   {
    "duration": 2861,
    "start_time": "2023-03-04T20:18:01.538Z"
   },
   {
    "duration": 2751,
    "start_time": "2023-03-04T20:18:09.001Z"
   },
   {
    "duration": 1171,
    "start_time": "2023-03-04T20:18:20.874Z"
   },
   {
    "duration": 146,
    "start_time": "2023-03-04T20:18:22.047Z"
   },
   {
    "duration": 3,
    "start_time": "2023-03-04T20:18:22.195Z"
   },
   {
    "duration": 2116,
    "start_time": "2023-03-04T20:18:22.201Z"
   },
   {
    "duration": 14,
    "start_time": "2023-03-04T20:18:24.320Z"
   },
   {
    "duration": 22,
    "start_time": "2023-03-04T20:18:24.337Z"
   },
   {
    "duration": 141,
    "start_time": "2023-03-04T20:18:24.361Z"
   },
   {
    "duration": 3115,
    "start_time": "2023-03-04T20:18:24.503Z"
   },
   {
    "duration": 234,
    "start_time": "2023-03-04T20:18:27.619Z"
   },
   {
    "duration": 349,
    "start_time": "2023-03-04T20:18:27.855Z"
   },
   {
    "duration": 2864,
    "start_time": "2023-03-04T20:18:28.206Z"
   },
   {
    "duration": 301,
    "start_time": "2023-03-04T20:18:31.071Z"
   },
   {
    "duration": 10446,
    "start_time": "2023-03-04T20:18:31.374Z"
   },
   {
    "duration": 706,
    "start_time": "2023-03-04T20:18:41.822Z"
   },
   {
    "duration": 3,
    "start_time": "2023-03-04T20:18:42.530Z"
   },
   {
    "duration": 248,
    "start_time": "2023-03-04T20:18:42.534Z"
   },
   {
    "duration": 183,
    "start_time": "2023-03-04T20:18:42.784Z"
   },
   {
    "duration": 3179,
    "start_time": "2023-03-04T20:18:53.891Z"
   },
   {
    "duration": 178,
    "start_time": "2023-03-04T20:19:42.807Z"
   },
   {
    "duration": 2965,
    "start_time": "2023-03-04T20:21:07.091Z"
   },
   {
    "duration": 1189,
    "start_time": "2023-03-04T20:21:23.324Z"
   },
   {
    "duration": 148,
    "start_time": "2023-03-04T20:21:24.515Z"
   },
   {
    "duration": 3,
    "start_time": "2023-03-04T20:21:24.665Z"
   },
   {
    "duration": 2112,
    "start_time": "2023-03-04T20:21:24.670Z"
   },
   {
    "duration": 10,
    "start_time": "2023-03-04T20:21:26.783Z"
   },
   {
    "duration": 14,
    "start_time": "2023-03-04T20:21:26.794Z"
   },
   {
    "duration": 85,
    "start_time": "2023-03-04T20:21:26.810Z"
   },
   {
    "duration": 2977,
    "start_time": "2023-03-04T20:21:26.897Z"
   },
   {
    "duration": 254,
    "start_time": "2023-03-04T20:21:29.876Z"
   },
   {
    "duration": 371,
    "start_time": "2023-03-04T20:21:30.133Z"
   },
   {
    "duration": 2883,
    "start_time": "2023-03-04T20:21:30.505Z"
   },
   {
    "duration": 290,
    "start_time": "2023-03-04T20:21:33.390Z"
   },
   {
    "duration": 7050,
    "start_time": "2023-03-04T20:21:33.682Z"
   },
   {
    "duration": 1104,
    "start_time": "2023-03-04T20:21:40.734Z"
   },
   {
    "duration": 2,
    "start_time": "2023-03-04T20:21:41.840Z"
   },
   {
    "duration": 248,
    "start_time": "2023-03-04T20:21:41.844Z"
   },
   {
    "duration": 191,
    "start_time": "2023-03-04T20:21:42.094Z"
   },
   {
    "duration": 1198,
    "start_time": "2023-03-05T08:55:36.470Z"
   },
   {
    "duration": 151,
    "start_time": "2023-03-05T08:55:37.670Z"
   },
   {
    "duration": 2,
    "start_time": "2023-03-05T08:55:37.823Z"
   },
   {
    "duration": 2136,
    "start_time": "2023-03-05T08:55:37.827Z"
   },
   {
    "duration": 10,
    "start_time": "2023-03-05T08:55:39.967Z"
   },
   {
    "duration": 18,
    "start_time": "2023-03-05T08:55:39.979Z"
   },
   {
    "duration": 117,
    "start_time": "2023-03-05T08:55:39.999Z"
   },
   {
    "duration": 3230,
    "start_time": "2023-03-05T08:55:40.118Z"
   },
   {
    "duration": 262,
    "start_time": "2023-03-05T08:55:43.354Z"
   },
   {
    "duration": 428,
    "start_time": "2023-03-05T08:55:43.618Z"
   },
   {
    "duration": 3204,
    "start_time": "2023-03-05T08:55:44.048Z"
   },
   {
    "duration": 355,
    "start_time": "2023-03-05T08:55:47.256Z"
   },
   {
    "duration": 7417,
    "start_time": "2023-03-05T08:55:47.613Z"
   },
   {
    "duration": 1206,
    "start_time": "2023-03-05T08:55:55.034Z"
   },
   {
    "duration": 10,
    "start_time": "2023-03-05T08:55:56.241Z"
   },
   {
    "duration": 272,
    "start_time": "2023-03-05T08:55:56.253Z"
   },
   {
    "duration": 203,
    "start_time": "2023-03-05T08:55:56.528Z"
   },
   {
    "duration": 36,
    "start_time": "2023-03-05T08:55:56.732Z"
   },
   {
    "duration": 98,
    "start_time": "2023-03-05T08:55:58.713Z"
   },
   {
    "duration": 1289,
    "start_time": "2023-03-05T20:42:09.671Z"
   },
   {
    "duration": 210,
    "start_time": "2023-03-05T20:42:10.962Z"
   },
   {
    "duration": 3,
    "start_time": "2023-03-05T20:42:11.173Z"
   },
   {
    "duration": 1848,
    "start_time": "2023-03-05T20:42:11.177Z"
   },
   {
    "duration": 10,
    "start_time": "2023-03-05T20:42:13.028Z"
   },
   {
    "duration": 19,
    "start_time": "2023-03-05T20:42:13.039Z"
   },
   {
    "duration": 103,
    "start_time": "2023-03-05T20:42:13.060Z"
   },
   {
    "duration": 2472,
    "start_time": "2023-03-05T20:42:13.164Z"
   },
   {
    "duration": 231,
    "start_time": "2023-03-05T20:42:15.638Z"
   },
   {
    "duration": 376,
    "start_time": "2023-03-05T20:42:15.871Z"
   },
   {
    "duration": 2623,
    "start_time": "2023-03-05T20:42:16.249Z"
   },
   {
    "duration": 260,
    "start_time": "2023-03-05T20:42:18.874Z"
   },
   {
    "duration": 6185,
    "start_time": "2023-03-05T20:42:19.136Z"
   },
   {
    "duration": 946,
    "start_time": "2023-03-05T20:42:25.325Z"
   },
   {
    "duration": 2,
    "start_time": "2023-03-05T20:42:26.273Z"
   },
   {
    "duration": 263,
    "start_time": "2023-03-05T20:42:26.277Z"
   },
   {
    "duration": 222,
    "start_time": "2023-03-05T20:42:26.541Z"
   },
   {
    "duration": 107,
    "start_time": "2023-03-05T20:44:18.013Z"
   },
   {
    "duration": 149,
    "start_time": "2023-03-05T20:44:29.923Z"
   },
   {
    "duration": 5,
    "start_time": "2023-03-05T20:45:30.166Z"
   },
   {
    "duration": 8,
    "start_time": "2023-03-05T20:47:07.508Z"
   },
   {
    "duration": 9,
    "start_time": "2023-03-05T20:50:11.023Z"
   },
   {
    "duration": 12,
    "start_time": "2023-03-05T20:50:19.378Z"
   },
   {
    "duration": 6,
    "start_time": "2023-03-05T20:51:34.837Z"
   },
   {
    "duration": 140,
    "start_time": "2023-03-05T20:51:53.269Z"
   },
   {
    "duration": 5,
    "start_time": "2023-03-05T20:52:01.353Z"
   },
   {
    "duration": 77,
    "start_time": "2023-03-05T20:54:23.990Z"
   },
   {
    "duration": 76,
    "start_time": "2023-03-05T20:54:29.559Z"
   },
   {
    "duration": 16,
    "start_time": "2023-03-05T20:54:43.008Z"
   },
   {
    "duration": 11,
    "start_time": "2023-03-05T20:55:16.498Z"
   },
   {
    "duration": 9,
    "start_time": "2023-03-05T20:56:21.707Z"
   },
   {
    "duration": 14,
    "start_time": "2023-03-05T20:56:40.860Z"
   },
   {
    "duration": 11,
    "start_time": "2023-03-05T20:57:17.166Z"
   },
   {
    "duration": 10,
    "start_time": "2023-03-05T20:57:39.722Z"
   },
   {
    "duration": 9,
    "start_time": "2023-03-05T20:58:33.908Z"
   },
   {
    "duration": 133,
    "start_time": "2023-03-05T20:59:05.818Z"
   },
   {
    "duration": 120,
    "start_time": "2023-03-05T20:59:23.398Z"
   },
   {
    "duration": 1184,
    "start_time": "2023-03-05T20:59:49.625Z"
   },
   {
    "duration": 135,
    "start_time": "2023-03-05T20:59:50.810Z"
   },
   {
    "duration": 2,
    "start_time": "2023-03-05T20:59:50.947Z"
   },
   {
    "duration": 1835,
    "start_time": "2023-03-05T20:59:50.955Z"
   },
   {
    "duration": 10,
    "start_time": "2023-03-05T20:59:52.791Z"
   },
   {
    "duration": 14,
    "start_time": "2023-03-05T20:59:52.803Z"
   },
   {
    "duration": 89,
    "start_time": "2023-03-05T20:59:52.819Z"
   },
   {
    "duration": 2362,
    "start_time": "2023-03-05T20:59:52.910Z"
   },
   {
    "duration": 138,
    "start_time": "2023-03-05T20:59:55.274Z"
   },
   {
    "duration": 218,
    "start_time": "2023-03-05T20:59:55.415Z"
   },
   {
    "duration": 368,
    "start_time": "2023-03-05T20:59:55.636Z"
   },
   {
    "duration": 2652,
    "start_time": "2023-03-05T20:59:56.005Z"
   },
   {
    "duration": 254,
    "start_time": "2023-03-05T20:59:58.659Z"
   },
   {
    "duration": 6209,
    "start_time": "2023-03-05T20:59:58.915Z"
   },
   {
    "duration": 1014,
    "start_time": "2023-03-05T21:00:05.125Z"
   },
   {
    "duration": 3,
    "start_time": "2023-03-05T21:00:06.141Z"
   },
   {
    "duration": 264,
    "start_time": "2023-03-05T21:00:06.145Z"
   },
   {
    "duration": 182,
    "start_time": "2023-03-05T21:00:06.410Z"
   },
   {
    "duration": 132,
    "start_time": "2023-03-05T21:00:50.913Z"
   },
   {
    "duration": 11,
    "start_time": "2023-03-05T21:01:12.906Z"
   },
   {
    "duration": 10,
    "start_time": "2023-03-05T21:01:34.077Z"
   },
   {
    "duration": 161,
    "start_time": "2023-03-05T21:03:05.520Z"
   },
   {
    "duration": 131,
    "start_time": "2023-03-05T21:03:09.786Z"
   },
   {
    "duration": 151,
    "start_time": "2023-03-05T21:03:25.548Z"
   },
   {
    "duration": 154,
    "start_time": "2023-03-05T21:03:56.372Z"
   },
   {
    "duration": 154,
    "start_time": "2023-03-05T21:04:00.754Z"
   },
   {
    "duration": 131,
    "start_time": "2023-03-05T21:05:38.679Z"
   },
   {
    "duration": 303,
    "start_time": "2023-03-05T21:05:49.439Z"
   },
   {
    "duration": 108,
    "start_time": "2023-03-05T21:05:57.470Z"
   },
   {
    "duration": 119,
    "start_time": "2023-03-05T21:06:01.073Z"
   },
   {
    "duration": 166,
    "start_time": "2023-03-05T21:06:07.037Z"
   },
   {
    "duration": 142,
    "start_time": "2023-03-05T21:06:12.988Z"
   },
   {
    "duration": 164,
    "start_time": "2023-03-05T21:06:19.933Z"
   },
   {
    "duration": 170,
    "start_time": "2023-03-05T21:06:58.650Z"
   },
   {
    "duration": 216,
    "start_time": "2023-03-05T21:07:22.272Z"
   },
   {
    "duration": 181,
    "start_time": "2023-03-05T21:07:31.488Z"
   },
   {
    "duration": 201,
    "start_time": "2023-03-05T21:07:37.710Z"
   },
   {
    "duration": 71,
    "start_time": "2023-03-05T21:08:48.848Z"
   },
   {
    "duration": 1099,
    "start_time": "2023-03-05T21:09:03.092Z"
   },
   {
    "duration": 142,
    "start_time": "2023-03-05T21:09:04.193Z"
   },
   {
    "duration": 3,
    "start_time": "2023-03-05T21:09:04.337Z"
   },
   {
    "duration": 1819,
    "start_time": "2023-03-05T21:09:04.354Z"
   },
   {
    "duration": 11,
    "start_time": "2023-03-05T21:09:06.175Z"
   },
   {
    "duration": 13,
    "start_time": "2023-03-05T21:09:06.188Z"
   },
   {
    "duration": 87,
    "start_time": "2023-03-05T21:09:06.202Z"
   },
   {
    "duration": 2488,
    "start_time": "2023-03-05T21:09:06.290Z"
   },
   {
    "duration": 176,
    "start_time": "2023-03-05T21:09:08.779Z"
   },
   {
    "duration": 210,
    "start_time": "2023-03-05T21:09:08.957Z"
   },
   {
    "duration": 361,
    "start_time": "2023-03-05T21:09:09.168Z"
   },
   {
    "duration": 2503,
    "start_time": "2023-03-05T21:09:09.530Z"
   },
   {
    "duration": 257,
    "start_time": "2023-03-05T21:09:12.034Z"
   },
   {
    "duration": 6048,
    "start_time": "2023-03-05T21:09:12.292Z"
   },
   {
    "duration": 884,
    "start_time": "2023-03-05T21:09:18.341Z"
   },
   {
    "duration": 3,
    "start_time": "2023-03-05T21:09:19.227Z"
   },
   {
    "duration": 243,
    "start_time": "2023-03-05T21:09:19.231Z"
   },
   {
    "duration": 175,
    "start_time": "2023-03-05T21:09:19.475Z"
   },
   {
    "duration": 1608,
    "start_time": "2023-03-06T15:47:25.112Z"
   },
   {
    "duration": 254,
    "start_time": "2023-03-06T15:47:26.723Z"
   },
   {
    "duration": 6,
    "start_time": "2023-03-06T15:47:26.979Z"
   },
   {
    "duration": 2904,
    "start_time": "2023-03-06T15:47:26.988Z"
   },
   {
    "duration": 20,
    "start_time": "2023-03-06T15:47:29.901Z"
   },
   {
    "duration": 23,
    "start_time": "2023-03-06T15:47:29.923Z"
   },
   {
    "duration": 124,
    "start_time": "2023-03-06T15:47:29.950Z"
   },
   {
    "duration": 3618,
    "start_time": "2023-03-06T15:47:30.079Z"
   },
   {
    "duration": 296,
    "start_time": "2023-03-06T15:47:33.707Z"
   },
   {
    "duration": 418,
    "start_time": "2023-03-06T15:47:34.007Z"
   },
   {
    "duration": 586,
    "start_time": "2023-03-06T15:47:34.427Z"
   },
   {
    "duration": 3922,
    "start_time": "2023-03-06T15:47:35.017Z"
   },
   {
    "duration": 483,
    "start_time": "2023-03-06T15:47:38.941Z"
   },
   {
    "duration": 10147,
    "start_time": "2023-03-06T15:47:39.431Z"
   },
   {
    "duration": 1450,
    "start_time": "2023-03-06T15:47:49.585Z"
   },
   {
    "duration": 15,
    "start_time": "2023-03-06T15:47:51.038Z"
   },
   {
    "duration": 352,
    "start_time": "2023-03-06T15:47:51.057Z"
   },
   {
    "duration": 273,
    "start_time": "2023-03-06T15:47:51.411Z"
   },
   {
    "duration": 20,
    "start_time": "2023-03-06T15:47:51.689Z"
   },
   {
    "duration": 142,
    "start_time": "2023-03-06T15:48:11.673Z"
   },
   {
    "duration": 1478,
    "start_time": "2023-10-04T13:33:49.289Z"
   },
   {
    "duration": 247,
    "start_time": "2023-10-04T13:33:50.770Z"
   },
   {
    "duration": 3,
    "start_time": "2023-10-04T13:33:51.018Z"
   },
   {
    "duration": 2326,
    "start_time": "2023-10-04T13:33:51.023Z"
   },
   {
    "duration": 15,
    "start_time": "2023-10-04T13:33:53.351Z"
   },
   {
    "duration": 37,
    "start_time": "2023-10-04T13:33:53.368Z"
   },
   {
    "duration": 110,
    "start_time": "2023-10-04T13:33:53.407Z"
   },
   {
    "duration": 3309,
    "start_time": "2023-10-04T13:33:53.518Z"
   },
   {
    "duration": 250,
    "start_time": "2023-10-04T13:33:56.829Z"
   },
   {
    "duration": 271,
    "start_time": "2023-10-04T13:33:57.082Z"
   },
   {
    "duration": 396,
    "start_time": "2023-10-04T13:33:57.355Z"
   },
   {
    "duration": 3187,
    "start_time": "2023-10-04T13:33:57.757Z"
   },
   {
    "duration": 343,
    "start_time": "2023-10-04T13:34:00.947Z"
   },
   {
    "duration": 7556,
    "start_time": "2023-10-04T13:34:01.292Z"
   },
   {
    "duration": 1233,
    "start_time": "2023-10-04T13:34:08.850Z"
   },
   {
    "duration": 3,
    "start_time": "2023-10-04T13:34:10.084Z"
   },
   {
    "duration": 268,
    "start_time": "2023-10-04T13:34:10.089Z"
   },
   {
    "duration": 210,
    "start_time": "2023-10-04T13:34:10.361Z"
   }
  ],
  "kernelspec": {
   "display_name": "Python 3 (ipykernel)",
   "language": "python",
   "name": "python3"
  },
  "language_info": {
   "codemirror_mode": {
    "name": "ipython",
    "version": 3
   },
   "file_extension": ".py",
   "mimetype": "text/x-python",
   "name": "python",
   "nbconvert_exporter": "python",
   "pygments_lexer": "ipython3",
   "version": "3.9.13"
  },
  "toc": {
   "base_numbering": 1,
   "nav_menu": {},
   "number_sections": true,
   "sideBar": true,
   "skip_h1_title": true,
   "title_cell": "Table of Contents",
   "title_sidebar": "Contents",
   "toc_cell": false,
   "toc_position": {},
   "toc_section_display": true,
   "toc_window_display": false
  }
 },
 "nbformat": 4,
 "nbformat_minor": 2
}
