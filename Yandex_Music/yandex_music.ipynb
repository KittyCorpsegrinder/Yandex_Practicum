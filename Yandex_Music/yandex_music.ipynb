{
 "cells": [
  {
   "cell_type": "markdown",
   "metadata": {
    "deletable": false,
    "editable": false,
    "id": "E0vqbgi9ay0H"
   },
   "source": [
    "# Яндекс Музыка"
   ]
  },
  {
   "cell_type": "markdown",
   "metadata": {
    "deletable": false,
    "editable": false,
    "id": "VUC88oWjTJw2"
   },
   "source": [
    "Сравнение Москвы и Петербурга окружено мифами. Например:\n",
    " * Москва — мегаполис, подчинённый жёсткому ритму рабочей недели;\n",
    " * Петербург — культурная столица, со своими вкусами.\n",
    "\n",
    "На данных Яндекс Музыки вы сравните поведение пользователей двух столиц.\n",
    "\n",
    "**Цель исследования** — проверьте три гипотезы:\n",
    "1. Активность пользователей зависит от дня недели. Причём в Москве и Петербурге это проявляется по-разному.\n",
    "2. В понедельник утром в Москве преобладают одни жанры, а в Петербурге — другие. Так же и вечером пятницы преобладают разные жанры — в зависимости от города. \n",
    "3. Москва и Петербург предпочитают разные жанры музыки. В Москве чаще слушают поп-музыку, в Петербурге — русский рэп.\n",
    "\n",
    "**Ход исследования**\n",
    "\n",
    "О качестве данных ничего не известно. Поэтому перед проверкой гипотез понадобится обзор данных. \n",
    "\n",
    "Я проверю данные на ошибки и оцените их влияние на исследование. Затем, на этапе предобработки я поищу возможность исправить самые критичные ошибки данных.\n",
    " \n",
    "Таким образом, исследование пройдёт в три этапа:\n",
    " 1. Обзор данных.\n",
    " 2. Предобработка данных.\n",
    " 3. Проверка гипотез.\n",
    "\n"
   ]
  },
  {
   "cell_type": "markdown",
   "metadata": {
    "deletable": false,
    "editable": false,
    "id": "Ml1hmfXC_Zcs"
   },
   "source": [
    "## Обзор данных\n",
    "\n",
    "Составим первое представление о данных Яндекс Музыки.\n",
    "\n",
    "\n"
   ]
  },
  {
   "cell_type": "code",
   "execution_count": 1,
   "metadata": {
    "deletable": false,
    "id": "AXN7PHPN_Zcs"
   },
   "outputs": [],
   "source": [
    "# импорт библиотеки pandas\n",
    "import pandas as pd"
   ]
  },
  {
   "cell_type": "code",
   "execution_count": 3,
   "metadata": {
    "deletable": false,
    "id": "oWTVX3gW_Zct"
   },
   "outputs": [
    {
     "data": {
      "text/html": [
       "<div>\n",
       "<style scoped>\n",
       "    .dataframe tbody tr th:only-of-type {\n",
       "        vertical-align: middle;\n",
       "    }\n",
       "\n",
       "    .dataframe tbody tr th {\n",
       "        vertical-align: top;\n",
       "    }\n",
       "\n",
       "    .dataframe thead th {\n",
       "        text-align: right;\n",
       "    }\n",
       "</style>\n",
       "<table border=\"1\" class=\"dataframe\">\n",
       "  <thead>\n",
       "    <tr style=\"text-align: right;\">\n",
       "      <th></th>\n",
       "      <th>userID</th>\n",
       "      <th>Track</th>\n",
       "      <th>artist</th>\n",
       "      <th>genre</th>\n",
       "      <th>City</th>\n",
       "      <th>time</th>\n",
       "      <th>Day</th>\n",
       "    </tr>\n",
       "  </thead>\n",
       "  <tbody>\n",
       "    <tr>\n",
       "      <th>0</th>\n",
       "      <td>FFB692EC</td>\n",
       "      <td>Kamigata To Boots</td>\n",
       "      <td>The Mass Missile</td>\n",
       "      <td>rock</td>\n",
       "      <td>Saint-Petersburg</td>\n",
       "      <td>20:28:33</td>\n",
       "      <td>Wednesday</td>\n",
       "    </tr>\n",
       "    <tr>\n",
       "      <th>1</th>\n",
       "      <td>55204538</td>\n",
       "      <td>Delayed Because of Accident</td>\n",
       "      <td>Andreas Rönnberg</td>\n",
       "      <td>rock</td>\n",
       "      <td>Moscow</td>\n",
       "      <td>14:07:09</td>\n",
       "      <td>Friday</td>\n",
       "    </tr>\n",
       "    <tr>\n",
       "      <th>2</th>\n",
       "      <td>20EC38</td>\n",
       "      <td>Funiculì funiculà</td>\n",
       "      <td>Mario Lanza</td>\n",
       "      <td>pop</td>\n",
       "      <td>Saint-Petersburg</td>\n",
       "      <td>20:58:07</td>\n",
       "      <td>Wednesday</td>\n",
       "    </tr>\n",
       "    <tr>\n",
       "      <th>3</th>\n",
       "      <td>A3DD03C9</td>\n",
       "      <td>Dragons in the Sunset</td>\n",
       "      <td>Fire + Ice</td>\n",
       "      <td>folk</td>\n",
       "      <td>Saint-Petersburg</td>\n",
       "      <td>08:37:09</td>\n",
       "      <td>Monday</td>\n",
       "    </tr>\n",
       "    <tr>\n",
       "      <th>4</th>\n",
       "      <td>E2DC1FAE</td>\n",
       "      <td>Soul People</td>\n",
       "      <td>Space Echo</td>\n",
       "      <td>dance</td>\n",
       "      <td>Moscow</td>\n",
       "      <td>08:34:34</td>\n",
       "      <td>Monday</td>\n",
       "    </tr>\n",
       "    <tr>\n",
       "      <th>5</th>\n",
       "      <td>842029A1</td>\n",
       "      <td>Преданная</td>\n",
       "      <td>IMPERVTOR</td>\n",
       "      <td>rusrap</td>\n",
       "      <td>Saint-Petersburg</td>\n",
       "      <td>13:09:41</td>\n",
       "      <td>Friday</td>\n",
       "    </tr>\n",
       "    <tr>\n",
       "      <th>6</th>\n",
       "      <td>4CB90AA5</td>\n",
       "      <td>True</td>\n",
       "      <td>Roman Messer</td>\n",
       "      <td>dance</td>\n",
       "      <td>Moscow</td>\n",
       "      <td>13:00:07</td>\n",
       "      <td>Wednesday</td>\n",
       "    </tr>\n",
       "    <tr>\n",
       "      <th>7</th>\n",
       "      <td>F03E1C1F</td>\n",
       "      <td>Feeling This Way</td>\n",
       "      <td>Polina Griffith</td>\n",
       "      <td>dance</td>\n",
       "      <td>Moscow</td>\n",
       "      <td>20:47:49</td>\n",
       "      <td>Wednesday</td>\n",
       "    </tr>\n",
       "    <tr>\n",
       "      <th>8</th>\n",
       "      <td>8FA1D3BE</td>\n",
       "      <td>И вновь продолжается бой</td>\n",
       "      <td>NaN</td>\n",
       "      <td>ruspop</td>\n",
       "      <td>Moscow</td>\n",
       "      <td>09:17:40</td>\n",
       "      <td>Friday</td>\n",
       "    </tr>\n",
       "    <tr>\n",
       "      <th>9</th>\n",
       "      <td>E772D5C0</td>\n",
       "      <td>Pessimist</td>\n",
       "      <td>NaN</td>\n",
       "      <td>dance</td>\n",
       "      <td>Saint-Petersburg</td>\n",
       "      <td>21:20:49</td>\n",
       "      <td>Wednesday</td>\n",
       "    </tr>\n",
       "  </tbody>\n",
       "</table>\n",
       "</div>"
      ],
      "text/plain": [
       "     userID                        Track            artist   genre  \\\n",
       "0  FFB692EC            Kamigata To Boots  The Mass Missile    rock   \n",
       "1  55204538  Delayed Because of Accident  Andreas Rönnberg    rock   \n",
       "2    20EC38            Funiculì funiculà       Mario Lanza     pop   \n",
       "3  A3DD03C9        Dragons in the Sunset        Fire + Ice    folk   \n",
       "4  E2DC1FAE                  Soul People        Space Echo   dance   \n",
       "5  842029A1                    Преданная         IMPERVTOR  rusrap   \n",
       "6  4CB90AA5                         True      Roman Messer   dance   \n",
       "7  F03E1C1F             Feeling This Way   Polina Griffith   dance   \n",
       "8  8FA1D3BE     И вновь продолжается бой               NaN  ruspop   \n",
       "9  E772D5C0                    Pessimist               NaN   dance   \n",
       "\n",
       "             City        time        Day  \n",
       "0  Saint-Petersburg  20:28:33  Wednesday  \n",
       "1            Moscow  14:07:09     Friday  \n",
       "2  Saint-Petersburg  20:58:07  Wednesday  \n",
       "3  Saint-Petersburg  08:37:09     Monday  \n",
       "4            Moscow  08:34:34     Monday  \n",
       "5  Saint-Petersburg  13:09:41     Friday  \n",
       "6            Moscow  13:00:07  Wednesday  \n",
       "7            Moscow  20:47:49  Wednesday  \n",
       "8            Moscow  09:17:40     Friday  \n",
       "9  Saint-Petersburg  21:20:49  Wednesday  "
      ]
     },
     "execution_count": 3,
     "metadata": {},
     "output_type": "execute_result"
    }
   ],
   "source": [
    "# получение первых 10 строк таблицы df\n",
    "df.head(10)"
   ]
  },
  {
   "cell_type": "code",
   "execution_count": 4,
   "metadata": {
    "deletable": false,
    "id": "DSf2kIb-_Zct"
   },
   "outputs": [
    {
     "name": "stdout",
     "output_type": "stream",
     "text": [
      "<class 'pandas.core.frame.DataFrame'>\n",
      "RangeIndex: 65079 entries, 0 to 65078\n",
      "Data columns (total 7 columns):\n",
      " #   Column    Non-Null Count  Dtype \n",
      "---  ------    --------------  ----- \n",
      " 0     userID  65079 non-null  object\n",
      " 1   Track     63848 non-null  object\n",
      " 2   artist    57876 non-null  object\n",
      " 3   genre     63881 non-null  object\n",
      " 4     City    65079 non-null  object\n",
      " 5   time      65079 non-null  object\n",
      " 6   Day       65079 non-null  object\n",
      "dtypes: object(7)\n",
      "memory usage: 3.5+ MB\n"
     ]
    }
   ],
   "source": [
    "# получение общей информации о данных в таблице df\n",
    "df.info()"
   ]
  },
  {
   "cell_type": "markdown",
   "metadata": {
    "deletable": false,
    "editable": false,
    "id": "TaQ2Iwbr_Zct"
   },
   "source": [
    "Итак, в таблице семь столбцов. Тип данных во всех столбцах — `object`.\n",
    "\n",
    "Согласно документации к данным:\n",
    "* `userID` — идентификатор пользователя;\n",
    "* `Track` — название трека;  \n",
    "* `artist` — имя исполнителя;\n",
    "* `genre` — название жанра;\n",
    "* `City` — город пользователя;\n",
    "* `time` — время начала прослушивания;\n",
    "* `Day` — день недели.\n",
    "\n",
    "Количество значений в столбцах различается. Значит, в данных есть пропущенные значения."
   ]
  },
  {
   "cell_type": "markdown",
   "metadata": {
    "deletable": false,
    "editable": false,
    "id": "rAfziTBDmf2h",
    "tags": [
     "start_task"
    ]
   },
   "source": [
    "В названиях колонок видны нарушения стиля:\n",
    "* Строчные буквы сочетаются с прописными.\n",
    "* Встречаются пробелы.\n",
    "* Отсутствует единый регистр."
   ]
  },
  {
   "cell_type": "markdown",
   "metadata": {
    "deletable": false,
    "editable": false,
    "id": "MCB6-dXG_Zct"
   },
   "source": [
    "**Выводы**\n",
    "\n",
    "В каждой строке таблицы — данные о прослушанном треке. Часть колонок описывает саму композицию: название, исполнителя и жанр. Остальные данные рассказывают о пользователе: из какого он города, когда он слушал музыку. \n",
    "\n",
    "Предварительно можно утверждать, что данных достаточно для проверки гипотез. Но встречаются пропуски в данных, а в названиях колонок — расхождения с хорошим стилем.\n",
    "\n",
    "Чтобы двигаться дальше, нужно устранить проблемы в данных."
   ]
  },
  {
   "cell_type": "markdown",
   "metadata": {
    "deletable": false,
    "editable": false,
    "id": "SjYF6Ub9_Zct"
   },
   "source": [
    "## Предобработка данных\n",
    "Исправим стиль в заголовках столбцов, исключите пропуски. Затем проверим данные на дубликаты."
   ]
  },
  {
   "cell_type": "markdown",
   "metadata": {
    "deletable": false,
    "editable": false,
    "id": "dIaKXr29_Zct",
    "tags": [
     "start_task"
    ]
   },
   "source": [
    "### Стиль заголовков\n",
    "\n",
    "\n",
    "Выведем на экран названия столбцов:"
   ]
  },
  {
   "cell_type": "code",
   "execution_count": 6,
   "metadata": {
    "deletable": false,
    "id": "oKOTdF_Q_Zct"
   },
   "outputs": [
    {
     "data": {
      "text/plain": [
       "Index(['  userID', 'Track', 'artist', 'genre', '  City  ', 'time', 'Day'], dtype='object')"
      ]
     },
     "execution_count": 6,
     "metadata": {},
     "output_type": "execute_result"
    }
   ],
   "source": [
    "# перечень названий столбцов таблицы df\n",
    "df.columns"
   ]
  },
  {
   "cell_type": "markdown",
   "metadata": {
    "deletable": false,
    "editable": false,
    "id": "zj5534cv_Zct",
    "tags": [
     "start_task"
    ]
   },
   "source": [
    "Приведем названия в соответствие с хорошим стилем:\n",
    "* несколько слов в названии запишем в «змеином_регистре»,\n",
    "* все символы сделаем строчными,\n",
    "* устраним пробелы."
   ]
  },
  {
   "cell_type": "code",
   "execution_count": 7,
   "metadata": {
    "deletable": false,
    "id": "ISlFqs5y_Zct"
   },
   "outputs": [],
   "source": [
    "# переименование столбцов\n",
    "df = df.rename(\n",
    "    columns={\n",
    "        '  userID': 'user_id',\n",
    "        'Track':'track',\n",
    "        '  City  ':'city',\n",
    "        'Day': 'day'}\n",
    ")"
   ]
  },
  {
   "cell_type": "markdown",
   "metadata": {
    "deletable": false,
    "editable": false,
    "id": "1dqbh00J_Zct",
    "tags": [
     "start_task"
    ]
   },
   "source": [
    "\n",
    "\n",
    "\n",
    "Проверим результат. Для этого ещё раз выведем на экран названия столбцов:"
   ]
  },
  {
   "cell_type": "code",
   "execution_count": 8,
   "metadata": {
    "deletable": false,
    "id": "d4NOAmTW_Zct"
   },
   "outputs": [
    {
     "data": {
      "text/plain": [
       "Index(['user_id', 'track', 'artist', 'genre', 'city', 'time', 'day'], dtype='object')"
      ]
     },
     "execution_count": 8,
     "metadata": {},
     "output_type": "execute_result"
    }
   ],
   "source": [
    "# проверка результатов - перечень названий столбцов\n",
    "df.columns"
   ]
  },
  {
   "cell_type": "markdown",
   "metadata": {
    "deletable": false,
    "editable": false,
    "id": "5ISfbcfY_Zct",
    "tags": [
     "start_task"
    ]
   },
   "source": [
    "### Пропуски значений\n",
    "\n",
    "\n",
    "Сначала посчитаем, сколько в таблице пропущенных значений. "
   ]
  },
  {
   "cell_type": "code",
   "execution_count": 9,
   "metadata": {
    "deletable": false,
    "id": "RskX29qr_Zct"
   },
   "outputs": [
    {
     "data": {
      "text/plain": [
       "user_id       0\n",
       "track      1231\n",
       "artist     7203\n",
       "genre      1198\n",
       "city          0\n",
       "time          0\n",
       "day           0\n",
       "dtype: int64"
      ]
     },
     "execution_count": 9,
     "metadata": {},
     "output_type": "execute_result"
    }
   ],
   "source": [
    "# подсчёт пропусков\n",
    "df.isna().sum()"
   ]
  },
  {
   "cell_type": "markdown",
   "metadata": {
    "deletable": false,
    "editable": false,
    "id": "qubhgnlO_Zct"
   },
   "source": [
    "Не все пропущенные значения влияют на исследование. Так в `track` и `artist` пропуски не важны для нашей работы. Достаточно заменить их явными обозначениями.\n",
    "\n",
    "Но пропуски в `genre` могут помешать сравнению музыкальных вкусов в Москве и Санкт-Петербурге. Было бы правильно установить причину пропусков и восстановить данные, но такой возможности нет в учебном проекте. Придётся:\n",
    "* заполнить и эти пропуски явными обозначениями;\n",
    "* оценить, насколько они повредят расчётам. "
   ]
  },
  {
   "cell_type": "markdown",
   "metadata": {
    "deletable": false,
    "editable": false,
    "id": "fSv2laPA_Zct",
    "tags": [
     "start_task"
    ]
   },
   "source": [
    "\n",
    "Заменим пропущенные значения в столбцах `track`, `artist` и `genre` на строку `'unknown'`. Для этого создадим список `columns_to_replace`, переберем его элементы циклом `for` и для каждого столбца выполните замену пропущенных значений:"
   ]
  },
  {
   "cell_type": "code",
   "execution_count": 10,
   "metadata": {
    "deletable": false,
    "id": "KplB5qWs_Zct"
   },
   "outputs": [],
   "source": [
    "# перебор названий столбцов в цикле и замена пропущенных значений на 'unknown'\n",
    "columns_to_replace = df\n",
    "\n",
    "for column in columns_to_replace:\n",
    "    df[column] = df[column].fillna('unknown')"
   ]
  },
  {
   "cell_type": "markdown",
   "metadata": {
    "deletable": false,
    "editable": false,
    "id": "Ilsm-MZo_Zct",
    "tags": [
     "start_task"
    ]
   },
   "source": [
    "Убедимся, что в таблице не осталось пропусков. Для этого ещё раз посчитаем пропущенные значения."
   ]
  },
  {
   "cell_type": "code",
   "execution_count": 11,
   "metadata": {
    "deletable": false,
    "id": "Tq4nYRX4_Zct"
   },
   "outputs": [
    {
     "data": {
      "text/plain": [
       "user_id    0\n",
       "track      0\n",
       "artist     0\n",
       "genre      0\n",
       "city       0\n",
       "time       0\n",
       "day        0\n",
       "dtype: int64"
      ]
     },
     "execution_count": 11,
     "metadata": {},
     "output_type": "execute_result"
    }
   ],
   "source": [
    "# подсчёт пропусков\n",
    "df.isna().sum()"
   ]
  },
  {
   "cell_type": "markdown",
   "metadata": {
    "deletable": false,
    "editable": false,
    "id": "BWKRtBJ3_Zct",
    "tags": [
     "start_task"
    ]
   },
   "source": [
    "### Дубликаты\n",
    "\n",
    "\n",
    "\n",
    "Посчитаем явные дубликаты в таблице:"
   ]
  },
  {
   "cell_type": "code",
   "execution_count": 12,
   "metadata": {
    "deletable": false,
    "id": "36eES_S0_Zct"
   },
   "outputs": [
    {
     "data": {
      "text/plain": [
       "3826"
      ]
     },
     "execution_count": 12,
     "metadata": {},
     "output_type": "execute_result"
    }
   ],
   "source": [
    "# подсчёт явных дубликатов\n",
    "df.duplicated().sum()"
   ]
  },
  {
   "cell_type": "code",
   "execution_count": 13,
   "metadata": {
    "deletable": false,
    "id": "exFHq6tt_Zct"
   },
   "outputs": [
    {
     "data": {
      "text/html": [
       "<div>\n",
       "<style scoped>\n",
       "    .dataframe tbody tr th:only-of-type {\n",
       "        vertical-align: middle;\n",
       "    }\n",
       "\n",
       "    .dataframe tbody tr th {\n",
       "        vertical-align: top;\n",
       "    }\n",
       "\n",
       "    .dataframe thead th {\n",
       "        text-align: right;\n",
       "    }\n",
       "</style>\n",
       "<table border=\"1\" class=\"dataframe\">\n",
       "  <thead>\n",
       "    <tr style=\"text-align: right;\">\n",
       "      <th></th>\n",
       "      <th>user_id</th>\n",
       "      <th>track</th>\n",
       "      <th>artist</th>\n",
       "      <th>genre</th>\n",
       "      <th>city</th>\n",
       "      <th>time</th>\n",
       "      <th>day</th>\n",
       "    </tr>\n",
       "  </thead>\n",
       "  <tbody>\n",
       "    <tr>\n",
       "      <th>0</th>\n",
       "      <td>FFB692EC</td>\n",
       "      <td>Kamigata To Boots</td>\n",
       "      <td>The Mass Missile</td>\n",
       "      <td>rock</td>\n",
       "      <td>Saint-Petersburg</td>\n",
       "      <td>20:28:33</td>\n",
       "      <td>Wednesday</td>\n",
       "    </tr>\n",
       "    <tr>\n",
       "      <th>1</th>\n",
       "      <td>55204538</td>\n",
       "      <td>Delayed Because of Accident</td>\n",
       "      <td>Andreas Rönnberg</td>\n",
       "      <td>rock</td>\n",
       "      <td>Moscow</td>\n",
       "      <td>14:07:09</td>\n",
       "      <td>Friday</td>\n",
       "    </tr>\n",
       "    <tr>\n",
       "      <th>2</th>\n",
       "      <td>20EC38</td>\n",
       "      <td>Funiculì funiculà</td>\n",
       "      <td>Mario Lanza</td>\n",
       "      <td>pop</td>\n",
       "      <td>Saint-Petersburg</td>\n",
       "      <td>20:58:07</td>\n",
       "      <td>Wednesday</td>\n",
       "    </tr>\n",
       "    <tr>\n",
       "      <th>3</th>\n",
       "      <td>A3DD03C9</td>\n",
       "      <td>Dragons in the Sunset</td>\n",
       "      <td>Fire + Ice</td>\n",
       "      <td>folk</td>\n",
       "      <td>Saint-Petersburg</td>\n",
       "      <td>08:37:09</td>\n",
       "      <td>Monday</td>\n",
       "    </tr>\n",
       "    <tr>\n",
       "      <th>4</th>\n",
       "      <td>E2DC1FAE</td>\n",
       "      <td>Soul People</td>\n",
       "      <td>Space Echo</td>\n",
       "      <td>dance</td>\n",
       "      <td>Moscow</td>\n",
       "      <td>08:34:34</td>\n",
       "      <td>Monday</td>\n",
       "    </tr>\n",
       "    <tr>\n",
       "      <th>...</th>\n",
       "      <td>...</td>\n",
       "      <td>...</td>\n",
       "      <td>...</td>\n",
       "      <td>...</td>\n",
       "      <td>...</td>\n",
       "      <td>...</td>\n",
       "      <td>...</td>\n",
       "    </tr>\n",
       "    <tr>\n",
       "      <th>65074</th>\n",
       "      <td>729CBB09</td>\n",
       "      <td>My Name</td>\n",
       "      <td>McLean</td>\n",
       "      <td>rnb</td>\n",
       "      <td>Moscow</td>\n",
       "      <td>13:32:28</td>\n",
       "      <td>Wednesday</td>\n",
       "    </tr>\n",
       "    <tr>\n",
       "      <th>65075</th>\n",
       "      <td>D08D4A55</td>\n",
       "      <td>Maybe One Day (feat. Black Spade)</td>\n",
       "      <td>Blu &amp; Exile</td>\n",
       "      <td>hip</td>\n",
       "      <td>Saint-Petersburg</td>\n",
       "      <td>10:00:00</td>\n",
       "      <td>Monday</td>\n",
       "    </tr>\n",
       "    <tr>\n",
       "      <th>65076</th>\n",
       "      <td>C5E3A0D5</td>\n",
       "      <td>Jalopiina</td>\n",
       "      <td>unknown</td>\n",
       "      <td>industrial</td>\n",
       "      <td>Moscow</td>\n",
       "      <td>20:09:26</td>\n",
       "      <td>Friday</td>\n",
       "    </tr>\n",
       "    <tr>\n",
       "      <th>65077</th>\n",
       "      <td>321D0506</td>\n",
       "      <td>Freight Train</td>\n",
       "      <td>Chas McDevitt</td>\n",
       "      <td>rock</td>\n",
       "      <td>Moscow</td>\n",
       "      <td>21:43:59</td>\n",
       "      <td>Friday</td>\n",
       "    </tr>\n",
       "    <tr>\n",
       "      <th>65078</th>\n",
       "      <td>3A64EF84</td>\n",
       "      <td>Tell Me Sweet Little Lies</td>\n",
       "      <td>Monica Lopez</td>\n",
       "      <td>country</td>\n",
       "      <td>Moscow</td>\n",
       "      <td>21:59:46</td>\n",
       "      <td>Friday</td>\n",
       "    </tr>\n",
       "  </tbody>\n",
       "</table>\n",
       "<p>61253 rows × 7 columns</p>\n",
       "</div>"
      ],
      "text/plain": [
       "        user_id                              track            artist  \\\n",
       "0      FFB692EC                  Kamigata To Boots  The Mass Missile   \n",
       "1      55204538        Delayed Because of Accident  Andreas Rönnberg   \n",
       "2        20EC38                  Funiculì funiculà       Mario Lanza   \n",
       "3      A3DD03C9              Dragons in the Sunset        Fire + Ice   \n",
       "4      E2DC1FAE                        Soul People        Space Echo   \n",
       "...         ...                                ...               ...   \n",
       "65074  729CBB09                            My Name            McLean   \n",
       "65075  D08D4A55  Maybe One Day (feat. Black Spade)       Blu & Exile   \n",
       "65076  C5E3A0D5                          Jalopiina           unknown   \n",
       "65077  321D0506                      Freight Train     Chas McDevitt   \n",
       "65078  3A64EF84          Tell Me Sweet Little Lies      Monica Lopez   \n",
       "\n",
       "            genre              city      time        day  \n",
       "0            rock  Saint-Petersburg  20:28:33  Wednesday  \n",
       "1            rock            Moscow  14:07:09     Friday  \n",
       "2             pop  Saint-Petersburg  20:58:07  Wednesday  \n",
       "3            folk  Saint-Petersburg  08:37:09     Monday  \n",
       "4           dance            Moscow  08:34:34     Monday  \n",
       "...           ...               ...       ...        ...  \n",
       "65074         rnb            Moscow  13:32:28  Wednesday  \n",
       "65075         hip  Saint-Petersburg  10:00:00     Monday  \n",
       "65076  industrial            Moscow  20:09:26     Friday  \n",
       "65077        rock            Moscow  21:43:59     Friday  \n",
       "65078     country            Moscow  21:59:46     Friday  \n",
       "\n",
       "[61253 rows x 7 columns]"
      ]
     },
     "execution_count": 13,
     "metadata": {},
     "output_type": "execute_result"
    }
   ],
   "source": [
    "# удаление явных дубликатов\n",
    "df = df.drop_duplicates()\n",
    "df"
   ]
  },
  {
   "cell_type": "markdown",
   "metadata": {
    "deletable": false,
    "editable": false,
    "id": "Im2YwBEG_Zct",
    "tags": [
     "start_task"
    ]
   },
   "source": [
    "\n",
    "Ещё раз посчитаем явные дубликаты в таблице — убедимся, что полностью от них избавились:"
   ]
  },
  {
   "cell_type": "code",
   "execution_count": 14,
   "metadata": {
    "deletable": false,
    "id": "-8PuNWQ0_Zct"
   },
   "outputs": [
    {
     "data": {
      "text/plain": [
       "0"
      ]
     },
     "execution_count": 14,
     "metadata": {},
     "output_type": "execute_result"
    }
   ],
   "source": [
    "# проверка на отсутствие дубликатов\n",
    "df.duplicated().sum()"
   ]
  },
  {
   "cell_type": "markdown",
   "metadata": {
    "deletable": false,
    "editable": false,
    "id": "eSjWwsOh_Zct",
    "tags": [
     "start_task"
    ]
   },
   "source": [
    "\n",
    "\n",
    "Выведем на экран список уникальных названий жанров, отсортированный в алфавитном порядке. Для этого:\n",
    "1. извлечем нужный столбец датафрейма; \n",
    "2. применим к нему метод сортировки;\n",
    "3. для отсортированного столбца вызовем метод, который вернёт уникальные значения из столбца."
   ]
  },
  {
   "cell_type": "code",
   "execution_count": 15,
   "metadata": {
    "deletable": false,
    "id": "JIUcqzZN_Zct"
   },
   "outputs": [
    {
     "data": {
      "text/plain": [
       "array(['acid', 'acoustic', 'action', 'adult', 'africa', 'afrikaans',\n",
       "       'alternative', 'alternativepunk', 'ambient', 'americana',\n",
       "       'animated', 'anime', 'arabesk', 'arabic', 'arena',\n",
       "       'argentinetango', 'art', 'audiobook', 'author', 'avantgarde',\n",
       "       'axé', 'baile', 'balkan', 'beats', 'bigroom', 'black', 'bluegrass',\n",
       "       'blues', 'bollywood', 'bossa', 'brazilian', 'breakbeat', 'breaks',\n",
       "       'broadway', 'cantautori', 'cantopop', 'canzone', 'caribbean',\n",
       "       'caucasian', 'celtic', 'chamber', 'chanson', 'children', 'chill',\n",
       "       'chinese', 'choral', 'christian', 'christmas', 'classical',\n",
       "       'classicmetal', 'club', 'colombian', 'comedy', 'conjazz',\n",
       "       'contemporary', 'country', 'cuban', 'dance', 'dancehall',\n",
       "       'dancepop', 'dark', 'death', 'deep', 'deutschrock', 'deutschspr',\n",
       "       'dirty', 'disco', 'dnb', 'documentary', 'downbeat', 'downtempo',\n",
       "       'drum', 'dub', 'dubstep', 'eastern', 'easy', 'electronic',\n",
       "       'electropop', 'emo', 'entehno', 'epicmetal', 'estrada', 'ethnic',\n",
       "       'eurofolk', 'european', 'experimental', 'extrememetal', 'fado',\n",
       "       'fairytail', 'film', 'fitness', 'flamenco', 'folk', 'folklore',\n",
       "       'folkmetal', 'folkrock', 'folktronica', 'forró', 'frankreich',\n",
       "       'französisch', 'french', 'funk', 'future', 'gangsta', 'garage',\n",
       "       'german', 'ghazal', 'gitarre', 'glitch', 'gospel', 'gothic',\n",
       "       'grime', 'grunge', 'gypsy', 'handsup', \"hard'n'heavy\", 'hardcore',\n",
       "       'hardstyle', 'hardtechno', 'hip', 'hip-hop', 'hiphop',\n",
       "       'historisch', 'holiday', 'hop', 'horror', 'house', 'hymn', 'idm',\n",
       "       'independent', 'indian', 'indie', 'indipop', 'industrial',\n",
       "       'inspirational', 'instrumental', 'international', 'irish', 'jam',\n",
       "       'japanese', 'jazz', 'jewish', 'jpop', 'jungle', 'k-pop',\n",
       "       'karadeniz', 'karaoke', 'kayokyoku', 'korean', 'laiko', 'latin',\n",
       "       'latino', 'leftfield', 'local', 'lounge', 'loungeelectronic',\n",
       "       'lovers', 'malaysian', 'mandopop', 'marschmusik', 'meditative',\n",
       "       'mediterranean', 'melodic', 'metal', 'metalcore', 'mexican',\n",
       "       'middle', 'minimal', 'miscellaneous', 'modern', 'mood', 'mpb',\n",
       "       'muslim', 'native', 'neoklassik', 'neue', 'new', 'newage',\n",
       "       'newwave', 'nu', 'nujazz', 'numetal', 'oceania', 'old', 'opera',\n",
       "       'orchestral', 'other', 'piano', 'podcasts', 'pop', 'popdance',\n",
       "       'popelectronic', 'popeurodance', 'poprussian', 'post',\n",
       "       'posthardcore', 'postrock', 'power', 'progmetal', 'progressive',\n",
       "       'psychedelic', 'punjabi', 'punk', 'quebecois', 'ragga', 'ram',\n",
       "       'rancheras', 'rap', 'rave', 'reggae', 'reggaeton', 'regional',\n",
       "       'relax', 'religious', 'retro', 'rhythm', 'rnb', 'rnr', 'rock',\n",
       "       'rockabilly', 'rockalternative', 'rockindie', 'rockother',\n",
       "       'romance', 'roots', 'ruspop', 'rusrap', 'rusrock', 'russian',\n",
       "       'salsa', 'samba', 'scenic', 'schlager', 'self', 'sertanejo',\n",
       "       'shanson', 'shoegazing', 'showtunes', 'singer', 'ska', 'skarock',\n",
       "       'slow', 'smooth', 'soft', 'soul', 'soulful', 'sound', 'soundtrack',\n",
       "       'southern', 'specialty', 'speech', 'spiritual', 'sport',\n",
       "       'stonerrock', 'surf', 'swing', 'synthpop', 'synthrock',\n",
       "       'sängerportrait', 'tango', 'tanzorchester', 'taraftar', 'tatar',\n",
       "       'tech', 'techno', 'teen', 'thrash', 'top', 'traditional',\n",
       "       'tradjazz', 'trance', 'tribal', 'trip', 'triphop', 'tropical',\n",
       "       'türk', 'türkçe', 'ukrrock', 'unknown', 'urban', 'uzbek',\n",
       "       'variété', 'vi', 'videogame', 'vocal', 'western', 'world',\n",
       "       'worldbeat', 'ïîï', 'электроника'], dtype=object)"
      ]
     },
     "execution_count": 15,
     "metadata": {},
     "output_type": "execute_result"
    }
   ],
   "source": [
    "# Просмотр уникальных названий жанров\n",
    "sorted_df = df['genre']\n",
    "sorted_df = sorted_df.sort_values()\n",
    "sorted_df.unique()\n"
   ]
  },
  {
   "cell_type": "markdown",
   "metadata": {
    "deletable": false,
    "editable": false,
    "id": "qej-Qmuo_Zct",
    "tags": [
     "start_task"
    ]
   },
   "source": [
    "Просмотрим список и найдем неявные дубликаты названия `hiphop`. Это могут быть названия с ошибками или альтернативные названия того же жанра.\n",
    "\n",
    "Я увидел следующие неявные дубликаты:\n",
    "* *hip*,\n",
    "* *hop*,\n",
    "* *hip-hop*.\n",
    "\n",
    "Чтобы очистить от них таблицу использую метод `replace()` с двумя аргументами: списком строк-дубликатов (включащий *hip*, *hop* и *hip-hop*) и строкой с правильным значением. Мне нужно исправить колонку `genre` в таблице `df`: заменить каждое значение из списка дубликатов на верное. Вместо `hip`, `hop` и `hip-hop` в таблице должно быть значение `hiphop`:"
   ]
  },
  {
   "cell_type": "code",
   "execution_count": 16,
   "metadata": {
    "deletable": false,
    "id": "ErNDkmns_Zct"
   },
   "outputs": [
    {
     "name": "stderr",
     "output_type": "stream",
     "text": [
      "/tmp/ipykernel_48/1909976808.py:4: SettingWithCopyWarning: \n",
      "A value is trying to be set on a copy of a slice from a DataFrame.\n",
      "Try using .loc[row_indexer,col_indexer] = value instead\n",
      "\n",
      "See the caveats in the documentation: https://pandas.pydata.org/pandas-docs/stable/user_guide/indexing.html#returning-a-view-versus-a-copy\n",
      "  df['genre'] = df['genre'].replace(duplicated, true_name)\n"
     ]
    }
   ],
   "source": [
    "# Устранение неявных дубликатов\n",
    "duplicated = ['hip', 'hop', 'hip-hop']\n",
    "true_name = 'hiphop'\n",
    "df['genre'] = df['genre'].replace(duplicated, true_name)"
   ]
  },
  {
   "cell_type": "markdown",
   "metadata": {
    "deletable": false,
    "editable": false,
    "id": "zQKF16_RG15m",
    "tags": [
     "start_task"
    ]
   },
   "source": [
    "\n",
    "Проверим, что заменили неправильные названия:\n",
    "\n",
    "*   hip,\n",
    "*   hop,\n",
    "*   hip-hop.\n",
    "\n",
    "Выведем отсортированный список уникальных значений столбца `genre`:"
   ]
  },
  {
   "cell_type": "code",
   "execution_count": 17,
   "metadata": {
    "deletable": false,
    "id": "wvixALnFG15m"
   },
   "outputs": [
    {
     "data": {
      "text/plain": [
       "array(['acid', 'acoustic', 'action', 'adult', 'africa', 'afrikaans',\n",
       "       'alternative', 'alternativepunk', 'ambient', 'americana',\n",
       "       'animated', 'anime', 'arabesk', 'arabic', 'arena',\n",
       "       'argentinetango', 'art', 'audiobook', 'author', 'avantgarde',\n",
       "       'axé', 'baile', 'balkan', 'beats', 'bigroom', 'black', 'bluegrass',\n",
       "       'blues', 'bollywood', 'bossa', 'brazilian', 'breakbeat', 'breaks',\n",
       "       'broadway', 'cantautori', 'cantopop', 'canzone', 'caribbean',\n",
       "       'caucasian', 'celtic', 'chamber', 'chanson', 'children', 'chill',\n",
       "       'chinese', 'choral', 'christian', 'christmas', 'classical',\n",
       "       'classicmetal', 'club', 'colombian', 'comedy', 'conjazz',\n",
       "       'contemporary', 'country', 'cuban', 'dance', 'dancehall',\n",
       "       'dancepop', 'dark', 'death', 'deep', 'deutschrock', 'deutschspr',\n",
       "       'dirty', 'disco', 'dnb', 'documentary', 'downbeat', 'downtempo',\n",
       "       'drum', 'dub', 'dubstep', 'eastern', 'easy', 'electronic',\n",
       "       'electropop', 'emo', 'entehno', 'epicmetal', 'estrada', 'ethnic',\n",
       "       'eurofolk', 'european', 'experimental', 'extrememetal', 'fado',\n",
       "       'fairytail', 'film', 'fitness', 'flamenco', 'folk', 'folklore',\n",
       "       'folkmetal', 'folkrock', 'folktronica', 'forró', 'frankreich',\n",
       "       'französisch', 'french', 'funk', 'future', 'gangsta', 'garage',\n",
       "       'german', 'ghazal', 'gitarre', 'glitch', 'gospel', 'gothic',\n",
       "       'grime', 'grunge', 'gypsy', 'handsup', \"hard'n'heavy\", 'hardcore',\n",
       "       'hardstyle', 'hardtechno', 'hiphop', 'historisch', 'holiday',\n",
       "       'horror', 'house', 'hymn', 'idm', 'independent', 'indian', 'indie',\n",
       "       'indipop', 'industrial', 'inspirational', 'instrumental',\n",
       "       'international', 'irish', 'jam', 'japanese', 'jazz', 'jewish',\n",
       "       'jpop', 'jungle', 'k-pop', 'karadeniz', 'karaoke', 'kayokyoku',\n",
       "       'korean', 'laiko', 'latin', 'latino', 'leftfield', 'local',\n",
       "       'lounge', 'loungeelectronic', 'lovers', 'malaysian', 'mandopop',\n",
       "       'marschmusik', 'meditative', 'mediterranean', 'melodic', 'metal',\n",
       "       'metalcore', 'mexican', 'middle', 'minimal', 'miscellaneous',\n",
       "       'modern', 'mood', 'mpb', 'muslim', 'native', 'neoklassik', 'neue',\n",
       "       'new', 'newage', 'newwave', 'nu', 'nujazz', 'numetal', 'oceania',\n",
       "       'old', 'opera', 'orchestral', 'other', 'piano', 'podcasts', 'pop',\n",
       "       'popdance', 'popelectronic', 'popeurodance', 'poprussian', 'post',\n",
       "       'posthardcore', 'postrock', 'power', 'progmetal', 'progressive',\n",
       "       'psychedelic', 'punjabi', 'punk', 'quebecois', 'ragga', 'ram',\n",
       "       'rancheras', 'rap', 'rave', 'reggae', 'reggaeton', 'regional',\n",
       "       'relax', 'religious', 'retro', 'rhythm', 'rnb', 'rnr', 'rock',\n",
       "       'rockabilly', 'rockalternative', 'rockindie', 'rockother',\n",
       "       'romance', 'roots', 'ruspop', 'rusrap', 'rusrock', 'russian',\n",
       "       'salsa', 'samba', 'scenic', 'schlager', 'self', 'sertanejo',\n",
       "       'shanson', 'shoegazing', 'showtunes', 'singer', 'ska', 'skarock',\n",
       "       'slow', 'smooth', 'soft', 'soul', 'soulful', 'sound', 'soundtrack',\n",
       "       'southern', 'specialty', 'speech', 'spiritual', 'sport',\n",
       "       'stonerrock', 'surf', 'swing', 'synthpop', 'synthrock',\n",
       "       'sängerportrait', 'tango', 'tanzorchester', 'taraftar', 'tatar',\n",
       "       'tech', 'techno', 'teen', 'thrash', 'top', 'traditional',\n",
       "       'tradjazz', 'trance', 'tribal', 'trip', 'triphop', 'tropical',\n",
       "       'türk', 'türkçe', 'ukrrock', 'unknown', 'urban', 'uzbek',\n",
       "       'variété', 'vi', 'videogame', 'vocal', 'western', 'world',\n",
       "       'worldbeat', 'ïîï', 'электроника'], dtype=object)"
      ]
     },
     "execution_count": 17,
     "metadata": {},
     "output_type": "execute_result"
    }
   ],
   "source": [
    "# Проверка на неявные дубликаты\n",
    "sorted_df = df['genre']\n",
    "sorted_df = sorted_df.sort_values()\n",
    "sorted_df.unique()"
   ]
  },
  {
   "cell_type": "markdown",
   "metadata": {
    "deletable": false,
    "editable": false,
    "id": "jz6a9-7HQUDd"
   },
   "source": [
    "**Выводы**\n",
    "\n",
    "Предобработка обнаружила три проблемы в данных:\n",
    "\n",
    "- нарушения в стиле заголовков,\n",
    "- пропущенные значения,\n",
    "- дубликаты — явные и неявные.\n",
    "\n",
    "Я исправили заголовки, чтобы упростить работу с таблицей. Без дубликатов исследование станет более точным.\n",
    "\n",
    "Пропущенные значения я заменил на `'unknown'`. Ещё предстоит увидеть, не повредят ли исследованию пропуски в колонке `genre`.\n",
    "\n",
    "Теперь можно перейти к проверке гипотез. "
   ]
  },
  {
   "cell_type": "markdown",
   "metadata": {
    "deletable": false,
    "editable": false,
    "id": "WttZHXH0SqKk"
   },
   "source": [
    "## Проверка гипотез"
   ]
  },
  {
   "cell_type": "markdown",
   "metadata": {
    "deletable": false,
    "editable": false,
    "id": "Im936VVi_Zcu"
   },
   "source": [
    "### Сравнение поведения пользователей двух столиц"
   ]
  },
  {
   "cell_type": "markdown",
   "metadata": {
    "deletable": false,
    "editable": false,
    "id": "nwt_MuaL_Zcu"
   },
   "source": [
    "Первая гипотеза утверждает, что пользователи по-разному слушают музыку в Москве и Санкт-Петербурге. Проверим это предположение по данным о трёх днях недели — понедельнике, среде и пятнице. Для этого:\n",
    "\n",
    "* Разделим пользователей Москвы и Санкт-Петербурга.\n",
    "* Сравним, сколько треков послушала каждая группа пользователей в понедельник, среду и пятницу.\n"
   ]
  },
  {
   "cell_type": "markdown",
   "metadata": {
    "deletable": false,
    "editable": false,
    "id": "8Dw_YMmT_Zcu",
    "tags": [
     "start_task"
    ]
   },
   "source": [
    "Для тренировки сначала выполним каждый из расчётов по отдельности. \n",
    "\n",
    "Оценим активность пользователей в каждом городе. Сгруппируем данные по городу и посчитайте прослушивания в каждой группе.\n",
    "\n"
   ]
  },
  {
   "cell_type": "code",
   "execution_count": 18,
   "metadata": {
    "deletable": false,
    "id": "0_Qs96oh_Zcu"
   },
   "outputs": [
    {
     "data": {
      "text/plain": [
       "city\n",
       "Moscow              42741\n",
       "Saint-Petersburg    18512\n",
       "Name: genre, dtype: int64"
      ]
     },
     "execution_count": 18,
     "metadata": {},
     "output_type": "execute_result"
    }
   ],
   "source": [
    "# Подсчёт прослушиваний в каждом городе\n",
    "df.groupby('city')['genre'].count()"
   ]
  },
  {
   "cell_type": "markdown",
   "metadata": {
    "deletable": false,
    "editable": false,
    "id": "dzli3w8o_Zcu",
    "tags": [
     "start_task"
    ]
   },
   "source": [
    "В Москве прослушиваний больше, чем в Петербурге. Из этого не следует, что московские пользователи чаще слушают музыку. Просто самих пользователей в Москве больше.\n",
    "\n",
    "\n",
    "Теперь сгруппируем данные по дню недели и посчитайте прослушивания в понедельник, среду и пятницу. Учитывая что в данных есть информация о прослушиваниях только за эти дни.\n"
   ]
  },
  {
   "cell_type": "code",
   "execution_count": 19,
   "metadata": {
    "deletable": false,
    "id": "uZMKjiJz_Zcu"
   },
   "outputs": [
    {
     "data": {
      "text/plain": [
       "day\n",
       "Friday       21840\n",
       "Monday       21354\n",
       "Wednesday    18059\n",
       "Name: genre, dtype: int64"
      ]
     },
     "execution_count": 19,
     "metadata": {},
     "output_type": "execute_result"
    }
   ],
   "source": [
    "# Подсчёт прослушиваний в каждый из трёх дней\n",
    "df.groupby('day')['genre'].count()"
   ]
  },
  {
   "cell_type": "markdown",
   "metadata": {
    "deletable": false,
    "editable": false,
    "id": "cC2tNrlL_Zcu"
   },
   "source": [
    "В среднем пользователи из двух городов менее активны по средам. Но картина может измениться, если рассмотреть каждый город в отдельности."
   ]
  },
  {
   "cell_type": "markdown",
   "metadata": {
    "deletable": false,
    "editable": false,
    "id": "POzs8bGa_Zcu",
    "tags": [
     "start_task"
    ]
   },
   "source": [
    "\n",
    "Мы видели, как работает группировка по городу и по дням недели. Теперь напишем функцию, которая объединит два эти расчёта.\n",
    "\n",
    "Создам функцию `number_tracks()`, которая посчитает прослушивания для заданного дня и города. Ей понадобятся два параметра:\n",
    "* день недели,\n",
    "* название города.\n",
    "\n",
    "В функции сохраню в переменную строки исходной таблицы, у которых значение:\n",
    "  * в колонке `day` равно параметру `day`,\n",
    "  * в колонке `city` равно параметру `city`.\n",
    "\n",
    "Для этого применю последовательную фильтрацию с логической индексацией.\n",
    "\n",
    "Затем посчитаю значения в столбце `user_id` получившейся таблицы. Результат сохраню в новую переменную. Верну эту переменную из функции."
   ]
  },
  {
   "cell_type": "code",
   "execution_count": 20,
   "metadata": {
    "deletable": false,
    "id": "Nz3GdQB1_Zcu"
   },
   "outputs": [],
   "source": [
    "# <создание функции number_tracks()>\n",
    "def number_tracks(day, city):\n",
    "    track_list = df.loc[(df['day'] == day) & (df['city'] == city)]\n",
    "# В переменной track_list_count сохраняется число значений столбца 'user_id',\n",
    "# рассчитанное методом count() для таблицы track_list.\n",
    "    track_list_count = track_list['user_id'].count()\n",
    "# Функция возвращает число - значение track_list_count.\n",
    "    return track_list_count"
   ]
  },
  {
   "cell_type": "markdown",
   "metadata": {
    "deletable": false,
    "editable": false,
    "id": "ytf7xFrFJQ2r",
    "tags": [
     "start_task"
    ]
   },
   "source": [
    "\n",
    "Вызову `number_tracks()` шесть раз, меняя значение параметров — так, чтобы получить данные для каждого города в каждый из трёх дней."
   ]
  },
  {
   "cell_type": "code",
   "execution_count": 21,
   "metadata": {
    "deletable": false,
    "id": "rJcRATNQ_Zcu",
    "scrolled": false
   },
   "outputs": [
    {
     "data": {
      "text/plain": [
       "15740"
      ]
     },
     "execution_count": 21,
     "metadata": {},
     "output_type": "execute_result"
    }
   ],
   "source": [
    "# количество прослушиваний в Москве по понедельникам\n",
    "number_tracks('Monday', 'Moscow')"
   ]
  },
  {
   "cell_type": "code",
   "execution_count": 22,
   "metadata": {
    "deletable": false,
    "id": "hq_ncZ5T_Zcu"
   },
   "outputs": [
    {
     "data": {
      "text/plain": [
       "5614"
      ]
     },
     "execution_count": 22,
     "metadata": {},
     "output_type": "execute_result"
    }
   ],
   "source": [
    "# количество прослушиваний в Санкт-Петербурге по понедельникам\n",
    "number_tracks('Monday', 'Saint-Petersburg')"
   ]
  },
  {
   "cell_type": "code",
   "execution_count": 23,
   "metadata": {
    "deletable": false,
    "id": "_NTy2VPU_Zcu"
   },
   "outputs": [
    {
     "data": {
      "text/plain": [
       "11056"
      ]
     },
     "execution_count": 23,
     "metadata": {},
     "output_type": "execute_result"
    }
   ],
   "source": [
    "# количество прослушиваний в Москве по средам\n",
    "number_tracks('Wednesday', 'Moscow')"
   ]
  },
  {
   "cell_type": "code",
   "execution_count": 24,
   "metadata": {
    "deletable": false,
    "id": "j2y3TAwo_Zcu"
   },
   "outputs": [
    {
     "data": {
      "text/plain": [
       "7003"
      ]
     },
     "execution_count": 24,
     "metadata": {},
     "output_type": "execute_result"
    }
   ],
   "source": [
    "# количество прослушиваний в Санкт-Петербурге по средам\n",
    "number_tracks('Wednesday', 'Saint-Petersburg')"
   ]
  },
  {
   "cell_type": "code",
   "execution_count": 25,
   "metadata": {
    "deletable": false,
    "id": "vYDw5u_K_Zcu"
   },
   "outputs": [
    {
     "data": {
      "text/plain": [
       "15945"
      ]
     },
     "execution_count": 25,
     "metadata": {},
     "output_type": "execute_result"
    }
   ],
   "source": [
    "# количество прослушиваний в Москве по пятницам\n",
    "number_tracks('Friday', 'Moscow')"
   ]
  },
  {
   "cell_type": "code",
   "execution_count": 26,
   "metadata": {
    "deletable": false,
    "id": "8_yzFtW3_Zcu"
   },
   "outputs": [
    {
     "data": {
      "text/plain": [
       "5895"
      ]
     },
     "execution_count": 26,
     "metadata": {},
     "output_type": "execute_result"
    }
   ],
   "source": [
    "# количество прослушиваний в Санкт-Петербурге по пятницам\n",
    "number_tracks('Friday', 'Saint-Petersburg')"
   ]
  },
  {
   "cell_type": "markdown",
   "metadata": {
    "deletable": false,
    "editable": false,
    "id": "7QXffbO-_Zcu",
    "tags": [
     "start_task"
    ]
   },
   "source": [
    "Создам c помощью конструктора `pd.DataFrame` таблицу, где\n",
    "* названия колонок — `['city', 'monday', 'wednesday', 'friday']`;\n",
    "* данные — результаты, которые вы получили с помощью `number_tracks`."
   ]
  },
  {
   "cell_type": "code",
   "execution_count": 27,
   "metadata": {
    "deletable": false,
    "id": "APAcLpOr_Zcu"
   },
   "outputs": [
    {
     "data": {
      "text/html": [
       "<div>\n",
       "<style scoped>\n",
       "    .dataframe tbody tr th:only-of-type {\n",
       "        vertical-align: middle;\n",
       "    }\n",
       "\n",
       "    .dataframe tbody tr th {\n",
       "        vertical-align: top;\n",
       "    }\n",
       "\n",
       "    .dataframe thead th {\n",
       "        text-align: right;\n",
       "    }\n",
       "</style>\n",
       "<table border=\"1\" class=\"dataframe\">\n",
       "  <thead>\n",
       "    <tr style=\"text-align: right;\">\n",
       "      <th></th>\n",
       "      <th>city</th>\n",
       "      <th>monday</th>\n",
       "      <th>wendesday</th>\n",
       "      <th>friday</th>\n",
       "    </tr>\n",
       "  </thead>\n",
       "  <tbody>\n",
       "    <tr>\n",
       "      <th>0</th>\n",
       "      <td>Москва</td>\n",
       "      <td>15740</td>\n",
       "      <td>11056</td>\n",
       "      <td>15945</td>\n",
       "    </tr>\n",
       "    <tr>\n",
       "      <th>1</th>\n",
       "      <td>Санкт-Петербург</td>\n",
       "      <td>5614</td>\n",
       "      <td>7003</td>\n",
       "      <td>5895</td>\n",
       "    </tr>\n",
       "  </tbody>\n",
       "</table>\n",
       "</div>"
      ],
      "text/plain": [
       "              city  monday  wendesday  friday\n",
       "0           Москва   15740      11056   15945\n",
       "1  Санкт-Петербург    5614       7003    5895"
      ]
     },
     "execution_count": 27,
     "metadata": {},
     "output_type": "execute_result"
    }
   ],
   "source": [
    "# Таблица с результатами\n",
    "info = pd.DataFrame(data = [['Москва', 15740, 11056, 15945], ['Санкт-Петербург', 5614, 7003, 5895]], columns = ['city', 'monday', 'wendesday', 'friday'])\n",
    "info"
   ]
  },
  {
   "cell_type": "markdown",
   "metadata": {
    "deletable": false,
    "editable": false,
    "id": "-EgPIHYu_Zcu"
   },
   "source": [
    "**Выводы**\n",
    "\n",
    "Данные показывают разницу поведения пользователей:\n",
    "\n",
    "- В Москве пик прослушиваний приходится на понедельник и пятницу, а в среду заметен спад.\n",
    "- В Петербурге, наоборот, больше слушают музыку по средам. Активность в понедельник и пятницу здесь почти в равной мере уступает среде.\n",
    "\n",
    "Значит, данные говорят в пользу первой гипотезы."
   ]
  },
  {
   "cell_type": "markdown",
   "metadata": {
    "deletable": false,
    "editable": false,
    "id": "atZAxtq4_Zcu"
   },
   "source": [
    "### Музыка в начале и в конце недели"
   ]
  },
  {
   "cell_type": "markdown",
   "metadata": {
    "deletable": false,
    "editable": false,
    "id": "eXrQqXFH_Zcu"
   },
   "source": [
    "Согласно второй гипотезе, утром в понедельник в Москве преобладают одни жанры, а в Петербурге — другие. Так же и вечером пятницы преобладают разные жанры — в зависимости от города."
   ]
  },
  {
   "cell_type": "markdown",
   "metadata": {
    "deletable": false,
    "editable": false,
    "id": "S8UcW6Hw_Zcu",
    "tags": [
     "start_task"
    ]
   },
   "source": [
    "Сохраню таблицы с данными в две переменные:\n",
    "* по Москве — в `moscow_general`;\n",
    "* по Санкт-Петербургу — в `spb_general`."
   ]
  },
  {
   "cell_type": "code",
   "execution_count": 28,
   "metadata": {
    "deletable": false,
    "id": "qeaFfM_P_Zcu"
   },
   "outputs": [],
   "source": [
    "# получение таблицы moscow_general из тех строк таблицы df, \n",
    "# для которых значение в столбце 'city' равно 'Moscow'\n",
    "moscow_general = df[df['city'] == 'Moscow']"
   ]
  },
  {
   "cell_type": "code",
   "execution_count": 29,
   "metadata": {
    "deletable": false,
    "id": "ORaVRKto_Zcu"
   },
   "outputs": [],
   "source": [
    "# получение таблицы spb_general из тех строк таблицы df,\n",
    "# для которых значение в столбце 'city' равно 'Saint-Pанкт-Петербург'\n",
    "spb_general = df[df['city'] == 'Saint-Petersburg']"
   ]
  },
  {
   "cell_type": "markdown",
   "metadata": {
    "deletable": false,
    "editable": false,
    "id": "MEJV-CX2_Zcu",
    "tags": [
     "start_task"
    ]
   },
   "source": [
    "Создам функцию `genre_weekday()` с четырьмя параметрами:\n",
    "* таблица (датафрейм) с данными,\n",
    "* день недели,\n",
    "* начальная временная метка в формате 'hh:mm', \n",
    "* последняя временная метка в формате 'hh:mm'.\n",
    "\n",
    "Функция должна вернуть информацию о топ-10 жанров тех треков, которые прослушивали в указанный день, в промежутке между двумя отметками времени."
   ]
  },
  {
   "cell_type": "code",
   "execution_count": 30,
   "metadata": {
    "deletable": false,
    "id": "laJT9BYl_Zcu"
   },
   "outputs": [],
   "source": [
    "# объявление функции genre_weekday\n",
    "def genre_weekday(df, day, time1, time2):\n",
    "    # последовательная фильтрация\n",
    "    # оставляем в genre_df только те строки df, у которых день равен day\n",
    "    genre_df = df[df['day'] == day]\n",
    "    # оставляем в genre_df только те строки genre_df, у которых время меньше time2\n",
    "    genre_df = genre_df[genre_df['time'] < time2]\n",
    "    # оставляем в genre_df только те строки genre_df, у которых время больше time1\n",
    "    genre_df = genre_df[genre_df['time'] > time1] \n",
    "    # сгруппируем отфильтрованный датафрейм по столбцу с названиями жанров, возьмём столбец genre и посчитаем кол-во строк для каждого жанра методом count()\n",
    "    genre_df_grouped = genre_df.groupby('genre')['genre'].count() \n",
    "    # отсортируем результат по убыванию (чтобы в начале Series оказались самые популярные жанры)\n",
    "    genre_df_sorted = genre_df_grouped.sort_values(ascending=False)\n",
    "    # вернём Series с 10 самыми популярными жанрами в указанный отрезок времени заданного дня\n",
    "    return genre_df_sorted[:10]"
   ]
  },
  {
   "cell_type": "markdown",
   "metadata": {
    "deletable": false,
    "editable": false,
    "id": "la2s2_PF_Zcu",
    "tags": [
     "start_task"
    ]
   },
   "source": [
    "Cравню результаты функции `genre_weekday()` для Москвы и Санкт-Петербурга в понедельник утром (с 7:00 до 11:00) и в пятницу вечером (с 17:00 до 23:00):"
   ]
  },
  {
   "cell_type": "code",
   "execution_count": 1,
   "metadata": {
    "deletable": false,
    "id": "yz7itPUQ_Zcu"
   },
   "outputs": [
    {
     "ename": "NameError",
     "evalue": "name 'genre_weekday' is not defined",
     "output_type": "error",
     "traceback": [
      "\u001b[1;31m---------------------------------------------------------------------------\u001b[0m",
      "\u001b[1;31mNameError\u001b[0m                                 Traceback (most recent call last)",
      "\u001b[1;32m~\\AppData\\Local\\Temp\\ipykernel_5080\\470287405.py\u001b[0m in \u001b[0;36m<module>\u001b[1;34m\u001b[0m\n\u001b[0;32m      1\u001b[0m \u001b[1;31m# вызов функции для утра понедельника в Москве\u001b[0m\u001b[1;33m\u001b[0m\u001b[1;33m\u001b[0m\u001b[0m\n\u001b[1;32m----> 2\u001b[1;33m \u001b[0mgenre_weekday\u001b[0m\u001b[1;33m(\u001b[0m\u001b[0mmoscow_general\u001b[0m\u001b[1;33m,\u001b[0m\u001b[1;34m'Monday'\u001b[0m\u001b[1;33m,\u001b[0m \u001b[1;34m'07:00'\u001b[0m\u001b[1;33m,\u001b[0m \u001b[1;34m'11:00'\u001b[0m\u001b[1;33m)\u001b[0m\u001b[1;33m\u001b[0m\u001b[1;33m\u001b[0m\u001b[0m\n\u001b[0m",
      "\u001b[1;31mNameError\u001b[0m: name 'genre_weekday' is not defined"
     ]
    }
   ],
   "source": [
    "# вызов функции для утра понедельника в Москве\n",
    "genre_weekday(moscow_general,'Monday', '07:00', '11:00')"
   ]
  },
  {
   "cell_type": "code",
   "execution_count": 32,
   "metadata": {
    "deletable": false,
    "id": "kwUcHPdy_Zcu"
   },
   "outputs": [
    {
     "data": {
      "text/plain": [
       "genre\n",
       "pop            218\n",
       "dance          182\n",
       "rock           162\n",
       "electronic     147\n",
       "hiphop          80\n",
       "ruspop          64\n",
       "alternative     58\n",
       "rusrap          55\n",
       "jazz            44\n",
       "classical       40\n",
       "Name: genre, dtype: int64"
      ]
     },
     "execution_count": 32,
     "metadata": {},
     "output_type": "execute_result"
    }
   ],
   "source": [
    "# вызов функции для утра понедельника в Петербурге\n",
    "genre_weekday(spb_general, 'Monday', '07:00', '11:00')"
   ]
  },
  {
   "cell_type": "code",
   "execution_count": 33,
   "metadata": {
    "deletable": false,
    "id": "EzXVRE1o_Zcu"
   },
   "outputs": [
    {
     "data": {
      "text/plain": [
       "genre\n",
       "pop            713\n",
       "rock           517\n",
       "dance          495\n",
       "electronic     482\n",
       "hiphop         273\n",
       "world          208\n",
       "ruspop         170\n",
       "alternative    163\n",
       "classical      163\n",
       "rusrap         142\n",
       "Name: genre, dtype: int64"
      ]
     },
     "execution_count": 33,
     "metadata": {},
     "output_type": "execute_result"
    }
   ],
   "source": [
    "# вызов функции для вечера пятницы в Москве\n",
    "genre_weekday(moscow_general, 'Friday', '17:00', '23:00')"
   ]
  },
  {
   "cell_type": "code",
   "execution_count": 34,
   "metadata": {
    "deletable": false,
    "id": "JZaEKu5v_Zcu"
   },
   "outputs": [
    {
     "data": {
      "text/plain": [
       "genre\n",
       "pop            256\n",
       "electronic     216\n",
       "rock           216\n",
       "dance          210\n",
       "hiphop          97\n",
       "alternative     63\n",
       "jazz            61\n",
       "classical       60\n",
       "rusrap          59\n",
       "world           54\n",
       "Name: genre, dtype: int64"
      ]
     },
     "execution_count": 34,
     "metadata": {},
     "output_type": "execute_result"
    }
   ],
   "source": [
    "# вызов функции для вечера пятницы в Петербурге\n",
    "genre_weekday(spb_general, 'Friday', '17:00', '23:00')"
   ]
  },
  {
   "cell_type": "markdown",
   "metadata": {
    "deletable": false,
    "editable": false,
    "id": "wrCe4MNX_Zcu"
   },
   "source": [
    "**Выводы**\n",
    "\n",
    "Если сравнить топ-10 жанров в понедельник утром, можно сделать такие выводы:\n",
    "\n",
    "1. В Москве и Петербурге слушают похожую музыку. Единственное отличие — в московский рейтинг вошёл жанр “world”, а в петербургский — джаз и классика.\n",
    "\n",
    "2. В Москве пропущенных значений оказалось так много, что значение `'unknown'` заняло десятое место среди самых популярных жанров. Значит, пропущенные значения занимают существенную долю в данных и угрожают достоверности исследования.\n",
    "\n",
    "Вечер пятницы не меняет эту картину. Некоторые жанры поднимаются немного выше, другие спускаются, но в целом топ-10 остаётся тем же самым.\n",
    "\n",
    "Таким образом, вторая гипотеза подтвердилась лишь частично:\n",
    "* Пользователи слушают похожую музыку в начале недели и в конце.\n",
    "* Разница между Москвой и Петербургом не слишком выражена. В Москве чаще слушают русскую популярную музыку, в Петербурге — джаз.\n",
    "\n",
    "Однако пропуски в данных ставят под сомнение этот результат. В Москве их так много, что рейтинг топ-10 мог бы выглядеть иначе, если бы не утерянные  данные о жанрах."
   ]
  },
  {
   "cell_type": "markdown",
   "metadata": {
    "deletable": false,
    "editable": false,
    "id": "JolODAqr_Zcu"
   },
   "source": [
    "### Жанровые предпочтения в Москве и Петербурге\n",
    "\n",
    "Гипотеза: Петербург — столица рэпа, музыку этого жанра там слушают чаще, чем в Москве.  А Москва — город контрастов, в котором, тем не менее, преобладает поп-музыка."
   ]
  },
  {
   "cell_type": "markdown",
   "metadata": {
    "deletable": false,
    "editable": false,
    "id": "DlegSvaT_Zcu",
    "tags": [
     "start_task"
    ]
   },
   "source": [
    "Сгруппируем таблицу `moscow_general` по жанру и посчитаем прослушивания треков каждого жанра методом `count()`. Затем отсортируем результат в порядке убывания и сохраните его в таблице `moscow_genres`."
   ]
  },
  {
   "cell_type": "code",
   "execution_count": 35,
   "metadata": {
    "deletable": false,
    "id": "r19lIPke_Zcu"
   },
   "outputs": [],
   "source": [
    "# группировка таблицы moscow_general по столбцу 'genre', \n",
    "# подсчёт числа значений 'genre' в этой группировке методом count(), \n",
    "# сортировка получившегося Series в порядке убывания и сохранение в moscow_genres\n",
    "moscow_genres = moscow_general.groupby('genre')['genre'].count().sort_values(ascending=False)"
   ]
  },
  {
   "cell_type": "markdown",
   "metadata": {
    "deletable": false,
    "editable": false,
    "id": "6kMuomxTiIr8",
    "tags": [
     "start_task"
    ]
   },
   "source": [
    "Выведем на экран первые десять строк `moscow_genres`:"
   ]
  },
  {
   "cell_type": "code",
   "execution_count": 36,
   "metadata": {
    "deletable": false,
    "id": "WhCSooF8_Zcv"
   },
   "outputs": [
    {
     "data": {
      "text/plain": [
       "genre\n",
       "pop            5892\n",
       "dance          4435\n",
       "rock           3965\n",
       "electronic     3786\n",
       "hiphop         2096\n",
       "classical      1616\n",
       "world          1432\n",
       "alternative    1379\n",
       "ruspop         1372\n",
       "rusrap         1161\n",
       "Name: genre, dtype: int64"
      ]
     },
     "execution_count": 36,
     "metadata": {},
     "output_type": "execute_result"
    }
   ],
   "source": [
    "# просмотр первых 10 строк moscow_genres\n",
    "moscow_genres.head(10)"
   ]
  },
  {
   "cell_type": "markdown",
   "metadata": {
    "deletable": false,
    "editable": false,
    "id": "cnPG2vnN_Zcv",
    "tags": [
     "start_task"
    ]
   },
   "source": [
    "Теперь повторим то же и для Петербурга.\n",
    "\n",
    "Сгруппируем таблицу `spb_general` по жанру. Посчитаем прослушивания треков каждого жанра. Результат отсортируем в порядке убывания и сохраните в таблице `spb_genres`:\n"
   ]
  },
  {
   "cell_type": "code",
   "execution_count": 37,
   "metadata": {
    "deletable": false,
    "id": "gluLIpE7_Zcv"
   },
   "outputs": [],
   "source": [
    "# группировка таблицы spb_general по столбцу 'genre', \n",
    "# подсчёт числа значений 'genre' в этой группировке методом count(), \n",
    "# сортировка получившегося Series в порядке убывания и сохранение в spb_genres\n",
    "spb_genres = spb_general.groupby('genre')['genre'].count().sort_values(ascending=False)"
   ]
  },
  {
   "cell_type": "markdown",
   "metadata": {
    "deletable": false,
    "editable": false,
    "id": "5Doha_ODgyQ8",
    "tags": [
     "start_task"
    ]
   },
   "source": [
    "Выведем на экран первые десять строк `spb_genres`:"
   ]
  },
  {
   "cell_type": "code",
   "execution_count": 38,
   "metadata": {
    "deletable": false,
    "id": "uaGJHjVU_Zcv"
   },
   "outputs": [
    {
     "data": {
      "text/plain": [
       "genre\n",
       "pop            2431\n",
       "dance          1932\n",
       "rock           1879\n",
       "electronic     1736\n",
       "hiphop          960\n",
       "alternative     649\n",
       "classical       646\n",
       "rusrap          564\n",
       "ruspop          538\n",
       "world           515\n",
       "Name: genre, dtype: int64"
      ]
     },
     "execution_count": 38,
     "metadata": {},
     "output_type": "execute_result"
    }
   ],
   "source": [
    "# просмотр первых 10 строк spb_genres\n",
    "spb_genres.head(10)"
   ]
  },
  {
   "cell_type": "markdown",
   "metadata": {
    "deletable": false,
    "editable": false,
    "id": "RY51YJYu_Zcv"
   },
   "source": [
    "**Выводы**"
   ]
  },
  {
   "cell_type": "markdown",
   "metadata": {
    "deletable": false,
    "editable": false,
    "id": "nVhnJEm__Zcv"
   },
   "source": [
    "Гипотеза частично подтвердилась:\n",
    "* Поп-музыка — самый популярный жанр в Москве, как и предполагала гипотеза. Более того, в топ-10 жанров встречается близкий жанр — русская популярная музыка.\n",
    "* Вопреки ожиданиям, рэп одинаково популярен в Москве и Петербурге. \n"
   ]
  },
  {
   "cell_type": "markdown",
   "metadata": {
    "deletable": false,
    "editable": false,
    "id": "ykKQ0N65_Zcv"
   },
   "source": [
    "## Итоги исследования"
   ]
  },
  {
   "cell_type": "markdown",
   "metadata": {
    "deletable": false,
    "editable": false,
    "id": "tjUwbHb3_Zcv"
   },
   "source": [
    "Вы проверили три гипотезы и установили:\n",
    "\n",
    "1. День недели по-разному влияет на активность пользователей в Москве и Петербурге. \n",
    "\n",
    "Первая гипотеза полностью подтвердилась.\n",
    "\n",
    "2. Музыкальные предпочтения не сильно меняются в течение недели — будь то Москва или Петербург. Небольшие различия заметны в начале недели, по понедельникам:\n",
    "* в Москве слушают музыку жанра “world”,\n",
    "* в Петербурге — джаз и классику.\n",
    "\n",
    "Таким образом, вторая гипотеза подтвердилась лишь отчасти. Этот результат мог оказаться иным, если бы не пропуски в данных.\n",
    "\n",
    "3. Во вкусах пользователей Москвы и Петербурга больше общего чем различий. Вопреки ожиданиям, предпочтения жанров в Петербурге напоминают московские.\n",
    "\n",
    "Третья гипотеза не подтвердилась. Если различия в предпочтениях и существуют, на основной массе пользователей они незаметны.\n",
    "\n"
   ]
  }
 ],
 "metadata": {
  "ExecuteTimeLog": [
   {
    "duration": 342,
    "start_time": "2022-12-29T20:24:50.465Z"
   },
   {
    "duration": 8,
    "start_time": "2022-12-29T20:28:11.635Z"
   },
   {
    "duration": 435,
    "start_time": "2022-12-29T20:28:19.714Z"
   },
   {
    "duration": 17,
    "start_time": "2022-12-29T20:30:34.018Z"
   },
   {
    "duration": 9,
    "start_time": "2022-12-29T20:35:24.873Z"
   },
   {
    "duration": 11,
    "start_time": "2022-12-29T20:36:49.852Z"
   },
   {
    "duration": 25,
    "start_time": "2022-12-29T20:39:22.457Z"
   },
   {
    "duration": 3,
    "start_time": "2022-12-29T20:41:30.013Z"
   },
   {
    "duration": 2,
    "start_time": "2022-12-29T20:41:33.134Z"
   },
   {
    "duration": 7,
    "start_time": "2022-12-29T20:48:07.912Z"
   },
   {
    "duration": 11,
    "start_time": "2022-12-29T20:50:45.032Z"
   },
   {
    "duration": 71,
    "start_time": "2022-12-29T20:51:08.659Z"
   },
   {
    "duration": 8,
    "start_time": "2022-12-29T20:51:24.941Z"
   },
   {
    "duration": 7,
    "start_time": "2022-12-29T20:51:40.963Z"
   },
   {
    "duration": 7,
    "start_time": "2022-12-29T20:51:50.098Z"
   },
   {
    "duration": 8,
    "start_time": "2022-12-29T20:53:41.576Z"
   },
   {
    "duration": 78,
    "start_time": "2022-12-30T13:30:03.357Z"
   },
   {
    "duration": 16,
    "start_time": "2022-12-30T13:30:10.477Z"
   },
   {
    "duration": 7,
    "start_time": "2022-12-30T13:31:50.932Z"
   },
   {
    "duration": 6,
    "start_time": "2022-12-30T13:39:48.473Z"
   },
   {
    "duration": 7,
    "start_time": "2022-12-30T13:40:55.044Z"
   },
   {
    "duration": 2,
    "start_time": "2022-12-30T13:41:11.637Z"
   },
   {
    "duration": 5,
    "start_time": "2022-12-30T13:41:30.773Z"
   },
   {
    "duration": 6,
    "start_time": "2022-12-30T13:42:34.521Z"
   },
   {
    "duration": 5,
    "start_time": "2022-12-30T13:47:41.385Z"
   },
   {
    "duration": 360,
    "start_time": "2022-12-30T13:47:57.028Z"
   },
   {
    "duration": 497,
    "start_time": "2022-12-30T13:48:00.762Z"
   },
   {
    "duration": 22,
    "start_time": "2022-12-30T13:48:03.997Z"
   },
   {
    "duration": 30,
    "start_time": "2022-12-30T13:48:09.573Z"
   },
   {
    "duration": 2,
    "start_time": "2022-12-30T13:48:13.164Z"
   },
   {
    "duration": 4,
    "start_time": "2022-12-30T13:48:16.841Z"
   },
   {
    "duration": 71,
    "start_time": "2022-12-30T13:53:42.757Z"
   },
   {
    "duration": 71,
    "start_time": "2022-12-30T13:55:20.375Z"
   },
   {
    "duration": 70,
    "start_time": "2022-12-30T13:57:15.502Z"
   },
   {
    "duration": 2,
    "start_time": "2022-12-30T14:01:49.929Z"
   },
   {
    "duration": 167,
    "start_time": "2022-12-30T14:01:52.617Z"
   },
   {
    "duration": 11,
    "start_time": "2022-12-30T14:01:54.691Z"
   },
   {
    "duration": 31,
    "start_time": "2022-12-30T14:01:56.951Z"
   },
   {
    "duration": 2,
    "start_time": "2022-12-30T14:01:59.376Z"
   },
   {
    "duration": 6,
    "start_time": "2022-12-30T14:02:01.762Z"
   },
   {
    "duration": 67,
    "start_time": "2022-12-30T14:02:04.125Z"
   },
   {
    "duration": 67,
    "start_time": "2022-12-30T14:02:12.119Z"
   },
   {
    "duration": 5,
    "start_time": "2022-12-30T14:03:01.088Z"
   },
   {
    "duration": 79,
    "start_time": "2022-12-30T14:04:13.750Z"
   },
   {
    "duration": 74,
    "start_time": "2022-12-30T14:09:29.587Z"
   },
   {
    "duration": 413,
    "start_time": "2023-01-02T12:58:02.332Z"
   },
   {
    "duration": 233,
    "start_time": "2023-01-02T12:58:04.468Z"
   },
   {
    "duration": 17,
    "start_time": "2023-01-02T12:58:13.740Z"
   },
   {
    "duration": 34,
    "start_time": "2023-01-02T12:58:18.018Z"
   },
   {
    "duration": 3,
    "start_time": "2023-01-02T12:58:23.174Z"
   },
   {
    "duration": 4,
    "start_time": "2023-01-02T12:58:26.410Z"
   },
   {
    "duration": 43,
    "start_time": "2023-01-02T12:58:36.542Z"
   },
   {
    "duration": 63,
    "start_time": "2023-01-02T13:01:18.577Z"
   },
   {
    "duration": 11,
    "start_time": "2023-01-02T13:02:19.210Z"
   },
   {
    "duration": 4,
    "start_time": "2023-01-02T13:03:07.857Z"
   },
   {
    "duration": 26,
    "start_time": "2023-01-02T13:05:12.349Z"
   },
   {
    "duration": 63,
    "start_time": "2023-01-02T13:10:32.029Z"
   },
   {
    "duration": 36,
    "start_time": "2023-01-02T13:10:45.163Z"
   },
   {
    "duration": 27,
    "start_time": "2023-01-02T13:11:36.120Z"
   },
   {
    "duration": 66,
    "start_time": "2023-01-02T13:12:30.515Z"
   },
   {
    "duration": 85,
    "start_time": "2023-01-02T13:13:49.826Z"
   },
   {
    "duration": 73,
    "start_time": "2023-01-02T13:14:57.611Z"
   },
   {
    "duration": 66,
    "start_time": "2023-01-02T13:15:00.213Z"
   },
   {
    "duration": 61,
    "start_time": "2023-01-02T13:15:04.753Z"
   },
   {
    "duration": 66,
    "start_time": "2023-01-02T13:15:29.047Z"
   },
   {
    "duration": 83,
    "start_time": "2023-01-02T13:15:50.206Z"
   },
   {
    "duration": 75,
    "start_time": "2023-01-02T13:17:55.862Z"
   },
   {
    "duration": 64,
    "start_time": "2023-01-02T13:21:25.969Z"
   },
   {
    "duration": 7,
    "start_time": "2023-01-02T13:23:27.264Z"
   },
   {
    "duration": 40,
    "start_time": "2023-01-02T13:25:22.749Z"
   },
   {
    "duration": 43,
    "start_time": "2023-01-02T13:27:08.997Z"
   },
   {
    "duration": 8,
    "start_time": "2023-01-02T13:28:52.365Z"
   },
   {
    "duration": 44,
    "start_time": "2023-01-02T13:29:08.999Z"
   },
   {
    "duration": 51,
    "start_time": "2023-01-02T13:31:15.079Z"
   },
   {
    "duration": 49,
    "start_time": "2023-01-02T13:34:53.878Z"
   },
   {
    "duration": 52,
    "start_time": "2023-01-02T13:34:57.187Z"
   },
   {
    "duration": 51,
    "start_time": "2023-01-02T13:35:04.949Z"
   },
   {
    "duration": 51,
    "start_time": "2023-01-02T14:17:47.102Z"
   },
   {
    "duration": 51,
    "start_time": "2023-01-02T14:34:34.156Z"
   },
   {
    "duration": 39,
    "start_time": "2023-01-02T14:35:22.880Z"
   },
   {
    "duration": 39,
    "start_time": "2023-01-02T14:35:40.973Z"
   },
   {
    "duration": 7,
    "start_time": "2023-01-02T14:39:03.566Z"
   },
   {
    "duration": 24,
    "start_time": "2023-01-02T14:40:35.002Z"
   },
   {
    "duration": 41,
    "start_time": "2023-01-02T14:40:48.456Z"
   },
   {
    "duration": 7,
    "start_time": "2023-01-02T14:58:34.529Z"
   },
   {
    "duration": 21,
    "start_time": "2023-01-02T14:58:43.944Z"
   },
   {
    "duration": 3,
    "start_time": "2023-01-02T15:03:05.580Z"
   },
   {
    "duration": 164,
    "start_time": "2023-01-02T15:03:08.300Z"
   },
   {
    "duration": 11,
    "start_time": "2023-01-02T15:03:10.712Z"
   },
   {
    "duration": 35,
    "start_time": "2023-01-02T15:03:13.405Z"
   },
   {
    "duration": 3,
    "start_time": "2023-01-02T15:03:16.999Z"
   },
   {
    "duration": 3,
    "start_time": "2023-01-02T15:03:19.572Z"
   },
   {
    "duration": 11,
    "start_time": "2023-01-02T15:03:22.483Z"
   },
   {
    "duration": 4,
    "start_time": "2023-01-02T15:03:24.807Z"
   },
   {
    "duration": 25,
    "start_time": "2023-01-02T15:03:27.541Z"
   },
   {
    "duration": 35,
    "start_time": "2023-01-02T15:03:31.286Z"
   },
   {
    "duration": 25,
    "start_time": "2023-01-02T15:03:33.826Z"
   },
   {
    "duration": 63,
    "start_time": "2023-01-02T15:03:36.941Z"
   },
   {
    "duration": 85,
    "start_time": "2023-01-02T15:03:39.686Z"
   },
   {
    "duration": 58,
    "start_time": "2023-01-02T15:03:43.868Z"
   },
   {
    "duration": 22,
    "start_time": "2023-01-02T15:04:15.948Z"
   },
   {
    "duration": 41,
    "start_time": "2023-01-02T15:04:26.875Z"
   },
   {
    "duration": 8,
    "start_time": "2023-01-02T18:48:39.302Z"
   },
   {
    "duration": 5,
    "start_time": "2023-01-02T18:49:45.986Z"
   },
   {
    "duration": 5,
    "start_time": "2023-01-02T18:49:48.120Z"
   },
   {
    "duration": 7,
    "start_time": "2023-01-02T18:49:54.126Z"
   },
   {
    "duration": 48,
    "start_time": "2023-01-02T18:56:26.058Z"
   },
   {
    "duration": 12,
    "start_time": "2023-01-02T19:04:27.802Z"
   },
   {
    "duration": 13,
    "start_time": "2023-01-02T19:15:37.331Z"
   },
   {
    "duration": 13,
    "start_time": "2023-01-02T19:20:51.770Z"
   },
   {
    "duration": 14,
    "start_time": "2023-01-02T19:22:23.357Z"
   },
   {
    "duration": 12,
    "start_time": "2023-01-02T19:23:10.798Z"
   },
   {
    "duration": 15,
    "start_time": "2023-01-02T19:23:44.543Z"
   },
   {
    "duration": 12,
    "start_time": "2023-01-02T19:28:41.660Z"
   },
   {
    "duration": 13,
    "start_time": "2023-01-02T19:29:40.919Z"
   },
   {
    "duration": 13,
    "start_time": "2023-01-02T19:32:34.873Z"
   },
   {
    "duration": 13,
    "start_time": "2023-01-02T19:32:52.231Z"
   },
   {
    "duration": 12,
    "start_time": "2023-01-02T19:41:39.461Z"
   },
   {
    "duration": 12,
    "start_time": "2023-01-02T19:41:45.523Z"
   },
   {
    "duration": 11,
    "start_time": "2023-01-02T19:57:37.040Z"
   },
   {
    "duration": 14,
    "start_time": "2023-01-02T19:57:48.063Z"
   },
   {
    "duration": 15,
    "start_time": "2023-01-02T20:05:50.587Z"
   },
   {
    "duration": 12,
    "start_time": "2023-01-02T20:06:58.550Z"
   },
   {
    "duration": 41,
    "start_time": "2023-01-02T20:07:50.519Z"
   },
   {
    "duration": 14,
    "start_time": "2023-01-02T20:07:55.309Z"
   },
   {
    "duration": 40,
    "start_time": "2023-01-02T20:08:52.561Z"
   },
   {
    "duration": 12,
    "start_time": "2023-01-02T20:08:57.810Z"
   },
   {
    "duration": 12,
    "start_time": "2023-01-02T20:34:25.678Z"
   },
   {
    "duration": 12,
    "start_time": "2023-01-02T20:59:25.872Z"
   },
   {
    "duration": 576,
    "start_time": "2023-01-02T21:43:39.073Z"
   },
   {
    "duration": 13,
    "start_time": "2023-01-02T21:43:47.512Z"
   },
   {
    "duration": 12,
    "start_time": "2023-01-02T21:44:04.738Z"
   },
   {
    "duration": 820,
    "start_time": "2023-01-02T21:44:13.736Z"
   },
   {
    "duration": 15,
    "start_time": "2023-01-02T21:44:28.029Z"
   },
   {
    "duration": 13,
    "start_time": "2023-01-02T21:44:48.448Z"
   },
   {
    "duration": 13,
    "start_time": "2023-01-02T21:44:59.785Z"
   },
   {
    "duration": 19,
    "start_time": "2023-01-02T21:45:23.941Z"
   },
   {
    "duration": 56,
    "start_time": "2023-01-02T21:45:33.316Z"
   },
   {
    "duration": 46,
    "start_time": "2023-01-02T21:45:42.706Z"
   },
   {
    "duration": 19,
    "start_time": "2023-01-02T21:45:49.562Z"
   },
   {
    "duration": 19,
    "start_time": "2023-01-02T21:45:56.453Z"
   },
   {
    "duration": 12,
    "start_time": "2023-01-02T21:47:56.038Z"
   },
   {
    "duration": 66,
    "start_time": "2023-01-02T21:50:43.058Z"
   },
   {
    "duration": 18,
    "start_time": "2023-01-02T21:50:54.205Z"
   },
   {
    "duration": 69,
    "start_time": "2023-01-03T18:03:06.214Z"
   },
   {
    "duration": 9,
    "start_time": "2023-01-03T18:03:24.938Z"
   },
   {
    "duration": 6,
    "start_time": "2023-01-03T18:03:31.108Z"
   },
   {
    "duration": 401,
    "start_time": "2023-01-03T18:03:40.600Z"
   },
   {
    "duration": 440,
    "start_time": "2023-01-03T18:03:43.081Z"
   },
   {
    "duration": 16,
    "start_time": "2023-01-03T18:03:45.481Z"
   },
   {
    "duration": 26,
    "start_time": "2023-01-03T18:03:48.121Z"
   },
   {
    "duration": 3,
    "start_time": "2023-01-03T18:03:53.787Z"
   },
   {
    "duration": 11,
    "start_time": "2023-01-03T18:03:56.490Z"
   },
   {
    "duration": 4,
    "start_time": "2023-01-03T18:03:58.967Z"
   },
   {
    "duration": 43,
    "start_time": "2023-01-03T18:04:01.090Z"
   },
   {
    "duration": 59,
    "start_time": "2023-01-03T18:04:03.816Z"
   },
   {
    "duration": 41,
    "start_time": "2023-01-03T18:04:06.251Z"
   },
   {
    "duration": 64,
    "start_time": "2023-01-03T18:04:08.663Z"
   },
   {
    "duration": 72,
    "start_time": "2023-01-03T18:04:11.141Z"
   },
   {
    "duration": 103,
    "start_time": "2023-01-03T18:04:14.069Z"
   },
   {
    "duration": 33,
    "start_time": "2023-01-03T18:04:16.875Z"
   },
   {
    "duration": 11,
    "start_time": "2023-01-03T18:04:21.269Z"
   },
   {
    "duration": 10,
    "start_time": "2023-01-03T18:10:49.342Z"
   },
   {
    "duration": 9,
    "start_time": "2023-01-03T18:11:23.422Z"
   },
   {
    "duration": 11,
    "start_time": "2023-01-03T18:14:27.726Z"
   },
   {
    "duration": 11,
    "start_time": "2023-01-03T18:16:19.130Z"
   },
   {
    "duration": 11,
    "start_time": "2023-01-03T18:18:00.606Z"
   },
   {
    "duration": 11,
    "start_time": "2023-01-03T18:18:26.729Z"
   },
   {
    "duration": 10,
    "start_time": "2023-01-03T18:18:44.561Z"
   },
   {
    "duration": 7,
    "start_time": "2023-01-03T18:20:58.093Z"
   },
   {
    "duration": 10,
    "start_time": "2023-01-03T18:21:58.437Z"
   },
   {
    "duration": 8,
    "start_time": "2023-01-03T18:22:02.721Z"
   },
   {
    "duration": 10,
    "start_time": "2023-01-03T18:22:29.448Z"
   },
   {
    "duration": 7,
    "start_time": "2023-01-03T18:22:39.053Z"
   },
   {
    "duration": 38,
    "start_time": "2023-01-03T18:23:34.240Z"
   },
   {
    "duration": 19,
    "start_time": "2023-01-03T18:35:43.173Z"
   },
   {
    "duration": 251,
    "start_time": "2023-01-03T19:38:35.632Z"
   },
   {
    "duration": 10,
    "start_time": "2023-01-03T19:38:57.812Z"
   },
   {
    "duration": 13,
    "start_time": "2023-01-03T19:40:01.856Z"
   },
   {
    "duration": 16,
    "start_time": "2023-01-03T19:41:09.520Z"
   },
   {
    "duration": 17,
    "start_time": "2023-01-03T19:41:14.398Z"
   },
   {
    "duration": 10,
    "start_time": "2023-01-03T19:41:31.062Z"
   },
   {
    "duration": 38,
    "start_time": "2023-01-03T19:43:54.116Z"
   },
   {
    "duration": 9,
    "start_time": "2023-01-03T19:44:28.355Z"
   },
   {
    "duration": 12,
    "start_time": "2023-01-03T19:44:42.255Z"
   },
   {
    "duration": 49,
    "start_time": "2023-01-04T14:36:02.914Z"
   },
   {
    "duration": 401,
    "start_time": "2023-01-04T14:36:07.025Z"
   },
   {
    "duration": 241,
    "start_time": "2023-01-04T14:36:09.517Z"
   },
   {
    "duration": 17,
    "start_time": "2023-01-04T14:36:12.288Z"
   },
   {
    "duration": 28,
    "start_time": "2023-01-04T14:36:16.127Z"
   },
   {
    "duration": 5,
    "start_time": "2023-01-04T14:36:22.467Z"
   },
   {
    "duration": 13,
    "start_time": "2023-01-04T14:36:26.407Z"
   },
   {
    "duration": 5,
    "start_time": "2023-01-04T14:36:31.872Z"
   },
   {
    "duration": 24,
    "start_time": "2023-01-04T14:36:34.374Z"
   },
   {
    "duration": 31,
    "start_time": "2023-01-04T14:36:36.940Z"
   },
   {
    "duration": 23,
    "start_time": "2023-01-04T14:36:39.823Z"
   },
   {
    "duration": 68,
    "start_time": "2023-01-04T14:36:43.320Z"
   },
   {
    "duration": 80,
    "start_time": "2023-01-04T14:36:45.761Z"
   },
   {
    "duration": 60,
    "start_time": "2023-01-04T14:36:48.500Z"
   },
   {
    "duration": 43,
    "start_time": "2023-01-04T14:36:50.907Z"
   },
   {
    "duration": 13,
    "start_time": "2023-01-04T14:36:55.004Z"
   },
   {
    "duration": 36,
    "start_time": "2023-01-04T14:36:57.536Z"
   },
   {
    "duration": 13,
    "start_time": "2023-01-04T14:37:02.593Z"
   },
   {
    "duration": 13,
    "start_time": "2023-01-04T14:37:05.798Z"
   },
   {
    "duration": 62,
    "start_time": "2023-01-04T17:11:04.556Z"
   },
   {
    "duration": 53,
    "start_time": "2023-01-04T17:46:47.321Z"
   },
   {
    "duration": 50,
    "start_time": "2023-01-04T22:22:25.018Z"
   },
   {
    "duration": 38,
    "start_time": "2023-01-04T22:22:43.743Z"
   },
   {
    "duration": 53,
    "start_time": "2023-01-04T22:59:57.405Z"
   },
   {
    "duration": 61,
    "start_time": "2023-01-04T23:23:49.751Z"
   },
   {
    "duration": 3,
    "start_time": "2023-01-04T23:23:56.231Z"
   },
   {
    "duration": 4,
    "start_time": "2023-01-04T23:25:07.278Z"
   },
   {
    "duration": 4,
    "start_time": "2023-01-04T23:25:45.309Z"
   },
   {
    "duration": 4,
    "start_time": "2023-01-04T23:27:20.002Z"
   },
   {
    "duration": 4,
    "start_time": "2023-01-04T23:29:17.104Z"
   },
   {
    "duration": 4,
    "start_time": "2023-01-04T23:29:35.933Z"
   },
   {
    "duration": 4,
    "start_time": "2023-01-04T23:38:06.934Z"
   },
   {
    "duration": 53,
    "start_time": "2023-01-05T17:22:04.553Z"
   },
   {
    "duration": 336,
    "start_time": "2023-01-05T17:22:07.152Z"
   },
   {
    "duration": 218,
    "start_time": "2023-01-05T17:22:12.752Z"
   },
   {
    "duration": 16,
    "start_time": "2023-01-05T17:22:17.034Z"
   },
   {
    "duration": 31,
    "start_time": "2023-01-05T17:22:19.903Z"
   },
   {
    "duration": 4,
    "start_time": "2023-01-05T17:22:26.614Z"
   },
   {
    "duration": 10,
    "start_time": "2023-01-05T17:22:29.698Z"
   },
   {
    "duration": 3,
    "start_time": "2023-01-05T17:22:31.918Z"
   },
   {
    "duration": 26,
    "start_time": "2023-01-05T17:22:35.316Z"
   },
   {
    "duration": 33,
    "start_time": "2023-01-05T17:22:38.290Z"
   },
   {
    "duration": 25,
    "start_time": "2023-01-05T17:22:41.254Z"
   },
   {
    "duration": 78,
    "start_time": "2023-01-05T17:22:44.742Z"
   },
   {
    "duration": 68,
    "start_time": "2023-01-05T17:22:47.490Z"
   },
   {
    "duration": 55,
    "start_time": "2023-01-05T17:22:50.648Z"
   },
   {
    "duration": 36,
    "start_time": "2023-01-05T17:22:55.393Z"
   },
   {
    "duration": 11,
    "start_time": "2023-01-05T17:23:01.994Z"
   },
   {
    "duration": 38,
    "start_time": "2023-01-05T17:23:05.428Z"
   },
   {
    "duration": 11,
    "start_time": "2023-01-05T17:23:11.584Z"
   },
   {
    "duration": 12,
    "start_time": "2023-01-05T17:23:14.391Z"
   },
   {
    "duration": 4,
    "start_time": "2023-01-05T17:23:21.661Z"
   },
   {
    "duration": 28,
    "start_time": "2023-01-05T17:24:01.977Z"
   },
   {
    "duration": 6,
    "start_time": "2023-01-05T17:24:10.116Z"
   },
   {
    "duration": 7,
    "start_time": "2023-01-05T17:24:14.334Z"
   },
   {
    "duration": 6,
    "start_time": "2023-01-05T17:25:44.758Z"
   },
   {
    "duration": 6,
    "start_time": "2023-01-05T17:25:50.564Z"
   },
   {
    "duration": 7,
    "start_time": "2023-01-05T17:30:04.370Z"
   },
   {
    "duration": 6,
    "start_time": "2023-01-05T17:30:13.090Z"
   },
   {
    "duration": 6,
    "start_time": "2023-01-05T17:30:25.891Z"
   },
   {
    "duration": 7,
    "start_time": "2023-01-05T17:30:31.910Z"
   },
   {
    "duration": 7,
    "start_time": "2023-01-05T17:32:48.777Z"
   },
   {
    "duration": 4,
    "start_time": "2023-01-05T17:33:00.145Z"
   },
   {
    "duration": 7,
    "start_time": "2023-01-05T17:34:53.599Z"
   },
   {
    "duration": 7,
    "start_time": "2023-01-05T17:34:58.831Z"
   },
   {
    "duration": 8,
    "start_time": "2023-01-05T17:35:05.343Z"
   },
   {
    "duration": 7,
    "start_time": "2023-01-05T17:54:21.314Z"
   },
   {
    "duration": 707,
    "start_time": "2023-01-05T17:54:48.613Z"
   },
   {
    "duration": 1289,
    "start_time": "2023-01-05T17:55:02.943Z"
   },
   {
    "duration": 657,
    "start_time": "2023-01-05T17:55:22.889Z"
   },
   {
    "duration": 689,
    "start_time": "2023-01-05T17:55:37.820Z"
   },
   {
    "duration": 734,
    "start_time": "2023-01-05T17:55:55.053Z"
   },
   {
    "duration": 660,
    "start_time": "2023-01-05T17:56:48.595Z"
   },
   {
    "duration": 514,
    "start_time": "2023-01-05T17:58:41.609Z"
   },
   {
    "duration": 672,
    "start_time": "2023-01-05T17:58:55.893Z"
   },
   {
    "duration": 10,
    "start_time": "2023-01-05T18:00:09.357Z"
   },
   {
    "duration": 7,
    "start_time": "2023-01-05T18:00:16.395Z"
   },
   {
    "duration": 3,
    "start_time": "2023-01-05T18:08:10.529Z"
   },
   {
    "duration": 3,
    "start_time": "2023-01-05T18:09:21.779Z"
   },
   {
    "duration": 4,
    "start_time": "2023-01-05T18:10:17.266Z"
   },
   {
    "duration": 3,
    "start_time": "2023-01-05T18:11:39.119Z"
   },
   {
    "duration": 3,
    "start_time": "2023-01-05T18:12:16.982Z"
   },
   {
    "duration": 3,
    "start_time": "2023-01-05T18:13:17.963Z"
   },
   {
    "duration": 3,
    "start_time": "2023-01-05T18:14:19.882Z"
   },
   {
    "duration": 3,
    "start_time": "2023-01-05T18:15:25.666Z"
   },
   {
    "duration": 3,
    "start_time": "2023-01-05T18:15:39.128Z"
   },
   {
    "duration": 2,
    "start_time": "2023-01-05T18:16:40.858Z"
   },
   {
    "duration": 51,
    "start_time": "2023-01-05T19:25:37.230Z"
   },
   {
    "duration": 3,
    "start_time": "2023-01-05T19:25:47.689Z"
   },
   {
    "duration": 8,
    "start_time": "2023-01-05T19:40:43.771Z"
   },
   {
    "duration": 12,
    "start_time": "2023-01-05T19:40:55.408Z"
   },
   {
    "duration": 95,
    "start_time": "2023-01-05T19:41:59.837Z"
   },
   {
    "duration": 11,
    "start_time": "2023-01-05T19:42:03.158Z"
   },
   {
    "duration": 19,
    "start_time": "2023-01-05T19:42:24.304Z"
   },
   {
    "duration": 2,
    "start_time": "2023-01-05T19:43:34.022Z"
   },
   {
    "duration": 200,
    "start_time": "2023-01-05T19:43:37.793Z"
   },
   {
    "duration": 16,
    "start_time": "2023-01-05T19:43:40.201Z"
   },
   {
    "duration": 28,
    "start_time": "2023-01-05T19:43:46.022Z"
   },
   {
    "duration": 3,
    "start_time": "2023-01-05T19:43:52.569Z"
   },
   {
    "duration": 11,
    "start_time": "2023-01-05T19:43:57.033Z"
   },
   {
    "duration": 6,
    "start_time": "2023-01-05T19:43:59.714Z"
   },
   {
    "duration": 23,
    "start_time": "2023-01-05T19:44:02.953Z"
   },
   {
    "duration": 35,
    "start_time": "2023-01-05T19:44:05.879Z"
   },
   {
    "duration": 37,
    "start_time": "2023-01-05T19:44:09.133Z"
   },
   {
    "duration": 82,
    "start_time": "2023-01-05T19:44:12.561Z"
   },
   {
    "duration": 93,
    "start_time": "2023-01-05T19:44:14.574Z"
   },
   {
    "duration": 66,
    "start_time": "2023-01-05T19:44:18.347Z"
   },
   {
    "duration": 40,
    "start_time": "2023-01-05T19:44:22.009Z"
   },
   {
    "duration": 14,
    "start_time": "2023-01-05T19:44:26.893Z"
   },
   {
    "duration": 36,
    "start_time": "2023-01-05T19:44:29.419Z"
   },
   {
    "duration": 17,
    "start_time": "2023-01-05T19:44:34.197Z"
   },
   {
    "duration": 17,
    "start_time": "2023-01-05T19:44:37.733Z"
   },
   {
    "duration": 4,
    "start_time": "2023-01-05T19:44:42.290Z"
   },
   {
    "duration": 14,
    "start_time": "2023-01-05T19:44:47.164Z"
   },
   {
    "duration": 11,
    "start_time": "2023-01-05T19:45:06.678Z"
   },
   {
    "duration": 11,
    "start_time": "2023-01-05T19:45:29.397Z"
   },
   {
    "duration": 4,
    "start_time": "2023-01-05T19:45:57.763Z"
   },
   {
    "duration": 11,
    "start_time": "2023-01-05T19:46:00.518Z"
   },
   {
    "duration": 12,
    "start_time": "2023-01-05T19:46:19.035Z"
   },
   {
    "duration": 4,
    "start_time": "2023-01-05T19:46:26.221Z"
   },
   {
    "duration": 11,
    "start_time": "2023-01-05T19:46:28.581Z"
   },
   {
    "duration": 3,
    "start_time": "2023-01-05T19:47:50.661Z"
   },
   {
    "duration": 12,
    "start_time": "2023-01-05T19:47:57.377Z"
   },
   {
    "duration": 16,
    "start_time": "2023-01-05T19:48:07.188Z"
   },
   {
    "duration": 10,
    "start_time": "2023-01-05T19:54:54.139Z"
   },
   {
    "duration": 14,
    "start_time": "2023-01-05T19:55:12.239Z"
   },
   {
    "duration": 17,
    "start_time": "2023-01-05T19:55:15.661Z"
   },
   {
    "duration": 14,
    "start_time": "2023-01-05T19:55:17.543Z"
   },
   {
    "duration": 13,
    "start_time": "2023-01-05T19:55:18.061Z"
   },
   {
    "duration": 15,
    "start_time": "2023-01-05T19:55:18.450Z"
   },
   {
    "duration": 15,
    "start_time": "2023-01-05T19:55:19.045Z"
   },
   {
    "duration": 10,
    "start_time": "2023-01-05T19:57:43.221Z"
   },
   {
    "duration": 7,
    "start_time": "2023-01-05T20:01:11.820Z"
   },
   {
    "duration": 8,
    "start_time": "2023-01-05T20:07:54.043Z"
   },
   {
    "duration": 7,
    "start_time": "2023-01-05T20:08:01.925Z"
   },
   {
    "duration": 14,
    "start_time": "2023-01-05T20:12:29.601Z"
   },
   {
    "duration": 7,
    "start_time": "2023-01-05T20:13:51.158Z"
   },
   {
    "duration": 8,
    "start_time": "2023-01-05T20:14:27.488Z"
   },
   {
    "duration": 9,
    "start_time": "2023-01-05T20:14:58.886Z"
   },
   {
    "duration": 8,
    "start_time": "2023-01-05T20:16:03.485Z"
   },
   {
    "duration": 8,
    "start_time": "2023-01-05T20:23:50.362Z"
   },
   {
    "duration": 47,
    "start_time": "2023-01-05T20:24:03.734Z"
   },
   {
    "duration": 13,
    "start_time": "2023-01-05T20:28:22.310Z"
   },
   {
    "duration": 9,
    "start_time": "2023-01-05T20:28:39.599Z"
   },
   {
    "duration": 11,
    "start_time": "2023-01-05T20:28:54.723Z"
   },
   {
    "duration": 9,
    "start_time": "2023-01-05T20:29:10.483Z"
   },
   {
    "duration": 9,
    "start_time": "2023-01-05T20:30:13.574Z"
   },
   {
    "duration": 9,
    "start_time": "2023-01-05T20:30:41.280Z"
   },
   {
    "duration": 2,
    "start_time": "2023-01-05T20:33:04.314Z"
   },
   {
    "duration": 350,
    "start_time": "2023-01-05T20:35:41.133Z"
   },
   {
    "duration": 327,
    "start_time": "2023-01-05T20:35:51.105Z"
   },
   {
    "duration": 10,
    "start_time": "2023-01-05T20:36:39.398Z"
   },
   {
    "duration": 6,
    "start_time": "2023-01-05T20:37:33.408Z"
   },
   {
    "duration": 13,
    "start_time": "2023-01-05T20:38:09.578Z"
   },
   {
    "duration": 6,
    "start_time": "2023-01-05T20:38:11.786Z"
   },
   {
    "duration": 6,
    "start_time": "2023-01-05T20:38:57.737Z"
   },
   {
    "duration": 9,
    "start_time": "2023-01-05T20:39:32.997Z"
   },
   {
    "duration": 4,
    "start_time": "2023-01-05T22:16:49.247Z"
   },
   {
    "duration": 4,
    "start_time": "2023-01-05T22:16:51.617Z"
   },
   {
    "duration": 4,
    "start_time": "2023-01-05T22:20:13.548Z"
   },
   {
    "duration": 5,
    "start_time": "2023-01-05T22:21:13.209Z"
   },
   {
    "duration": 4,
    "start_time": "2023-01-05T22:24:48.036Z"
   },
   {
    "duration": 4,
    "start_time": "2023-01-05T22:28:34.139Z"
   },
   {
    "duration": 4,
    "start_time": "2023-01-05T23:10:20.888Z"
   },
   {
    "duration": 4,
    "start_time": "2023-01-05T23:14:59.769Z"
   },
   {
    "duration": 4,
    "start_time": "2023-01-05T23:16:07.058Z"
   },
   {
    "duration": 5,
    "start_time": "2023-01-05T23:17:05.667Z"
   },
   {
    "duration": 4,
    "start_time": "2023-01-05T23:23:03.939Z"
   },
   {
    "duration": 4,
    "start_time": "2023-01-05T23:24:31.284Z"
   },
   {
    "duration": 3,
    "start_time": "2023-01-05T23:24:58.089Z"
   },
   {
    "duration": 4,
    "start_time": "2023-01-06T00:04:54.336Z"
   },
   {
    "duration": 5,
    "start_time": "2023-01-06T00:05:49.350Z"
   },
   {
    "duration": 5,
    "start_time": "2023-01-06T00:06:14.978Z"
   },
   {
    "duration": 4,
    "start_time": "2023-01-06T00:07:16.005Z"
   },
   {
    "duration": 6,
    "start_time": "2023-01-06T00:13:10.156Z"
   },
   {
    "duration": 8,
    "start_time": "2023-01-06T00:16:30.135Z"
   },
   {
    "duration": 13,
    "start_time": "2023-01-06T00:18:04.234Z"
   },
   {
    "duration": 4,
    "start_time": "2023-01-06T00:19:01.512Z"
   },
   {
    "duration": 6,
    "start_time": "2023-01-06T00:19:25.618Z"
   },
   {
    "duration": 4,
    "start_time": "2023-01-06T00:19:58.789Z"
   },
   {
    "duration": 18,
    "start_time": "2023-01-06T00:22:58.046Z"
   },
   {
    "duration": 12,
    "start_time": "2023-01-06T00:23:01.512Z"
   },
   {
    "duration": 20,
    "start_time": "2023-01-06T00:23:04.377Z"
   },
   {
    "duration": 14,
    "start_time": "2023-01-06T00:23:08.698Z"
   },
   {
    "duration": 4,
    "start_time": "2023-01-06T00:23:59.794Z"
   },
   {
    "duration": 4,
    "start_time": "2023-01-06T00:24:27.603Z"
   },
   {
    "duration": 7,
    "start_time": "2023-01-06T00:25:13.878Z"
   },
   {
    "duration": 18,
    "start_time": "2023-01-06T00:25:33.442Z"
   },
   {
    "duration": 5,
    "start_time": "2023-01-06T00:25:44.131Z"
   },
   {
    "duration": 4,
    "start_time": "2023-01-06T00:27:05.319Z"
   },
   {
    "duration": 18,
    "start_time": "2023-01-06T00:27:07.498Z"
   },
   {
    "duration": 5,
    "start_time": "2023-01-06T00:27:23.331Z"
   },
   {
    "duration": 21,
    "start_time": "2023-01-06T00:27:32.497Z"
   },
   {
    "duration": 5,
    "start_time": "2023-01-06T00:28:01.235Z"
   },
   {
    "duration": 21,
    "start_time": "2023-01-06T00:28:04.757Z"
   },
   {
    "duration": 4,
    "start_time": "2023-01-06T00:28:30.914Z"
   },
   {
    "duration": 706,
    "start_time": "2023-01-06T00:28:32.874Z"
   },
   {
    "duration": 5,
    "start_time": "2023-01-06T00:28:52.842Z"
   },
   {
    "duration": 18,
    "start_time": "2023-01-06T00:28:54.648Z"
   },
   {
    "duration": 5,
    "start_time": "2023-01-06T00:31:09.192Z"
   },
   {
    "duration": 15,
    "start_time": "2023-01-06T00:31:11.135Z"
   },
   {
    "duration": 16,
    "start_time": "2023-01-06T00:31:30.663Z"
   },
   {
    "duration": 11,
    "start_time": "2023-01-06T00:31:33.977Z"
   },
   {
    "duration": 17,
    "start_time": "2023-01-06T00:31:37.267Z"
   },
   {
    "duration": 12,
    "start_time": "2023-01-06T00:31:40.793Z"
   },
   {
    "duration": 4,
    "start_time": "2023-01-06T00:32:31.174Z"
   },
   {
    "duration": 21,
    "start_time": "2023-01-06T00:32:32.986Z"
   },
   {
    "duration": 4,
    "start_time": "2023-01-06T00:34:03.546Z"
   },
   {
    "duration": 18,
    "start_time": "2023-01-06T00:34:05.670Z"
   },
   {
    "duration": 4,
    "start_time": "2023-01-06T00:45:58.062Z"
   },
   {
    "duration": 16,
    "start_time": "2023-01-06T00:46:00.338Z"
   },
   {
    "duration": 11,
    "start_time": "2023-01-06T00:46:04.964Z"
   },
   {
    "duration": 16,
    "start_time": "2023-01-06T00:46:08.315Z"
   },
   {
    "duration": 12,
    "start_time": "2023-01-06T00:46:10.989Z"
   },
   {
    "duration": 4,
    "start_time": "2023-01-06T00:49:32.214Z"
   },
   {
    "duration": 4,
    "start_time": "2023-01-06T00:53:23.046Z"
   },
   {
    "duration": 16,
    "start_time": "2023-01-06T00:53:27.614Z"
   },
   {
    "duration": 12,
    "start_time": "2023-01-06T00:53:33.971Z"
   },
   {
    "duration": 17,
    "start_time": "2023-01-06T00:53:36.321Z"
   },
   {
    "duration": 14,
    "start_time": "2023-01-06T00:53:38.949Z"
   },
   {
    "duration": 4,
    "start_time": "2023-01-06T00:54:31.814Z"
   },
   {
    "duration": 15,
    "start_time": "2023-01-06T00:54:35.474Z"
   },
   {
    "duration": 25,
    "start_time": "2023-01-06T01:12:49.673Z"
   },
   {
    "duration": 27,
    "start_time": "2023-01-06T01:13:24.726Z"
   },
   {
    "duration": 27,
    "start_time": "2023-01-06T01:13:57.586Z"
   },
   {
    "duration": 27,
    "start_time": "2023-01-06T01:14:10.861Z"
   },
   {
    "duration": 30,
    "start_time": "2023-01-06T01:14:17.204Z"
   },
   {
    "duration": 26,
    "start_time": "2023-01-06T01:14:58.673Z"
   },
   {
    "duration": 27,
    "start_time": "2023-01-06T01:15:05.849Z"
   },
   {
    "duration": 27,
    "start_time": "2023-01-06T01:15:13.604Z"
   },
   {
    "duration": 27,
    "start_time": "2023-01-06T01:15:37.547Z"
   },
   {
    "duration": 26,
    "start_time": "2023-01-06T01:19:31.524Z"
   },
   {
    "duration": 13,
    "start_time": "2023-01-06T01:20:33.733Z"
   },
   {
    "duration": 29,
    "start_time": "2023-01-06T01:20:39.101Z"
   },
   {
    "duration": 26,
    "start_time": "2023-01-06T01:20:44.837Z"
   },
   {
    "duration": 58,
    "start_time": "2023-01-06T01:22:02.135Z"
   },
   {
    "duration": 26,
    "start_time": "2023-01-06T01:23:14.016Z"
   },
   {
    "duration": 26,
    "start_time": "2023-01-06T01:23:23.548Z"
   },
   {
    "duration": 8,
    "start_time": "2023-01-06T01:24:42.517Z"
   },
   {
    "duration": 26,
    "start_time": "2023-01-06T01:25:58.749Z"
   },
   {
    "duration": 12,
    "start_time": "2023-01-06T01:26:17.283Z"
   },
   {
    "duration": 11,
    "start_time": "2023-01-06T01:26:38.837Z"
   },
   {
    "duration": 11,
    "start_time": "2023-01-06T01:26:51.377Z"
   },
   {
    "duration": 12,
    "start_time": "2023-01-06T01:27:05.895Z"
   },
   {
    "duration": 12,
    "start_time": "2023-01-06T01:27:12.626Z"
   },
   {
    "duration": 11,
    "start_time": "2023-01-06T01:28:08.407Z"
   },
   {
    "duration": 27,
    "start_time": "2023-01-06T01:28:55.459Z"
   },
   {
    "duration": 7,
    "start_time": "2023-01-06T01:29:46.237Z"
   },
   {
    "duration": 7,
    "start_time": "2023-01-06T01:30:01.373Z"
   },
   {
    "duration": 23,
    "start_time": "2023-01-06T01:30:08.047Z"
   },
   {
    "duration": 25,
    "start_time": "2023-01-06T01:30:17.187Z"
   },
   {
    "duration": 27,
    "start_time": "2023-01-06T01:30:31.607Z"
   },
   {
    "duration": 12,
    "start_time": "2023-01-06T01:31:51.835Z"
   },
   {
    "duration": 12,
    "start_time": "2023-01-06T01:32:12.893Z"
   },
   {
    "duration": 11,
    "start_time": "2023-01-06T01:32:28.613Z"
   },
   {
    "duration": 13,
    "start_time": "2023-01-06T01:32:55.918Z"
   },
   {
    "duration": 11,
    "start_time": "2023-01-06T01:33:07.818Z"
   },
   {
    "duration": 13,
    "start_time": "2023-01-06T01:33:19.139Z"
   },
   {
    "duration": 12,
    "start_time": "2023-01-06T01:33:24.294Z"
   },
   {
    "duration": 12,
    "start_time": "2023-01-06T01:34:00.998Z"
   },
   {
    "duration": 40,
    "start_time": "2023-01-06T01:35:00.790Z"
   },
   {
    "duration": 13,
    "start_time": "2023-01-06T01:35:19.648Z"
   },
   {
    "duration": 40,
    "start_time": "2023-01-06T01:35:31.427Z"
   },
   {
    "duration": 51,
    "start_time": "2023-01-06T01:36:09.331Z"
   },
   {
    "duration": 41,
    "start_time": "2023-01-06T01:36:21.005Z"
   },
   {
    "duration": 47,
    "start_time": "2023-01-06T01:36:42.211Z"
   },
   {
    "duration": 11,
    "start_time": "2023-01-06T01:37:30.569Z"
   },
   {
    "duration": 42,
    "start_time": "2023-01-06T01:37:53.901Z"
   },
   {
    "duration": 36,
    "start_time": "2023-01-06T01:38:10.882Z"
   },
   {
    "duration": 54,
    "start_time": "2023-01-06T01:38:56.850Z"
   },
   {
    "duration": 47,
    "start_time": "2023-01-06T01:47:36.597Z"
   },
   {
    "duration": 6,
    "start_time": "2023-01-06T01:49:08.467Z"
   },
   {
    "duration": 45,
    "start_time": "2023-01-06T01:50:20.418Z"
   },
   {
    "duration": 41,
    "start_time": "2023-01-06T01:50:23.576Z"
   },
   {
    "duration": 10,
    "start_time": "2023-01-06T01:50:26.928Z"
   },
   {
    "duration": 11,
    "start_time": "2023-01-06T01:50:47.031Z"
   },
   {
    "duration": 27,
    "start_time": "2023-01-06T01:55:28.742Z"
   },
   {
    "duration": 41,
    "start_time": "2023-01-06T01:56:06.444Z"
   },
   {
    "duration": 26,
    "start_time": "2023-01-06T01:56:34.443Z"
   },
   {
    "duration": 10,
    "start_time": "2023-01-06T02:03:08.465Z"
   },
   {
    "duration": 27,
    "start_time": "2023-01-06T02:03:40.128Z"
   },
   {
    "duration": 29,
    "start_time": "2023-01-06T02:03:52.732Z"
   },
   {
    "duration": 11,
    "start_time": "2023-01-06T02:04:09.403Z"
   },
   {
    "duration": 33,
    "start_time": "2023-01-06T02:04:19.575Z"
   },
   {
    "duration": 12,
    "start_time": "2023-01-06T02:04:27.146Z"
   },
   {
    "duration": 39,
    "start_time": "2023-01-06T02:04:43.367Z"
   },
   {
    "duration": 50,
    "start_time": "2023-01-06T02:05:13.680Z"
   },
   {
    "duration": 30,
    "start_time": "2023-01-06T02:06:08.244Z"
   },
   {
    "duration": 38,
    "start_time": "2023-01-06T02:06:27.719Z"
   },
   {
    "duration": 9,
    "start_time": "2023-01-06T02:07:27.078Z"
   },
   {
    "duration": 19,
    "start_time": "2023-01-06T02:08:00.566Z"
   },
   {
    "duration": 8,
    "start_time": "2023-01-06T02:08:31.187Z"
   },
   {
    "duration": 8,
    "start_time": "2023-01-06T02:09:46.409Z"
   },
   {
    "duration": 10,
    "start_time": "2023-01-06T02:09:50.834Z"
   },
   {
    "duration": 26,
    "start_time": "2023-01-06T02:10:47.909Z"
   },
   {
    "duration": 27,
    "start_time": "2023-01-06T02:10:56.957Z"
   },
   {
    "duration": 24,
    "start_time": "2023-01-06T02:11:03.402Z"
   },
   {
    "duration": 11,
    "start_time": "2023-01-06T02:11:17.258Z"
   },
   {
    "duration": 12,
    "start_time": "2023-01-06T02:11:32.906Z"
   },
   {
    "duration": 33,
    "start_time": "2023-01-06T02:11:40.042Z"
   },
   {
    "duration": 721,
    "start_time": "2023-01-06T02:16:11.045Z"
   },
   {
    "duration": 27,
    "start_time": "2023-01-06T02:18:39.167Z"
   },
   {
    "duration": 19,
    "start_time": "2023-01-06T02:20:06.867Z"
   },
   {
    "duration": 38,
    "start_time": "2023-01-06T02:21:17.639Z"
   },
   {
    "duration": 13,
    "start_time": "2023-01-06T02:31:34.406Z"
   },
   {
    "duration": 12,
    "start_time": "2023-01-06T02:31:50.481Z"
   },
   {
    "duration": 4,
    "start_time": "2023-01-06T02:32:56.274Z"
   },
   {
    "duration": 11,
    "start_time": "2023-01-06T02:36:59.657Z"
   },
   {
    "duration": 11,
    "start_time": "2023-01-06T02:37:19.327Z"
   },
   {
    "duration": 11,
    "start_time": "2023-01-06T02:37:32.207Z"
   },
   {
    "duration": 11,
    "start_time": "2023-01-06T02:37:37.989Z"
   },
   {
    "duration": 12,
    "start_time": "2023-01-06T02:39:10.768Z"
   },
   {
    "duration": 46,
    "start_time": "2023-01-06T02:40:35.592Z"
   },
   {
    "duration": 42,
    "start_time": "2023-01-06T02:41:36.167Z"
   },
   {
    "duration": 13,
    "start_time": "2023-01-06T02:41:47.511Z"
   },
   {
    "duration": 10,
    "start_time": "2023-01-06T02:41:58.116Z"
   },
   {
    "duration": 30,
    "start_time": "2023-01-06T02:42:24.840Z"
   },
   {
    "duration": 26,
    "start_time": "2023-01-06T02:42:48.603Z"
   },
   {
    "duration": 29,
    "start_time": "2023-01-06T02:43:12.123Z"
   },
   {
    "duration": 29,
    "start_time": "2023-01-06T02:43:52.627Z"
   },
   {
    "duration": 398,
    "start_time": "2023-01-06T02:52:25.975Z"
   },
   {
    "duration": 153,
    "start_time": "2023-01-06T02:52:26.375Z"
   },
   {
    "duration": 17,
    "start_time": "2023-01-06T02:52:26.529Z"
   },
   {
    "duration": 26,
    "start_time": "2023-01-06T02:52:26.548Z"
   },
   {
    "duration": 2,
    "start_time": "2023-01-06T02:52:26.575Z"
   },
   {
    "duration": 21,
    "start_time": "2023-01-06T02:52:26.579Z"
   },
   {
    "duration": 12,
    "start_time": "2023-01-06T02:52:26.601Z"
   },
   {
    "duration": 12,
    "start_time": "2023-01-06T02:52:26.614Z"
   },
   {
    "duration": 23,
    "start_time": "2023-01-06T02:52:26.628Z"
   },
   {
    "duration": 52,
    "start_time": "2023-01-06T02:52:26.654Z"
   },
   {
    "duration": 22,
    "start_time": "2023-01-06T02:52:26.708Z"
   },
   {
    "duration": 72,
    "start_time": "2023-01-06T02:52:26.732Z"
   },
   {
    "duration": 69,
    "start_time": "2023-01-06T02:52:26.806Z"
   },
   {
    "duration": 72,
    "start_time": "2023-01-06T02:52:26.877Z"
   },
   {
    "duration": 36,
    "start_time": "2023-01-06T02:52:26.950Z"
   },
   {
    "duration": 11,
    "start_time": "2023-01-06T02:52:26.998Z"
   },
   {
    "duration": 37,
    "start_time": "2023-01-06T02:52:27.010Z"
   },
   {
    "duration": 10,
    "start_time": "2023-01-06T02:52:27.048Z"
   },
   {
    "duration": 12,
    "start_time": "2023-01-06T02:52:27.059Z"
   },
   {
    "duration": 3,
    "start_time": "2023-01-06T02:52:27.097Z"
   },
   {
    "duration": 20,
    "start_time": "2023-01-06T02:52:27.101Z"
   },
   {
    "duration": 11,
    "start_time": "2023-01-06T02:52:27.123Z"
   },
   {
    "duration": 15,
    "start_time": "2023-01-06T02:52:27.136Z"
   },
   {
    "duration": 11,
    "start_time": "2023-01-06T02:52:27.152Z"
   },
   {
    "duration": 35,
    "start_time": "2023-01-06T02:52:27.164Z"
   },
   {
    "duration": 12,
    "start_time": "2023-01-06T02:52:27.201Z"
   },
   {
    "duration": 10,
    "start_time": "2023-01-06T02:52:27.214Z"
   },
   {
    "duration": 14,
    "start_time": "2023-01-06T02:52:27.226Z"
   },
   {
    "duration": 8,
    "start_time": "2023-01-06T02:52:27.242Z"
   },
   {
    "duration": 4,
    "start_time": "2023-01-06T02:52:27.251Z"
   },
   {
    "duration": 26,
    "start_time": "2023-01-06T02:52:27.256Z"
   },
   {
    "duration": 22,
    "start_time": "2023-01-06T02:52:27.283Z"
   },
   {
    "duration": 16,
    "start_time": "2023-01-06T02:52:27.306Z"
   },
   {
    "duration": 11,
    "start_time": "2023-01-06T02:52:27.323Z"
   },
   {
    "duration": 27,
    "start_time": "2023-01-06T02:52:27.336Z"
   },
   {
    "duration": 4,
    "start_time": "2023-01-06T02:52:27.364Z"
   },
   {
    "duration": 2,
    "start_time": "2023-01-06T02:52:27.398Z"
   },
   {
    "duration": 5,
    "start_time": "2023-01-06T02:52:27.401Z"
   },
   {
    "duration": 28,
    "start_time": "2023-01-06T02:52:50.334Z"
   },
   {
    "duration": 67,
    "start_time": "2023-01-06T02:53:09.903Z"
   },
   {
    "duration": 44,
    "start_time": "2023-01-06T02:53:28.113Z"
   },
   {
    "duration": 33,
    "start_time": "2023-01-06T02:57:52.148Z"
   },
   {
    "duration": 29,
    "start_time": "2023-01-06T03:00:53.887Z"
   },
   {
    "duration": 32,
    "start_time": "2023-01-06T03:01:37.754Z"
   },
   {
    "duration": 342,
    "start_time": "2023-01-06T10:16:00.173Z"
   },
   {
    "duration": 238,
    "start_time": "2023-01-06T10:16:00.517Z"
   },
   {
    "duration": 17,
    "start_time": "2023-01-06T10:16:00.757Z"
   },
   {
    "duration": 37,
    "start_time": "2023-01-06T10:16:00.776Z"
   },
   {
    "duration": 25,
    "start_time": "2023-01-06T10:16:00.814Z"
   },
   {
    "duration": 29,
    "start_time": "2023-01-06T10:16:00.841Z"
   },
   {
    "duration": 31,
    "start_time": "2023-01-06T10:16:00.872Z"
   },
   {
    "duration": 27,
    "start_time": "2023-01-06T10:16:00.904Z"
   },
   {
    "duration": 42,
    "start_time": "2023-01-06T10:16:00.933Z"
   },
   {
    "duration": 53,
    "start_time": "2023-01-06T10:16:00.977Z"
   },
   {
    "duration": 24,
    "start_time": "2023-01-06T10:16:01.032Z"
   },
   {
    "duration": 85,
    "start_time": "2023-01-06T10:16:01.058Z"
   },
   {
    "duration": 76,
    "start_time": "2023-01-06T10:16:01.145Z"
   },
   {
    "duration": 58,
    "start_time": "2023-01-06T10:16:01.223Z"
   },
   {
    "duration": 55,
    "start_time": "2023-01-06T10:16:01.283Z"
   },
   {
    "duration": 12,
    "start_time": "2023-01-06T10:16:01.340Z"
   },
   {
    "duration": 68,
    "start_time": "2023-01-06T10:16:01.354Z"
   },
   {
    "duration": 18,
    "start_time": "2023-01-06T10:16:01.424Z"
   },
   {
    "duration": 43,
    "start_time": "2023-01-06T10:16:01.444Z"
   },
   {
    "duration": 21,
    "start_time": "2023-01-06T10:16:01.489Z"
   },
   {
    "duration": 55,
    "start_time": "2023-01-06T10:16:01.511Z"
   },
   {
    "duration": 38,
    "start_time": "2023-01-06T10:16:01.567Z"
   },
   {
    "duration": 35,
    "start_time": "2023-01-06T10:16:01.607Z"
   },
   {
    "duration": 21,
    "start_time": "2023-01-06T10:16:01.643Z"
   },
   {
    "duration": 25,
    "start_time": "2023-01-06T10:16:01.666Z"
   },
   {
    "duration": 14,
    "start_time": "2023-01-06T10:16:01.693Z"
   },
   {
    "duration": 11,
    "start_time": "2023-01-06T10:16:01.709Z"
   },
   {
    "duration": 17,
    "start_time": "2023-01-06T10:16:01.722Z"
   },
   {
    "duration": 10,
    "start_time": "2023-01-06T10:16:01.740Z"
   },
   {
    "duration": 11,
    "start_time": "2023-01-06T10:16:01.752Z"
   },
   {
    "duration": 27,
    "start_time": "2023-01-06T10:16:01.765Z"
   },
   {
    "duration": 19,
    "start_time": "2023-01-06T10:16:01.793Z"
   },
   {
    "duration": 23,
    "start_time": "2023-01-06T10:16:01.813Z"
   },
   {
    "duration": 11,
    "start_time": "2023-01-06T10:16:01.837Z"
   },
   {
    "duration": 35,
    "start_time": "2023-01-06T10:16:01.849Z"
   },
   {
    "duration": 5,
    "start_time": "2023-01-06T10:16:01.885Z"
   },
   {
    "duration": 5,
    "start_time": "2023-01-06T10:16:01.891Z"
   },
   {
    "duration": 6,
    "start_time": "2023-01-06T10:16:01.897Z"
   },
   {
    "duration": 8,
    "start_time": "2023-01-06T10:16:27.733Z"
   },
   {
    "duration": 4,
    "start_time": "2023-01-06T10:20:35.296Z"
   },
   {
    "duration": 6,
    "start_time": "2023-01-06T10:21:18.674Z"
   },
   {
    "duration": 6,
    "start_time": "2023-01-06T10:21:55.108Z"
   },
   {
    "duration": 414,
    "start_time": "2023-09-29T21:03:17.653Z"
   },
   {
    "duration": 242,
    "start_time": "2023-09-29T21:03:18.069Z"
   },
   {
    "duration": 16,
    "start_time": "2023-09-29T21:03:18.313Z"
   },
   {
    "duration": 47,
    "start_time": "2023-09-29T21:03:18.330Z"
   },
   {
    "duration": 44,
    "start_time": "2023-09-29T21:03:18.379Z"
   },
   {
    "duration": 21,
    "start_time": "2023-09-29T21:03:18.424Z"
   },
   {
    "duration": 28,
    "start_time": "2023-09-29T21:03:18.447Z"
   },
   {
    "duration": 14,
    "start_time": "2023-09-29T21:03:18.476Z"
   },
   {
    "duration": 44,
    "start_time": "2023-09-29T21:03:18.492Z"
   },
   {
    "duration": 41,
    "start_time": "2023-09-29T21:03:18.538Z"
   },
   {
    "duration": 27,
    "start_time": "2023-09-29T21:03:18.581Z"
   },
   {
    "duration": 105,
    "start_time": "2023-09-29T21:03:18.609Z"
   },
   {
    "duration": 79,
    "start_time": "2023-09-29T21:03:18.715Z"
   },
   {
    "duration": 65,
    "start_time": "2023-09-29T21:03:18.797Z"
   },
   {
    "duration": 45,
    "start_time": "2023-09-29T21:03:18.864Z"
   },
   {
    "duration": 19,
    "start_time": "2023-09-29T21:03:18.911Z"
   },
   {
    "duration": 56,
    "start_time": "2023-09-29T21:03:18.944Z"
   },
   {
    "duration": 13,
    "start_time": "2023-09-29T21:03:19.002Z"
   },
   {
    "duration": 62,
    "start_time": "2023-09-29T21:03:19.017Z"
   },
   {
    "duration": 35,
    "start_time": "2023-09-29T21:03:19.081Z"
   },
   {
    "duration": 67,
    "start_time": "2023-09-29T21:03:19.117Z"
   },
   {
    "duration": 70,
    "start_time": "2023-09-29T21:03:19.186Z"
   },
   {
    "duration": 41,
    "start_time": "2023-09-29T21:03:19.258Z"
   },
   {
    "duration": 25,
    "start_time": "2023-09-29T21:03:19.301Z"
   },
   {
    "duration": 37,
    "start_time": "2023-09-29T21:03:19.327Z"
   },
   {
    "duration": 37,
    "start_time": "2023-09-29T21:03:19.366Z"
   },
   {
    "duration": 23,
    "start_time": "2023-09-29T21:03:19.405Z"
   },
   {
    "duration": 60,
    "start_time": "2023-09-29T21:03:19.429Z"
   },
   {
    "duration": 22,
    "start_time": "2023-09-29T21:03:19.490Z"
   },
   {
    "duration": 24,
    "start_time": "2023-09-29T21:03:19.513Z"
   },
   {
    "duration": 46,
    "start_time": "2023-09-29T21:03:19.539Z"
   },
   {
    "duration": 32,
    "start_time": "2023-09-29T21:03:19.586Z"
   },
   {
    "duration": 40,
    "start_time": "2023-09-29T21:03:19.620Z"
   },
   {
    "duration": 29,
    "start_time": "2023-09-29T21:03:19.661Z"
   },
   {
    "duration": 33,
    "start_time": "2023-09-29T21:03:19.692Z"
   },
   {
    "duration": 49,
    "start_time": "2023-09-29T21:03:19.726Z"
   },
   {
    "duration": 29,
    "start_time": "2023-09-29T21:03:19.776Z"
   },
   {
    "duration": 9,
    "start_time": "2023-09-29T21:03:19.807Z"
   }
  ],
  "colab": {
   "collapsed_sections": [
    "E0vqbgi9ay0H",
    "VUC88oWjTJw2"
   ],
   "name": "automatization_template_upd4.ipynb",
   "provenance": []
  },
  "kernelspec": {
   "display_name": "Python 3 (ipykernel)",
   "language": "python",
   "name": "python3"
  },
  "language_info": {
   "codemirror_mode": {
    "name": "ipython",
    "version": 3
   },
   "file_extension": ".py",
   "mimetype": "text/x-python",
   "name": "python",
   "nbconvert_exporter": "python",
   "pygments_lexer": "ipython3",
   "version": "3.9.13"
  },
  "toc": {
   "base_numbering": 1,
   "nav_menu": {
    "height": "215px",
    "width": "403px"
   },
   "number_sections": true,
   "sideBar": true,
   "skip_h1_title": true,
   "title_cell": "Table of Contents",
   "title_sidebar": "Contents",
   "toc_cell": false,
   "toc_position": {
    "height": "calc(100% - 180px)",
    "left": "10px",
    "top": "150px",
    "width": "285.825px"
   },
   "toc_section_display": true,
   "toc_window_display": false
  }
 },
 "nbformat": 4,
 "nbformat_minor": 1
}
