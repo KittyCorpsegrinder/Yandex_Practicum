{
 "cells": [
  {
   "cell_type": "markdown",
   "id": "4f11de00",
   "metadata": {
    "deletable": false,
    "editable": false,
    "id": "4f11de00"
   },
   "source": [
    "# Исследование надежности заемщиков"
   ]
  },
  {
   "cell_type": "markdown",
   "id": "516620ee",
   "metadata": {
    "deletable": false,
    "editable": false,
    "id": "516620ee"
   },
   "source": [
    "## Откроем таблицу и изучим общую информацию о данных"
   ]
  },
  {
   "cell_type": "markdown",
   "id": "76a8a9ce",
   "metadata": {
    "deletable": false,
    "editable": false,
    "id": "76a8a9ce",
    "tags": [
     "start_task"
    ]
   },
   "source": [
    "Импортируем библиотеку pandas. Считаем данные из csv-файла в датафрейм. "
   ]
  },
  {
   "cell_type": "code",
   "execution_count": 1,
   "id": "fab207d0",
   "metadata": {
    "id": "fab207d0"
   },
   "outputs": [],
   "source": [
    "# импортируйте библиотеку pandas\n",
    "import pandas as pd"
   ]
  },
  {
   "cell_type": "markdown",
   "id": "08bbb5b3",
   "metadata": {
    "deletable": false,
    "editable": false,
    "id": "08bbb5b3",
    "tags": [
     "start_task"
    ]
   },
   "source": [
    "Выведем первые 20 строчек датафрейма `data` на экран."
   ]
  },
  {
   "cell_type": "code",
   "execution_count": 3,
   "id": "4ff33b36",
   "metadata": {
    "id": "4ff33b36"
   },
   "outputs": [
    {
     "name": "stdout",
     "output_type": "stream",
     "text": [
      "    children  days_employed  dob_years            education  education_id  \\\n",
      "0          1   -8437.673028         42               высшее             0   \n",
      "1          1   -4024.803754         36              среднее             1   \n",
      "2          0   -5623.422610         33              Среднее             1   \n",
      "3          3   -4124.747207         32              среднее             1   \n",
      "4          0  340266.072047         53              среднее             1   \n",
      "5          0    -926.185831         27               высшее             0   \n",
      "6          0   -2879.202052         43               высшее             0   \n",
      "7          0    -152.779569         50              СРЕДНЕЕ             1   \n",
      "8          2   -6929.865299         35               ВЫСШЕЕ             0   \n",
      "9          0   -2188.756445         41              среднее             1   \n",
      "10         2   -4171.483647         36               высшее             0   \n",
      "11         0    -792.701887         40              среднее             1   \n",
      "12         0            NaN         65              среднее             1   \n",
      "13         0   -1846.641941         54  неоконченное высшее             2   \n",
      "14         0   -1844.956182         56               высшее             0   \n",
      "15         1    -972.364419         26              среднее             1   \n",
      "16         0   -1719.934226         35              среднее             1   \n",
      "17         0   -2369.999720         33               высшее             0   \n",
      "18         0  400281.136913         53              среднее             1   \n",
      "19         0  -10038.818549         48              СРЕДНЕЕ             1   \n",
      "\n",
      "       family_status  family_status_id gender income_type  debt  \\\n",
      "0    женат / замужем                 0      F   сотрудник     0   \n",
      "1    женат / замужем                 0      F   сотрудник     0   \n",
      "2    женат / замужем                 0      M   сотрудник     0   \n",
      "3    женат / замужем                 0      M   сотрудник     0   \n",
      "4   гражданский брак                 1      F   пенсионер     0   \n",
      "5   гражданский брак                 1      M   компаньон     0   \n",
      "6    женат / замужем                 0      F   компаньон     0   \n",
      "7    женат / замужем                 0      M   сотрудник     0   \n",
      "8   гражданский брак                 1      F   сотрудник     0   \n",
      "9    женат / замужем                 0      M   сотрудник     0   \n",
      "10   женат / замужем                 0      M   компаньон     0   \n",
      "11   женат / замужем                 0      F   сотрудник     0   \n",
      "12  гражданский брак                 1      M   пенсионер     0   \n",
      "13   женат / замужем                 0      F   сотрудник     0   \n",
      "14  гражданский брак                 1      F   компаньон     1   \n",
      "15   женат / замужем                 0      F   сотрудник     0   \n",
      "16   женат / замужем                 0      F   сотрудник     0   \n",
      "17  гражданский брак                 1      M   сотрудник     0   \n",
      "18    вдовец / вдова                 2      F   пенсионер     0   \n",
      "19         в разводе                 3      F   сотрудник     0   \n",
      "\n",
      "     total_income                                 purpose  \n",
      "0   253875.639453                           покупка жилья  \n",
      "1   112080.014102                 приобретение автомобиля  \n",
      "2   145885.952297                           покупка жилья  \n",
      "3   267628.550329              дополнительное образование  \n",
      "4   158616.077870                         сыграть свадьбу  \n",
      "5   255763.565419                           покупка жилья  \n",
      "6   240525.971920                       операции с жильем  \n",
      "7   135823.934197                             образование  \n",
      "8    95856.832424                   на проведение свадьбы  \n",
      "9   144425.938277                 покупка жилья для семьи  \n",
      "10  113943.491460                    покупка недвижимости  \n",
      "11   77069.234271       покупка коммерческой недвижимости  \n",
      "12            NaN                         сыграть свадьбу  \n",
      "13  130458.228857                 приобретение автомобиля  \n",
      "14  165127.911772              покупка жилой недвижимости  \n",
      "15  116820.904450  строительство собственной недвижимости  \n",
      "16  289202.704229                            недвижимость  \n",
      "17   90410.586745              строительство недвижимости  \n",
      "18   56823.777243      на покупку подержанного автомобиля  \n",
      "19  242831.107982            на покупку своего автомобиля  \n"
     ]
    }
   ],
   "source": [
    "print(data.head(20))"
   ]
  },
  {
   "cell_type": "markdown",
   "id": "c8f382ae",
   "metadata": {
    "deletable": false,
    "editable": false,
    "id": "c8f382ae",
    "tags": [
     "start_task"
    ]
   },
   "source": [
    "Выведем основную информацию о датафрейме с помощью метода `info()`."
   ]
  },
  {
   "cell_type": "code",
   "execution_count": 4,
   "id": "e1ed9908",
   "metadata": {
    "id": "e1ed9908"
   },
   "outputs": [
    {
     "name": "stdout",
     "output_type": "stream",
     "text": [
      "<class 'pandas.core.frame.DataFrame'>\n",
      "RangeIndex: 21525 entries, 0 to 21524\n",
      "Data columns (total 12 columns):\n",
      " #   Column            Non-Null Count  Dtype  \n",
      "---  ------            --------------  -----  \n",
      " 0   children          21525 non-null  int64  \n",
      " 1   days_employed     19351 non-null  float64\n",
      " 2   dob_years         21525 non-null  int64  \n",
      " 3   education         21525 non-null  object \n",
      " 4   education_id      21525 non-null  int64  \n",
      " 5   family_status     21525 non-null  object \n",
      " 6   family_status_id  21525 non-null  int64  \n",
      " 7   gender            21525 non-null  object \n",
      " 8   income_type       21525 non-null  object \n",
      " 9   debt              21525 non-null  int64  \n",
      " 10  total_income      19351 non-null  float64\n",
      " 11  purpose           21525 non-null  object \n",
      "dtypes: float64(2), int64(5), object(5)\n",
      "memory usage: 2.0+ MB\n",
      "None\n"
     ]
    }
   ],
   "source": [
    "print(data.info())"
   ]
  },
  {
   "cell_type": "markdown",
   "id": "f969a1cd",
   "metadata": {
    "deletable": false,
    "editable": false,
    "id": "f969a1cd"
   },
   "source": [
    "## Предобработка данных"
   ]
  },
  {
   "cell_type": "markdown",
   "id": "7283e864",
   "metadata": {
    "deletable": false,
    "editable": false,
    "id": "7283e864"
   },
   "source": [
    "### Удаление пропусков"
   ]
  },
  {
   "cell_type": "markdown",
   "id": "c9a0745e",
   "metadata": {
    "deletable": false,
    "editable": false,
    "id": "c9a0745e",
    "tags": [
     "start_task"
    ]
   },
   "source": [
    "Выведем количество пропущенных значений для каждого столбца. "
   ]
  },
  {
   "cell_type": "code",
   "execution_count": 5,
   "id": "b7a096e1",
   "metadata": {
    "id": "b7a096e1"
   },
   "outputs": [
    {
     "name": "stdout",
     "output_type": "stream",
     "text": [
      "children               0\n",
      "days_employed       2174\n",
      "dob_years              0\n",
      "education              0\n",
      "education_id           0\n",
      "family_status          0\n",
      "family_status_id       0\n",
      "gender                 0\n",
      "income_type            0\n",
      "debt                   0\n",
      "total_income        2174\n",
      "purpose                0\n",
      "dtype: int64\n"
     ]
    }
   ],
   "source": [
    "print(data.isna().sum())"
   ]
  },
  {
   "cell_type": "markdown",
   "id": "c2578616",
   "metadata": {
    "deletable": false,
    "editable": false,
    "id": "c2578616",
    "tags": [
     "start_task"
    ]
   },
   "source": [
    "В двух столбцах есть пропущенные значения. Один из них — `days_employed`. Другой столбец с пропущенными значениями — `total_income` — хранит данные о доходах. На сумму дохода сильнее всего влияет тип занятости, поэтому заполнить пропуски в этом столбце нужно медианным значением по каждому типу из столбца `income_type`. "
   ]
  },
  {
   "cell_type": "code",
   "execution_count": 6,
   "id": "e8afc4bc",
   "metadata": {
    "id": "e8afc4bc"
   },
   "outputs": [
    {
     "name": "stdout",
     "output_type": "stream",
     "text": [
      "       children  days_employed  dob_years education  education_id  \\\n",
      "0             1   -8437.673028         42    высшее             0   \n",
      "1             1   -4024.803754         36   среднее             1   \n",
      "2             0   -5623.422610         33   Среднее             1   \n",
      "3             3   -4124.747207         32   среднее             1   \n",
      "4             0  340266.072047         53   среднее             1   \n",
      "...         ...            ...        ...       ...           ...   \n",
      "21520         1   -4529.316663         43   среднее             1   \n",
      "21521         0  343937.404131         67   среднее             1   \n",
      "21522         1   -2113.346888         38   среднее             1   \n",
      "21523         3   -3112.481705         38   среднее             1   \n",
      "21524         2   -1984.507589         40   среднее             1   \n",
      "\n",
      "          family_status  family_status_id gender income_type  debt  \\\n",
      "0       женат / замужем                 0      F   сотрудник     0   \n",
      "1       женат / замужем                 0      F   сотрудник     0   \n",
      "2       женат / замужем                 0      M   сотрудник     0   \n",
      "3       женат / замужем                 0      M   сотрудник     0   \n",
      "4      гражданский брак                 1      F   пенсионер     0   \n",
      "...                 ...               ...    ...         ...   ...   \n",
      "21520  гражданский брак                 1      F   компаньон     0   \n",
      "21521   женат / замужем                 0      F   пенсионер     0   \n",
      "21522  гражданский брак                 1      M   сотрудник     1   \n",
      "21523   женат / замужем                 0      M   сотрудник     1   \n",
      "21524   женат / замужем                 0      F   сотрудник     0   \n",
      "\n",
      "        total_income                       purpose  \n",
      "0      253875.639453                 покупка жилья  \n",
      "1      112080.014102       приобретение автомобиля  \n",
      "2      145885.952297                 покупка жилья  \n",
      "3      267628.550329    дополнительное образование  \n",
      "4      158616.077870               сыграть свадьбу  \n",
      "...              ...                           ...  \n",
      "21520  224791.862382             операции с жильем  \n",
      "21521  155999.806512          сделка с автомобилем  \n",
      "21522   89672.561153                  недвижимость  \n",
      "21523  244093.050500  на покупку своего автомобиля  \n",
      "21524   82047.418899         на покупку автомобиля  \n",
      "\n",
      "[21525 rows x 12 columns]\n"
     ]
    }
   ],
   "source": [
    "# цикл для заполнения пропусков медианным значением\n",
    "for un in data['income_type'].unique():\n",
    "    data.loc[(data['income_type'] == un) & (data['total_income'].isna()), 'total_income'] = \\\n",
    "    data.loc[(data['income_type'] == un), 'total_income'].median()\n",
    "print(data)    \n"
   ]
  },
  {
   "cell_type": "markdown",
   "id": "ae986d46",
   "metadata": {
    "deletable": false,
    "editable": false,
    "id": "ae986d46"
   },
   "source": [
    "### Обработка аномальных значений"
   ]
  },
  {
   "cell_type": "markdown",
   "id": "b049cbae",
   "metadata": {
    "deletable": false,
    "editable": false,
    "id": "b049cbae",
    "tags": [
     "start_task"
    ]
   },
   "source": [
    "В данных могут встречаться артефакты (аномалии) — значения, которые не отражают действительность и появились по какой-то ошибке. Таким артефактом будет отрицательное количество дней трудового стажа в столбце `days_employed`. Замените все отрицательные значения положительными с помощью метода `abs()`."
   ]
  },
  {
   "cell_type": "code",
   "execution_count": 7,
   "id": "187779b0",
   "metadata": {
    "id": "187779b0"
   },
   "outputs": [],
   "source": [
    "data['days_employed'] = data['days_employed'].abs()"
   ]
  },
  {
   "cell_type": "markdown",
   "id": "a13054c2",
   "metadata": {
    "deletable": false,
    "editable": false,
    "id": "a13054c2",
    "tags": [
     "start_task"
    ]
   },
   "source": [
    "Для каждого типа занятости выведем медианное значение трудового стажа `days_employed` в днях."
   ]
  },
  {
   "cell_type": "code",
   "execution_count": 8,
   "id": "f3f5810c",
   "metadata": {
    "id": "f3f5810c"
   },
   "outputs": [
    {
     "data": {
      "text/plain": [
       "income_type\n",
       "безработный        366413.652744\n",
       "в декрете            3296.759962\n",
       "госслужащий          2689.368353\n",
       "компаньон            1547.382223\n",
       "пенсионер          365213.306266\n",
       "предприниматель       520.848083\n",
       "сотрудник            1574.202821\n",
       "студент               578.751554\n",
       "Name: days_employed, dtype: float64"
      ]
     },
     "execution_count": 8,
     "metadata": {},
     "output_type": "execute_result"
    }
   ],
   "source": [
    "\n",
    "data.groupby('income_type')['days_employed'].median()"
   ]
  },
  {
   "cell_type": "markdown",
   "id": "dbc3168c",
   "metadata": {
    "deletable": false,
    "editable": false,
    "id": "dbc3168c"
   },
   "source": [
    "У двух типов (безработные и пенсионеры) получатся аномально большие значения. Исправить такие значения сложно, поэтому оставим их как есть."
   ]
  },
  {
   "cell_type": "markdown",
   "id": "ff4378c2",
   "metadata": {
    "deletable": false,
    "editable": false,
    "id": "ff4378c2",
    "tags": [
     "start_task"
    ]
   },
   "source": [
    "Выведем перечень уникальных значений столбца `children`."
   ]
  },
  {
   "cell_type": "code",
   "execution_count": 9,
   "id": "9bd0c232",
   "metadata": {
    "id": "9bd0c232"
   },
   "outputs": [
    {
     "data": {
      "text/plain": [
       "array([ 1,  0,  3,  2, -1,  4, 20,  5])"
      ]
     },
     "execution_count": 9,
     "metadata": {},
     "output_type": "execute_result"
    }
   ],
   "source": [
    "\n",
    "data['children'].unique()"
   ]
  },
  {
   "cell_type": "markdown",
   "id": "8e911990",
   "metadata": {
    "deletable": false,
    "editable": false,
    "id": "8e911990",
    "tags": [
     "start_task"
    ]
   },
   "source": [
    "В столбце `children` есть два аномальных значения. Удалим строки, в которых встречаются такие аномальные значения из датафрейма `data`."
   ]
  },
  {
   "cell_type": "code",
   "execution_count": 10,
   "id": "6d5ba289",
   "metadata": {
    "id": "6d5ba289"
   },
   "outputs": [],
   "source": [
    "\n",
    "data = data[~data['children'].isin([-1, 20])]"
   ]
  },
  {
   "cell_type": "markdown",
   "id": "18d77455",
   "metadata": {
    "deletable": false,
    "editable": false,
    "id": "18d77455",
    "tags": [
     "start_task"
    ]
   },
   "source": [
    "Ещё раз выведем перечень уникальных значений столбца `children`, чтобы убедиться, что артефакты удалены."
   ]
  },
  {
   "cell_type": "code",
   "execution_count": 11,
   "id": "2c5fa92c",
   "metadata": {
    "id": "2c5fa92c"
   },
   "outputs": [
    {
     "data": {
      "text/plain": [
       "array([1, 0, 3, 2, 4, 5])"
      ]
     },
     "execution_count": 11,
     "metadata": {},
     "output_type": "execute_result"
    }
   ],
   "source": [
    "\n",
    "data['children'].unique()"
   ]
  },
  {
   "cell_type": "markdown",
   "id": "0ec07dee",
   "metadata": {
    "deletable": false,
    "editable": false,
    "id": "0ec07dee"
   },
   "source": [
    "### Удаление пропусков (продолжение)"
   ]
  },
  {
   "cell_type": "markdown",
   "id": "0fc3ae3f",
   "metadata": {
    "deletable": false,
    "editable": false,
    "id": "0fc3ae3f",
    "tags": [
     "start_task"
    ]
   },
   "source": [
    "Заполним пропуски в столбце `days_employed` медианными значениями по каждому типу занятости `income_type`."
   ]
  },
  {
   "cell_type": "code",
   "execution_count": 12,
   "id": "e2aea7ac",
   "metadata": {
    "id": "e2aea7ac"
   },
   "outputs": [
    {
     "name": "stdout",
     "output_type": "stream",
     "text": [
      "       children  days_employed  dob_years education  education_id  \\\n",
      "0             1    8437.673028         42    высшее             0   \n",
      "1             1    4024.803754         36   среднее             1   \n",
      "2             0    5623.422610         33   Среднее             1   \n",
      "3             3    4124.747207         32   среднее             1   \n",
      "4             0  340266.072047         53   среднее             1   \n",
      "...         ...            ...        ...       ...           ...   \n",
      "21520         1    4529.316663         43   среднее             1   \n",
      "21521         0  343937.404131         67   среднее             1   \n",
      "21522         1    2113.346888         38   среднее             1   \n",
      "21523         3    3112.481705         38   среднее             1   \n",
      "21524         2    1984.507589         40   среднее             1   \n",
      "\n",
      "          family_status  family_status_id gender income_type  debt  \\\n",
      "0       женат / замужем                 0      F   сотрудник     0   \n",
      "1       женат / замужем                 0      F   сотрудник     0   \n",
      "2       женат / замужем                 0      M   сотрудник     0   \n",
      "3       женат / замужем                 0      M   сотрудник     0   \n",
      "4      гражданский брак                 1      F   пенсионер     0   \n",
      "...                 ...               ...    ...         ...   ...   \n",
      "21520  гражданский брак                 1      F   компаньон     0   \n",
      "21521   женат / замужем                 0      F   пенсионер     0   \n",
      "21522  гражданский брак                 1      M   сотрудник     1   \n",
      "21523   женат / замужем                 0      M   сотрудник     1   \n",
      "21524   женат / замужем                 0      F   сотрудник     0   \n",
      "\n",
      "        total_income                       purpose  \n",
      "0      253875.639453                 покупка жилья  \n",
      "1      112080.014102       приобретение автомобиля  \n",
      "2      145885.952297                 покупка жилья  \n",
      "3      267628.550329    дополнительное образование  \n",
      "4      158616.077870               сыграть свадьбу  \n",
      "...              ...                           ...  \n",
      "21520  224791.862382             операции с жильем  \n",
      "21521  155999.806512          сделка с автомобилем  \n",
      "21522   89672.561153                  недвижимость  \n",
      "21523  244093.050500  на покупку своего автомобиля  \n",
      "21524   82047.418899         на покупку автомобиля  \n",
      "\n",
      "[21402 rows x 12 columns]\n"
     ]
    }
   ],
   "source": [
    "# Цикл для замены значений медианой\n",
    "for un in data['income_type'].unique():\n",
    "    data.loc[(data['income_type'] == un) & (data['days_employed'].isna()), 'days_employed'] = \\\n",
    "    data.loc[(data['income_type'] == un), 'days_employed'].median()\n",
    "print(data)    "
   ]
  },
  {
   "cell_type": "markdown",
   "id": "97b0b795",
   "metadata": {
    "deletable": false,
    "editable": false,
    "id": "97b0b795",
    "tags": [
     "start_task"
    ]
   },
   "source": [
    "Убедимся, что все пропуски заполнены. "
   ]
  },
  {
   "cell_type": "code",
   "execution_count": 13,
   "id": "79632a21",
   "metadata": {
    "id": "79632a21"
   },
   "outputs": [
    {
     "data": {
      "text/plain": [
       "children            0\n",
       "days_employed       0\n",
       "dob_years           0\n",
       "education           0\n",
       "education_id        0\n",
       "family_status       0\n",
       "family_status_id    0\n",
       "gender              0\n",
       "income_type         0\n",
       "debt                0\n",
       "total_income        0\n",
       "purpose             0\n",
       "dtype: int64"
      ]
     },
     "execution_count": 13,
     "metadata": {},
     "output_type": "execute_result"
    }
   ],
   "source": [
    "\n",
    "data.isna().sum()"
   ]
  },
  {
   "cell_type": "markdown",
   "id": "bd4aeb20",
   "metadata": {
    "deletable": false,
    "editable": false,
    "id": "bd4aeb20"
   },
   "source": [
    "### Изменение типов данных"
   ]
  },
  {
   "cell_type": "markdown",
   "id": "963bfa58",
   "metadata": {
    "deletable": false,
    "editable": false,
    "id": "963bfa58",
    "tags": [
     "start_task"
    ]
   },
   "source": [
    "Заменим вещественный тип данных в столбце `total_income` на целочисленный с помощью метода `astype()`."
   ]
  },
  {
   "cell_type": "code",
   "execution_count": 14,
   "id": "73da6ea0",
   "metadata": {
    "id": "73da6ea0"
   },
   "outputs": [],
   "source": [
    "\n",
    "data['total_income'] = data['total_income'].astype('int')"
   ]
  },
  {
   "cell_type": "markdown",
   "id": "d290239e",
   "metadata": {
    "deletable": false,
    "editable": false,
    "id": "d290239e"
   },
   "source": [
    "### Обработка дубликатов"
   ]
  },
  {
   "cell_type": "markdown",
   "id": "1b5844fd",
   "metadata": {
    "deletable": false,
    "editable": false,
    "id": "1b5844fd",
    "tags": [
     "start_task"
    ]
   },
   "source": [
    "Обработаем неявные дубликаты в столбце `education`. В этом столбце есть одни и те же значения, но записанные по-разному: с использованием заглавных и строчных букв. Приведем их к нижнему регистру."
   ]
  },
  {
   "cell_type": "code",
   "execution_count": 15,
   "id": "3f2504b3",
   "metadata": {
    "id": "3f2504b3",
    "scrolled": true
   },
   "outputs": [],
   "source": [
    "\n",
    "data['education'] = data['education'].str.lower()"
   ]
  },
  {
   "cell_type": "markdown",
   "id": "4c22acbc",
   "metadata": {
    "deletable": false,
    "editable": false,
    "id": "4c22acbc",
    "tags": [
     "start_task"
    ]
   },
   "source": [
    "Выведем на экран количество строк-дубликатов в данных. Если такие строки присутствуют, удалим их."
   ]
  },
  {
   "cell_type": "code",
   "execution_count": 16,
   "id": "d34a4325",
   "metadata": {
    "id": "d34a4325"
   },
   "outputs": [
    {
     "data": {
      "text/plain": [
       "71"
      ]
     },
     "execution_count": 16,
     "metadata": {},
     "output_type": "execute_result"
    }
   ],
   "source": [
    "# счет дубликатов\n",
    "data.duplicated().sum()"
   ]
  },
  {
   "cell_type": "code",
   "execution_count": 17,
   "id": "6e1a6499",
   "metadata": {
    "id": "6e1a6499"
   },
   "outputs": [],
   "source": [
    "# удаление дубликатов\n",
    "data = data.drop_duplicates()"
   ]
  },
  {
   "cell_type": "markdown",
   "id": "e5686ccc",
   "metadata": {
    "deletable": false,
    "editable": false,
    "id": "e5686ccc"
   },
   "source": [
    "### Категоризация данных"
   ]
  },
  {
   "cell_type": "markdown",
   "id": "636e9acd",
   "metadata": {
    "deletable": false,
    "editable": false,
    "id": "636e9acd",
    "tags": [
     "start_task"
    ]
   },
   "source": [
    "На основании диапазонов, указанных ниже, создадим в датафрейме `data` столбец `total_income_category` с категориями:\n",
    "\n",
    "- 0–30000 — `'E'`;\n",
    "- 30001–50000 — `'D'`;\n",
    "- 50001–200000 — `'C'`;\n",
    "- 200001–1000000 — `'B'`;\n",
    "- 1000001 и выше — `'A'`.\n",
    "\n",
    "\n",
    "Напишем функцию с именем `categorize_income()` и метод `apply()`."
   ]
  },
  {
   "cell_type": "code",
   "execution_count": 18,
   "id": "880a77e5",
   "metadata": {
    "id": "880a77e5"
   },
   "outputs": [],
   "source": [
    "# объявление функции categorize_income()\n",
    "def categorize_income(row):\n",
    "    category = row['total_income']\n",
    "    if category <= 30000:\n",
    "        return 'E'\n",
    "    if 30001 <= category <= 50000:\n",
    "        return 'D'\n",
    "    if 50001 <= category <= 200000:\n",
    "        return 'C'\n",
    "    if 200001 <= category <= 1000000:\n",
    "        return 'B'\n",
    "    return 'A'\n",
    "    "
   ]
  },
  {
   "cell_type": "code",
   "execution_count": 19,
   "id": "6f25f161",
   "metadata": {
    "id": "6f25f161"
   },
   "outputs": [],
   "source": [
    "# применим функцию методом apply()\n",
    "data['total_income_category'] = data.apply(categorize_income, axis=1)\n",
    "    "
   ]
  },
  {
   "cell_type": "markdown",
   "id": "3363b685",
   "metadata": {
    "deletable": false,
    "editable": false,
    "id": "3363b685",
    "tags": [
     "start_task"
    ]
   },
   "source": [
    "Выведем на экран перечень уникальных целей взятия кредита из столбца `purpose`."
   ]
  },
  {
   "cell_type": "code",
   "execution_count": 20,
   "id": "e59f2c15",
   "metadata": {
    "id": "e59f2c15"
   },
   "outputs": [
    {
     "data": {
      "text/plain": [
       "array(['покупка жилья', 'приобретение автомобиля',\n",
       "       'дополнительное образование', 'сыграть свадьбу',\n",
       "       'операции с жильем', 'образование', 'на проведение свадьбы',\n",
       "       'покупка жилья для семьи', 'покупка недвижимости',\n",
       "       'покупка коммерческой недвижимости', 'покупка жилой недвижимости',\n",
       "       'строительство собственной недвижимости', 'недвижимость',\n",
       "       'строительство недвижимости', 'на покупку подержанного автомобиля',\n",
       "       'на покупку своего автомобиля',\n",
       "       'операции с коммерческой недвижимостью',\n",
       "       'строительство жилой недвижимости', 'жилье',\n",
       "       'операции со своей недвижимостью', 'автомобили',\n",
       "       'заняться образованием', 'сделка с подержанным автомобилем',\n",
       "       'получение образования', 'автомобиль', 'свадьба',\n",
       "       'получение дополнительного образования', 'покупка своего жилья',\n",
       "       'операции с недвижимостью', 'получение высшего образования',\n",
       "       'свой автомобиль', 'сделка с автомобилем',\n",
       "       'профильное образование', 'высшее образование',\n",
       "       'покупка жилья для сдачи', 'на покупку автомобиля', 'ремонт жилью',\n",
       "       'заняться высшим образованием'], dtype=object)"
      ]
     },
     "execution_count": 20,
     "metadata": {},
     "output_type": "execute_result"
    }
   ],
   "source": [
    "\n",
    "data['purpose'].unique()"
   ]
  },
  {
   "cell_type": "markdown",
   "id": "bb33e847",
   "metadata": {
    "deletable": false,
    "editable": false,
    "id": "bb33e847",
    "tags": [
     "start_task"
    ]
   },
   "source": [
    "Создадим функцию, которая на основании данных из столбца `purpose` сформирует новый столбец `purpose_category`, в который войдут следующие категории:\n",
    "\n",
    "- `'операции с автомобилем'`,\n",
    "- `'операции с недвижимостью'`,\n",
    "- `'проведение свадьбы'`,\n",
    "- `'получение образования'`.\n",
    "\n",
    "\n",
    "Создадим функцию с именем `categorize_purpose()` и метод `apply()`. Изучим данные в столбце `purpose` и определим, какие подстроки помогут вам правильно определить категорию."
   ]
  },
  {
   "cell_type": "code",
   "execution_count": 21,
   "id": "63909b83",
   "metadata": {
    "id": "63909b83"
   },
   "outputs": [],
   "source": [
    "# объявление функции categorize_purpose()\n",
    "def categorize_purpose(purpose):\n",
    "    if 'авто' in purpose:\n",
    "        return 'операции с автомобилем'\n",
    "    if ('жиль' in purpose) or ('движ' in purpose):\n",
    "        return 'операции с недвижимостью'\n",
    "    if 'свадь' in purpose:\n",
    "        return 'проведение свадьбы'\n",
    "    return 'получение образования'\n",
    "    "
   ]
  },
  {
   "cell_type": "code",
   "execution_count": 22,
   "id": "7cb4a81d",
   "metadata": {
    "id": "7cb4a81d"
   },
   "outputs": [],
   "source": [
    "# применим функцию методом apply()\n",
    "data['purpose_category'] = data['purpose'].apply(categorize_purpose)"
   ]
  }
 ],
 "metadata": {
  "ExecuteTimeLog": [
   {
    "duration": 61,
    "start_time": "2023-01-16T19:45:42.586Z"
   },
   {
    "duration": 7,
    "start_time": "2023-01-16T19:46:35.405Z"
   },
   {
    "duration": 6,
    "start_time": "2023-01-16T19:46:49.634Z"
   },
   {
    "duration": 407,
    "start_time": "2023-01-16T19:46:52.746Z"
   },
   {
    "duration": 281,
    "start_time": "2023-01-16T19:46:54.991Z"
   },
   {
    "duration": 10,
    "start_time": "2023-01-16T19:47:06.867Z"
   },
   {
    "duration": 18,
    "start_time": "2023-01-16T19:47:32.513Z"
   },
   {
    "duration": 29,
    "start_time": "2023-01-16T19:50:41.002Z"
   },
   {
    "duration": 36,
    "start_time": "2023-01-16T19:51:39.591Z"
   },
   {
    "duration": 10,
    "start_time": "2023-01-16T19:53:56.201Z"
   },
   {
    "duration": 10,
    "start_time": "2023-01-16T19:56:33.145Z"
   },
   {
    "duration": 338,
    "start_time": "2023-01-17T16:31:51.798Z"
   },
   {
    "duration": 275,
    "start_time": "2023-01-17T16:31:52.892Z"
   },
   {
    "duration": 9,
    "start_time": "2023-01-17T16:31:57.034Z"
   },
   {
    "duration": 15,
    "start_time": "2023-01-17T16:32:03.992Z"
   },
   {
    "duration": 63,
    "start_time": "2023-01-17T16:33:40.594Z"
   },
   {
    "duration": 10,
    "start_time": "2023-01-17T16:33:50.226Z"
   },
   {
    "duration": 11,
    "start_time": "2023-01-17T16:37:30.640Z"
   },
   {
    "duration": 12,
    "start_time": "2023-01-17T16:39:50.902Z"
   },
   {
    "duration": 11,
    "start_time": "2023-01-17T16:51:37.303Z"
   },
   {
    "duration": 10,
    "start_time": "2023-01-17T16:52:25.058Z"
   },
   {
    "duration": 21,
    "start_time": "2023-01-17T17:36:22.094Z"
   },
   {
    "duration": 28,
    "start_time": "2023-01-17T17:36:47.400Z"
   },
   {
    "duration": 25,
    "start_time": "2023-01-17T17:38:45.620Z"
   },
   {
    "duration": 40,
    "start_time": "2023-01-17T17:41:09.104Z"
   },
   {
    "duration": 38,
    "start_time": "2023-01-17T17:51:04.489Z"
   },
   {
    "duration": 39,
    "start_time": "2023-01-17T17:54:55.877Z"
   },
   {
    "duration": 38,
    "start_time": "2023-01-17T17:56:07.266Z"
   },
   {
    "duration": 43,
    "start_time": "2023-01-17T17:56:26.852Z"
   },
   {
    "duration": 38,
    "start_time": "2023-01-17T17:56:52.995Z"
   },
   {
    "duration": 12,
    "start_time": "2023-01-17T18:08:59.471Z"
   },
   {
    "duration": 3,
    "start_time": "2023-01-17T18:16:19.343Z"
   },
   {
    "duration": 3,
    "start_time": "2023-01-17T18:16:21.601Z"
   },
   {
    "duration": 6,
    "start_time": "2023-01-17T18:16:27.401Z"
   },
   {
    "duration": 5,
    "start_time": "2023-01-17T18:19:24.652Z"
   },
   {
    "duration": 7,
    "start_time": "2023-01-17T18:20:10.203Z"
   },
   {
    "duration": 5,
    "start_time": "2023-01-17T18:26:04.981Z"
   },
   {
    "duration": 47,
    "start_time": "2023-01-17T18:27:05.062Z"
   },
   {
    "duration": 65,
    "start_time": "2023-01-17T18:27:14.474Z"
   },
   {
    "duration": 10,
    "start_time": "2023-01-17T18:27:41.012Z"
   },
   {
    "duration": 9,
    "start_time": "2023-01-17T18:28:01.367Z"
   },
   {
    "duration": 6,
    "start_time": "2023-01-17T18:39:46.164Z"
   },
   {
    "duration": 7,
    "start_time": "2023-01-17T18:40:23.492Z"
   },
   {
    "duration": 7,
    "start_time": "2023-01-17T18:40:33.969Z"
   },
   {
    "duration": 6,
    "start_time": "2023-01-17T18:40:38.018Z"
   },
   {
    "duration": 6,
    "start_time": "2023-01-17T18:45:26.679Z"
   },
   {
    "duration": 5,
    "start_time": "2023-01-17T18:45:55.128Z"
   },
   {
    "duration": 5,
    "start_time": "2023-01-17T18:46:58.112Z"
   },
   {
    "duration": 9,
    "start_time": "2023-01-17T18:47:21.983Z"
   },
   {
    "duration": 10,
    "start_time": "2023-01-17T18:47:31.708Z"
   },
   {
    "duration": 12,
    "start_time": "2023-01-17T18:48:07.075Z"
   },
   {
    "duration": 12,
    "start_time": "2023-01-17T18:48:15.466Z"
   },
   {
    "duration": 13,
    "start_time": "2023-01-17T18:48:24.229Z"
   },
   {
    "duration": 7,
    "start_time": "2023-01-17T18:49:11.206Z"
   },
   {
    "duration": 6,
    "start_time": "2023-01-17T18:49:20.204Z"
   },
   {
    "duration": 7,
    "start_time": "2023-01-17T18:49:34.203Z"
   },
   {
    "duration": 7,
    "start_time": "2023-01-17T18:49:44.924Z"
   },
   {
    "duration": 15,
    "start_time": "2023-01-17T18:51:12.776Z"
   },
   {
    "duration": 14,
    "start_time": "2023-01-17T18:51:30.960Z"
   },
   {
    "duration": 355,
    "start_time": "2023-01-18T13:07:45.082Z"
   },
   {
    "duration": 133,
    "start_time": "2023-01-18T13:07:45.439Z"
   },
   {
    "duration": 9,
    "start_time": "2023-01-18T13:07:45.573Z"
   },
   {
    "duration": 18,
    "start_time": "2023-01-18T13:07:45.584Z"
   },
   {
    "duration": 7,
    "start_time": "2023-01-18T13:07:45.604Z"
   },
   {
    "duration": 51,
    "start_time": "2023-01-18T13:07:45.612Z"
   },
   {
    "duration": 3,
    "start_time": "2023-01-18T13:07:45.665Z"
   },
   {
    "duration": 33,
    "start_time": "2023-01-18T13:07:45.669Z"
   },
   {
    "duration": 8,
    "start_time": "2023-01-18T13:07:45.704Z"
   },
   {
    "duration": 14,
    "start_time": "2023-01-18T13:07:45.713Z"
   },
   {
    "duration": 20,
    "start_time": "2023-01-18T13:07:45.731Z"
   },
   {
    "duration": 13,
    "start_time": "2023-01-18T13:07:45.752Z"
   },
   {
    "duration": 10,
    "start_time": "2023-01-18T13:07:45.766Z"
   },
   {
    "duration": 12,
    "start_time": "2023-01-18T13:07:45.779Z"
   },
   {
    "duration": 16,
    "start_time": "2023-01-18T13:07:45.792Z"
   },
   {
    "duration": 26,
    "start_time": "2023-01-18T13:07:45.809Z"
   },
   {
    "duration": 7,
    "start_time": "2023-01-18T13:07:45.837Z"
   },
   {
    "duration": 19,
    "start_time": "2023-01-18T13:07:45.845Z"
   },
   {
    "duration": 14,
    "start_time": "2023-01-18T13:07:45.865Z"
   },
   {
    "duration": 11,
    "start_time": "2023-01-18T13:07:45.880Z"
   },
   {
    "duration": 13,
    "start_time": "2023-01-18T13:07:45.892Z"
   },
   {
    "duration": 58,
    "start_time": "2023-01-18T13:07:45.907Z"
   },
   {
    "duration": 6,
    "start_time": "2023-01-18T13:08:15.877Z"
   },
   {
    "duration": 13,
    "start_time": "2023-01-18T13:08:43.664Z"
   },
   {
    "duration": 66,
    "start_time": "2023-01-18T13:09:29.254Z"
   },
   {
    "duration": 9,
    "start_time": "2023-01-18T13:09:51.661Z"
   },
   {
    "duration": 3,
    "start_time": "2023-01-18T13:12:22.653Z"
   },
   {
    "duration": 4,
    "start_time": "2023-01-18T13:12:40.006Z"
   },
   {
    "duration": 10,
    "start_time": "2023-01-18T13:15:55.409Z"
   },
   {
    "duration": 13,
    "start_time": "2023-01-18T13:16:59.096Z"
   },
   {
    "duration": 15,
    "start_time": "2023-01-18T13:17:43.476Z"
   },
   {
    "duration": 17,
    "start_time": "2023-01-18T13:18:41.882Z"
   },
   {
    "duration": 9,
    "start_time": "2023-01-18T13:18:48.879Z"
   },
   {
    "duration": 14,
    "start_time": "2023-01-18T13:21:09.890Z"
   },
   {
    "duration": 10,
    "start_time": "2023-01-18T13:21:18.620Z"
   },
   {
    "duration": 9,
    "start_time": "2023-01-18T13:22:10.760Z"
   },
   {
    "duration": 7,
    "start_time": "2023-01-18T13:22:35.535Z"
   },
   {
    "duration": 7,
    "start_time": "2023-01-18T13:24:10.835Z"
   },
   {
    "duration": 8,
    "start_time": "2023-01-18T13:29:29.331Z"
   },
   {
    "duration": 9,
    "start_time": "2023-01-18T13:33:17.439Z"
   },
   {
    "duration": 10,
    "start_time": "2023-01-18T13:33:42.782Z"
   },
   {
    "duration": 16,
    "start_time": "2023-01-18T13:37:44.086Z"
   },
   {
    "duration": 10,
    "start_time": "2023-01-18T13:38:17.031Z"
   },
   {
    "duration": 8,
    "start_time": "2023-01-18T13:38:58.524Z"
   },
   {
    "duration": 11,
    "start_time": "2023-01-18T13:39:02.677Z"
   },
   {
    "duration": 413,
    "start_time": "2023-01-18T13:39:13.869Z"
   },
   {
    "duration": 70,
    "start_time": "2023-01-18T13:39:14.284Z"
   },
   {
    "duration": 9,
    "start_time": "2023-01-18T13:39:14.355Z"
   },
   {
    "duration": 22,
    "start_time": "2023-01-18T13:39:14.366Z"
   },
   {
    "duration": 13,
    "start_time": "2023-01-18T13:39:14.390Z"
   },
   {
    "duration": 46,
    "start_time": "2023-01-18T13:39:14.404Z"
   },
   {
    "duration": 4,
    "start_time": "2023-01-18T13:39:14.451Z"
   },
   {
    "duration": 28,
    "start_time": "2023-01-18T13:39:14.456Z"
   },
   {
    "duration": 16,
    "start_time": "2023-01-18T13:39:14.485Z"
   },
   {
    "duration": 28,
    "start_time": "2023-01-18T13:39:14.502Z"
   },
   {
    "duration": 2,
    "start_time": "2023-01-18T13:39:14.532Z"
   },
   {
    "duration": 7,
    "start_time": "2023-01-18T13:39:14.536Z"
   },
   {
    "duration": 4,
    "start_time": "2023-01-18T13:39:14.545Z"
   },
   {
    "duration": 4,
    "start_time": "2023-01-18T13:39:14.551Z"
   },
   {
    "duration": 7,
    "start_time": "2023-01-18T13:39:14.556Z"
   },
   {
    "duration": 16,
    "start_time": "2023-01-18T13:39:14.564Z"
   },
   {
    "duration": 22,
    "start_time": "2023-01-18T13:39:14.581Z"
   },
   {
    "duration": 14,
    "start_time": "2023-01-18T13:39:14.604Z"
   },
   {
    "duration": 5,
    "start_time": "2023-01-18T13:39:14.620Z"
   },
   {
    "duration": 8,
    "start_time": "2023-01-18T13:39:14.626Z"
   },
   {
    "duration": 10,
    "start_time": "2023-01-18T13:39:14.635Z"
   },
   {
    "duration": 13,
    "start_time": "2023-01-18T13:39:14.647Z"
   },
   {
    "duration": 27,
    "start_time": "2023-01-18T13:39:49.801Z"
   },
   {
    "duration": 4,
    "start_time": "2023-01-18T13:41:40.736Z"
   },
   {
    "duration": 65,
    "start_time": "2023-01-18T13:42:46.501Z"
   },
   {
    "duration": 6,
    "start_time": "2023-01-18T13:45:16.549Z"
   },
   {
    "duration": 5,
    "start_time": "2023-01-18T13:45:29.577Z"
   },
   {
    "duration": 1203,
    "start_time": "2023-01-18T13:48:11.124Z"
   },
   {
    "duration": 1213,
    "start_time": "2023-01-18T13:48:33.900Z"
   },
   {
    "duration": 16,
    "start_time": "2023-01-18T13:49:00.237Z"
   },
   {
    "duration": 1221,
    "start_time": "2023-01-18T13:51:27.024Z"
   },
   {
    "duration": 39,
    "start_time": "2023-01-18T13:51:42.814Z"
   },
   {
    "duration": 9,
    "start_time": "2023-01-18T13:54:54.788Z"
   },
   {
    "duration": 3,
    "start_time": "2023-01-18T13:57:27.681Z"
   },
   {
    "duration": 12,
    "start_time": "2023-01-18T14:00:15.612Z"
   },
   {
    "duration": 45,
    "start_time": "2023-01-18T14:02:30.949Z"
   },
   {
    "duration": 16,
    "start_time": "2023-01-18T14:02:54.600Z"
   },
   {
    "duration": 9,
    "start_time": "2023-01-18T14:03:58.801Z"
   },
   {
    "duration": 7,
    "start_time": "2023-01-18T14:04:37.161Z"
   },
   {
    "duration": 16,
    "start_time": "2023-01-18T14:05:07.996Z"
   },
   {
    "duration": 17,
    "start_time": "2023-01-18T14:05:56.996Z"
   },
   {
    "duration": 9,
    "start_time": "2023-01-18T14:06:11.790Z"
   },
   {
    "duration": 8,
    "start_time": "2023-01-18T14:07:28.931Z"
   },
   {
    "duration": 13,
    "start_time": "2023-01-18T14:07:37.087Z"
   },
   {
    "duration": 950,
    "start_time": "2023-01-18T14:08:04.909Z"
   },
   {
    "duration": 1064,
    "start_time": "2023-01-18T15:07:37.452Z"
   },
   {
    "duration": 1186,
    "start_time": "2023-01-18T15:08:48.397Z"
   },
   {
    "duration": 1441,
    "start_time": "2023-01-18T15:17:04.915Z"
   },
   {
    "duration": 1026,
    "start_time": "2023-01-18T15:17:08.961Z"
   },
   {
    "duration": 388,
    "start_time": "2023-01-18T15:17:24.154Z"
   },
   {
    "duration": 77,
    "start_time": "2023-01-18T15:17:24.544Z"
   },
   {
    "duration": 10,
    "start_time": "2023-01-18T15:17:24.625Z"
   },
   {
    "duration": 16,
    "start_time": "2023-01-18T15:17:24.637Z"
   },
   {
    "duration": 7,
    "start_time": "2023-01-18T15:17:24.655Z"
   },
   {
    "duration": 63,
    "start_time": "2023-01-18T15:17:24.664Z"
   },
   {
    "duration": 3,
    "start_time": "2023-01-18T15:17:24.729Z"
   },
   {
    "duration": 31,
    "start_time": "2023-01-18T15:17:24.733Z"
   },
   {
    "duration": 5,
    "start_time": "2023-01-18T15:17:24.765Z"
   },
   {
    "duration": 19,
    "start_time": "2023-01-18T15:17:24.771Z"
   },
   {
    "duration": 47,
    "start_time": "2023-01-18T15:17:24.791Z"
   },
   {
    "duration": 55,
    "start_time": "2023-01-18T15:17:24.840Z"
   },
   {
    "duration": 19,
    "start_time": "2023-01-18T15:17:24.897Z"
   },
   {
    "duration": 15,
    "start_time": "2023-01-18T15:17:24.920Z"
   },
   {
    "duration": 16,
    "start_time": "2023-01-18T15:17:24.936Z"
   },
   {
    "duration": 9,
    "start_time": "2023-01-18T15:17:24.953Z"
   },
   {
    "duration": 7,
    "start_time": "2023-01-18T15:17:24.964Z"
   },
   {
    "duration": 47,
    "start_time": "2023-01-18T15:17:24.973Z"
   },
   {
    "duration": 13,
    "start_time": "2023-01-18T15:17:25.023Z"
   },
   {
    "duration": 15,
    "start_time": "2023-01-18T15:17:25.039Z"
   },
   {
    "duration": 13,
    "start_time": "2023-01-18T15:17:25.056Z"
   },
   {
    "duration": 49,
    "start_time": "2023-01-18T15:17:25.070Z"
   },
   {
    "duration": 6,
    "start_time": "2023-01-18T15:17:53.911Z"
   },
   {
    "duration": 75,
    "start_time": "2023-01-18T15:19:27.812Z"
   },
   {
    "duration": 10,
    "start_time": "2023-01-18T15:19:46.503Z"
   },
   {
    "duration": 8,
    "start_time": "2023-01-18T15:20:46.818Z"
   },
   {
    "duration": 9,
    "start_time": "2023-01-18T15:21:16.116Z"
   },
   {
    "duration": 7,
    "start_time": "2023-01-18T15:21:24.515Z"
   },
   {
    "duration": 5,
    "start_time": "2023-01-18T15:21:57.116Z"
   },
   {
    "duration": 5,
    "start_time": "2023-01-18T15:22:44.641Z"
   },
   {
    "duration": 7,
    "start_time": "2023-01-18T15:23:19.429Z"
   },
   {
    "duration": 11,
    "start_time": "2023-01-18T15:23:59.506Z"
   },
   {
    "duration": 9,
    "start_time": "2023-01-18T15:24:15.111Z"
   },
   {
    "duration": 5,
    "start_time": "2023-01-18T15:24:20.369Z"
   },
   {
    "duration": 8,
    "start_time": "2023-01-18T15:25:05.570Z"
   },
   {
    "duration": 5,
    "start_time": "2023-01-18T15:25:08.136Z"
   },
   {
    "duration": 5,
    "start_time": "2023-01-18T15:25:14.123Z"
   },
   {
    "duration": 433,
    "start_time": "2023-01-18T15:33:02.996Z"
   },
   {
    "duration": 76,
    "start_time": "2023-01-18T15:33:03.431Z"
   },
   {
    "duration": 12,
    "start_time": "2023-01-18T15:33:03.508Z"
   },
   {
    "duration": 33,
    "start_time": "2023-01-18T15:33:03.522Z"
   },
   {
    "duration": 18,
    "start_time": "2023-01-18T15:33:03.557Z"
   },
   {
    "duration": 83,
    "start_time": "2023-01-18T15:33:03.577Z"
   },
   {
    "duration": 3,
    "start_time": "2023-01-18T15:33:03.661Z"
   },
   {
    "duration": 18,
    "start_time": "2023-01-18T15:33:03.666Z"
   },
   {
    "duration": 63,
    "start_time": "2023-01-18T15:33:03.685Z"
   },
   {
    "duration": 67,
    "start_time": "2023-01-18T15:33:03.750Z"
   },
   {
    "duration": 27,
    "start_time": "2023-01-18T15:33:03.819Z"
   },
   {
    "duration": 86,
    "start_time": "2023-01-18T15:33:03.848Z"
   },
   {
    "duration": 30,
    "start_time": "2023-01-18T15:33:03.936Z"
   },
   {
    "duration": 52,
    "start_time": "2023-01-18T15:33:03.968Z"
   },
   {
    "duration": 38,
    "start_time": "2023-01-18T15:33:04.022Z"
   },
   {
    "duration": 23,
    "start_time": "2023-01-18T15:33:04.062Z"
   },
   {
    "duration": 48,
    "start_time": "2023-01-18T15:33:04.091Z"
   },
   {
    "duration": 10,
    "start_time": "2023-01-18T15:33:04.141Z"
   },
   {
    "duration": 10,
    "start_time": "2023-01-18T15:33:04.153Z"
   },
   {
    "duration": 17,
    "start_time": "2023-01-18T15:33:04.164Z"
   },
   {
    "duration": 34,
    "start_time": "2023-01-18T15:33:04.183Z"
   },
   {
    "duration": 12,
    "start_time": "2023-01-18T15:33:04.219Z"
   },
   {
    "duration": 79,
    "start_time": "2023-01-18T15:33:17.423Z"
   },
   {
    "duration": 28,
    "start_time": "2023-01-18T15:39:25.977Z"
   },
   {
    "duration": 8,
    "start_time": "2023-01-18T15:42:27.608Z"
   },
   {
    "duration": 9,
    "start_time": "2023-01-18T15:42:54.821Z"
   },
   {
    "duration": 7,
    "start_time": "2023-01-18T15:43:09.048Z"
   },
   {
    "duration": 7,
    "start_time": "2023-01-18T15:54:27.954Z"
   },
   {
    "duration": 393,
    "start_time": "2023-01-18T15:54:46.273Z"
   },
   {
    "duration": 94,
    "start_time": "2023-01-18T15:54:46.668Z"
   },
   {
    "duration": 9,
    "start_time": "2023-01-18T15:54:46.763Z"
   },
   {
    "duration": 19,
    "start_time": "2023-01-18T15:54:46.774Z"
   },
   {
    "duration": 23,
    "start_time": "2023-01-18T15:54:46.800Z"
   },
   {
    "duration": 38,
    "start_time": "2023-01-18T15:54:46.825Z"
   },
   {
    "duration": 2,
    "start_time": "2023-01-18T15:54:46.865Z"
   },
   {
    "duration": 17,
    "start_time": "2023-01-18T15:54:46.869Z"
   },
   {
    "duration": 10,
    "start_time": "2023-01-18T15:54:46.891Z"
   },
   {
    "duration": 24,
    "start_time": "2023-01-18T15:54:46.902Z"
   },
   {
    "duration": 9,
    "start_time": "2023-01-18T15:54:46.928Z"
   },
   {
    "duration": 43,
    "start_time": "2023-01-18T15:54:46.938Z"
   },
   {
    "duration": 12,
    "start_time": "2023-01-18T15:54:46.982Z"
   },
   {
    "duration": 32,
    "start_time": "2023-01-18T15:54:47.004Z"
   },
   {
    "duration": 24,
    "start_time": "2023-01-18T15:54:47.037Z"
   },
   {
    "duration": 15,
    "start_time": "2023-01-18T15:54:47.063Z"
   },
   {
    "duration": 13,
    "start_time": "2023-01-18T15:54:47.080Z"
   },
   {
    "duration": 22,
    "start_time": "2023-01-18T15:54:47.099Z"
   },
   {
    "duration": 5,
    "start_time": "2023-01-18T15:54:47.123Z"
   },
   {
    "duration": 7,
    "start_time": "2023-01-18T15:54:47.130Z"
   },
   {
    "duration": 11,
    "start_time": "2023-01-18T15:54:47.139Z"
   },
   {
    "duration": 10,
    "start_time": "2023-01-18T15:54:47.151Z"
   },
   {
    "duration": 4,
    "start_time": "2023-01-18T15:54:53.877Z"
   },
   {
    "duration": 6,
    "start_time": "2023-01-18T15:57:17.050Z"
   },
   {
    "duration": 7,
    "start_time": "2023-01-18T15:57:23.212Z"
   },
   {
    "duration": 6,
    "start_time": "2023-01-18T15:57:41.408Z"
   },
   {
    "duration": 5,
    "start_time": "2023-01-18T15:57:50.642Z"
   },
   {
    "duration": 70,
    "start_time": "2023-01-18T16:01:34.761Z"
   },
   {
    "duration": 9,
    "start_time": "2023-01-18T16:02:11.856Z"
   },
   {
    "duration": 8,
    "start_time": "2023-01-18T16:02:42.181Z"
   },
   {
    "duration": 5,
    "start_time": "2023-01-18T16:03:07.613Z"
   },
   {
    "duration": 10,
    "start_time": "2023-01-18T16:12:37.435Z"
   },
   {
    "duration": 4,
    "start_time": "2023-01-18T16:12:42.039Z"
   },
   {
    "duration": 5,
    "start_time": "2023-01-18T16:12:44.407Z"
   },
   {
    "duration": 17,
    "start_time": "2023-01-18T16:13:02.579Z"
   },
   {
    "duration": 4,
    "start_time": "2023-01-18T16:13:09.916Z"
   },
   {
    "duration": 12,
    "start_time": "2023-01-18T16:13:13.203Z"
   },
   {
    "duration": 4,
    "start_time": "2023-01-18T16:13:45.109Z"
   },
   {
    "duration": 867,
    "start_time": "2023-01-18T16:14:01.092Z"
   },
   {
    "duration": 873,
    "start_time": "2023-01-18T16:14:16.537Z"
   },
   {
    "duration": 896,
    "start_time": "2023-01-18T16:14:29.990Z"
   },
   {
    "duration": 849,
    "start_time": "2023-01-18T16:14:41.505Z"
   },
   {
    "duration": 374,
    "start_time": "2023-01-18T16:14:51.223Z"
   },
   {
    "duration": 69,
    "start_time": "2023-01-18T16:14:51.599Z"
   },
   {
    "duration": 11,
    "start_time": "2023-01-18T16:14:51.669Z"
   },
   {
    "duration": 37,
    "start_time": "2023-01-18T16:14:51.682Z"
   },
   {
    "duration": 11,
    "start_time": "2023-01-18T16:14:51.720Z"
   },
   {
    "duration": 42,
    "start_time": "2023-01-18T16:14:51.733Z"
   },
   {
    "duration": 4,
    "start_time": "2023-01-18T16:14:51.776Z"
   },
   {
    "duration": 34,
    "start_time": "2023-01-18T16:14:51.781Z"
   },
   {
    "duration": 20,
    "start_time": "2023-01-18T16:14:51.816Z"
   },
   {
    "duration": 12,
    "start_time": "2023-01-18T16:14:51.839Z"
   },
   {
    "duration": 13,
    "start_time": "2023-01-18T16:14:51.852Z"
   },
   {
    "duration": 58,
    "start_time": "2023-01-18T16:14:51.867Z"
   },
   {
    "duration": 10,
    "start_time": "2023-01-18T16:14:51.926Z"
   },
   {
    "duration": 6,
    "start_time": "2023-01-18T16:14:51.937Z"
   },
   {
    "duration": 20,
    "start_time": "2023-01-18T16:14:51.945Z"
   },
   {
    "duration": 19,
    "start_time": "2023-01-18T16:14:51.967Z"
   },
   {
    "duration": 9,
    "start_time": "2023-01-18T16:14:51.987Z"
   },
   {
    "duration": 11,
    "start_time": "2023-01-18T16:14:51.997Z"
   },
   {
    "duration": 7,
    "start_time": "2023-01-18T16:14:52.009Z"
   },
   {
    "duration": 17,
    "start_time": "2023-01-18T16:14:52.017Z"
   },
   {
    "duration": 9,
    "start_time": "2023-01-18T16:14:52.035Z"
   },
   {
    "duration": 14,
    "start_time": "2023-01-18T16:14:52.046Z"
   },
   {
    "duration": 62,
    "start_time": "2023-01-18T16:15:57.500Z"
   },
   {
    "duration": 7,
    "start_time": "2023-01-18T16:16:00.754Z"
   },
   {
    "duration": 8,
    "start_time": "2023-01-18T16:16:13.864Z"
   },
   {
    "duration": 6,
    "start_time": "2023-01-18T16:16:20.957Z"
   },
   {
    "duration": 8,
    "start_time": "2023-01-18T16:16:43.182Z"
   },
   {
    "duration": 8,
    "start_time": "2023-01-18T16:17:05.525Z"
   },
   {
    "duration": 7,
    "start_time": "2023-01-18T16:17:11.401Z"
   },
   {
    "duration": 6,
    "start_time": "2023-01-18T16:18:41.163Z"
   },
   {
    "duration": 7,
    "start_time": "2023-01-18T16:18:49.726Z"
   },
   {
    "duration": 5,
    "start_time": "2023-01-18T16:19:24.009Z"
   },
   {
    "duration": 11,
    "start_time": "2023-01-18T16:19:25.842Z"
   },
   {
    "duration": 5,
    "start_time": "2023-01-18T16:25:11.372Z"
   },
   {
    "duration": 26,
    "start_time": "2023-01-18T17:05:16.624Z"
   },
   {
    "duration": 37,
    "start_time": "2023-01-18T17:05:23.676Z"
   },
   {
    "duration": 21,
    "start_time": "2023-01-18T17:05:51.210Z"
   },
   {
    "duration": 1086,
    "start_time": "2023-01-18T17:21:07.909Z"
   },
   {
    "duration": 4,
    "start_time": "2023-01-18T17:21:11.145Z"
   },
   {
    "duration": 1125,
    "start_time": "2023-01-18T17:21:47.288Z"
   },
   {
    "duration": 1093,
    "start_time": "2023-01-18T17:22:13.982Z"
   },
   {
    "duration": 1154,
    "start_time": "2023-01-18T17:22:58.868Z"
   },
   {
    "duration": 1171,
    "start_time": "2023-01-18T17:40:21.911Z"
   },
   {
    "duration": 3,
    "start_time": "2023-01-18T17:40:25.088Z"
   },
   {
    "duration": 122,
    "start_time": "2023-01-18T17:41:48.669Z"
   },
   {
    "duration": 6,
    "start_time": "2023-01-18T17:44:06.877Z"
   },
   {
    "duration": 5,
    "start_time": "2023-01-18T18:41:24.583Z"
   },
   {
    "duration": 12,
    "start_time": "2023-01-18T18:51:16.303Z"
   },
   {
    "duration": 3,
    "start_time": "2023-01-18T18:51:22.273Z"
   },
   {
    "duration": 8,
    "start_time": "2023-01-18T18:58:14.963Z"
   },
   {
    "duration": 351,
    "start_time": "2023-02-22T21:12:55.943Z"
   },
   {
    "duration": 132,
    "start_time": "2023-02-22T21:12:56.295Z"
   },
   {
    "duration": 14,
    "start_time": "2023-02-22T21:12:56.429Z"
   },
   {
    "duration": 25,
    "start_time": "2023-02-22T21:12:56.445Z"
   },
   {
    "duration": 11,
    "start_time": "2023-02-22T21:12:56.472Z"
   },
   {
    "duration": 65,
    "start_time": "2023-02-22T21:12:56.485Z"
   },
   {
    "duration": 4,
    "start_time": "2023-02-22T21:12:56.553Z"
   },
   {
    "duration": 22,
    "start_time": "2023-02-22T21:12:56.559Z"
   },
   {
    "duration": 24,
    "start_time": "2023-02-22T21:12:56.583Z"
   },
   {
    "duration": 9,
    "start_time": "2023-02-22T21:12:56.610Z"
   },
   {
    "duration": 5,
    "start_time": "2023-02-22T21:12:56.621Z"
   },
   {
    "duration": 40,
    "start_time": "2023-02-22T21:12:56.628Z"
   },
   {
    "duration": 34,
    "start_time": "2023-02-22T21:12:56.670Z"
   },
   {
    "duration": 5,
    "start_time": "2023-02-22T21:12:56.706Z"
   },
   {
    "duration": 19,
    "start_time": "2023-02-22T21:12:56.713Z"
   },
   {
    "duration": 22,
    "start_time": "2023-02-22T21:12:56.734Z"
   },
   {
    "duration": 47,
    "start_time": "2023-02-22T21:12:56.758Z"
   },
   {
    "duration": 6,
    "start_time": "2023-02-22T21:12:56.808Z"
   },
   {
    "duration": 184,
    "start_time": "2023-02-22T21:12:56.816Z"
   },
   {
    "duration": 5,
    "start_time": "2023-02-22T21:12:57.002Z"
   },
   {
    "duration": 5,
    "start_time": "2023-02-22T21:12:57.009Z"
   },
   {
    "duration": 10,
    "start_time": "2023-02-22T21:12:57.015Z"
   }
  ],
  "colab": {
   "provenance": []
  },
  "kernelspec": {
   "display_name": "Python 3 (ipykernel)",
   "language": "python",
   "name": "python3"
  },
  "language_info": {
   "codemirror_mode": {
    "name": "ipython",
    "version": 3
   },
   "file_extension": ".py",
   "mimetype": "text/x-python",
   "name": "python",
   "nbconvert_exporter": "python",
   "pygments_lexer": "ipython3",
   "version": "3.9.5"
  },
  "toc": {
   "base_numbering": 1,
   "nav_menu": {},
   "number_sections": true,
   "sideBar": true,
   "skip_h1_title": true,
   "title_cell": "Table of Contents",
   "title_sidebar": "Contents",
   "toc_cell": false,
   "toc_position": {},
   "toc_section_display": true,
   "toc_window_display": false
  }
 },
 "nbformat": 4,
 "nbformat_minor": 5
}
